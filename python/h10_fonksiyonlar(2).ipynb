{
 "cells": [
  {
   "cell_type": "markdown",
   "metadata": {},
   "source": [
    "### 11.7. Local ve Global değişkenler"
   ]
  },
  {
   "cell_type": "code",
   "execution_count": 6,
   "metadata": {},
   "outputs": [
    {
     "name": "stdout",
     "output_type": "stream",
     "text": [
      "1. a= 5\n",
      "sayi1= 3 , sayi2= 5\n"
     ]
    }
   ],
   "source": [
    "a=5\n",
    "print(\"1. a=\",a)\n",
    "\n",
    "def islem():\n",
    "    #print(\"2. a=\",a) #error, a degiskeni tanimlanmamis\n",
    "    a=2\n",
    "    a+=1\n",
    "    return a\n",
    "\n",
    "sayi1=islem()\n",
    "sayi2=a\n",
    "print(\"sayi1=\",sayi1,\", sayi2=\",sayi2)"
   ]
  },
  {
   "cell_type": "code",
   "execution_count": 3,
   "metadata": {},
   "outputs": [
    {
     "name": "stdout",
     "output_type": "stream",
     "text": [
      "1. a= 5\n",
      "2. a= 5\n",
      "sayi1= 3 , sayi2= 3\n"
     ]
    }
   ],
   "source": [
    "a=5 #global degisken \n",
    "print(\"1. a=\",a)\n",
    "\n",
    "def islem():\n",
    "    global a # burada globaldeki a degiskenini kullanmak istedigimizi soylemis oluyoruz\n",
    "    print(\"2. a=\",a)\n",
    "    a=2\n",
    "    a+=1\n",
    "    return a\n",
    "\n",
    "sayi1=islem()\n",
    "sayi2=a\n",
    "print(\"sayi1=\",sayi1,\", sayi2=\",sayi2)"
   ]
  },
  {
   "cell_type": "markdown",
   "metadata": {},
   "source": [
    "<b>Not:</b> diğer dillerden farklı olarak if ve while içinde oluşturulan değişkenler de global değişkenlermiş gibi değerlendirilir."
   ]
  },
  {
   "cell_type": "code",
   "execution_count": 4,
   "metadata": {},
   "outputs": [
    {
     "name": "stdout",
     "output_type": "stream",
     "text": [
      "20\n"
     ]
    }
   ],
   "source": [
    "sayi=5\n",
    "while sayi<10:\n",
    "    a=20\n",
    "    sayi+=1\n",
    "\n",
    "print(a)"
   ]
  },
  {
   "cell_type": "markdown",
   "metadata": {},
   "source": [
    "### 11.8. Lambda Fonksiyonları\n",
    "\n",
    "list comprehension'da olduğu gibi lambda fonksiyonları da fonksiyon oluşturmanın hızlı yoludur. Tekbir satırda fonksiyon oluşturmamızı sağlar. Kullanmak için;\n",
    "\n",
    "    etiket=lambda parametre1,parametre2,... : islem"
   ]
  },
  {
   "cell_type": "code",
   "execution_count": 7,
   "metadata": {},
   "outputs": [],
   "source": [
    "def topla(a,b):\n",
    "    return a+b\n",
    "\n",
    "\n",
    "topla2=lambda a,b : a+b"
   ]
  },
  {
   "cell_type": "code",
   "execution_count": 8,
   "metadata": {},
   "outputs": [
    {
     "name": "stdout",
     "output_type": "stream",
     "text": [
      "5\n",
      "5\n"
     ]
    }
   ],
   "source": [
    "print(topla(2,3))\n",
    "print(topla2(2,3))"
   ]
  },
  {
   "cell_type": "code",
   "execution_count": 9,
   "metadata": {},
   "outputs": [
    {
     "name": "stdout",
     "output_type": "stream",
     "text": [
      "True\n",
      "False\n",
      "True\n",
      "False\n"
     ]
    }
   ],
   "source": [
    "def ciftMi(sayi):\n",
    "    if sayi % 2==0:\n",
    "        return True\n",
    "    else:\n",
    "        return False\n",
    "\n",
    "ciftMi2=lambda sayi : sayi%2==0\n",
    "\n",
    "print(ciftMi(2))\n",
    "print(ciftMi(3))\n",
    "print(ciftMi2(2))\n",
    "print(ciftMi2(3))"
   ]
  },
  {
   "cell_type": "markdown",
   "metadata": {},
   "source": [
    "### 11.9. Fonksiyon Örnekleri"
   ]
  },
  {
   "cell_type": "markdown",
   "metadata": {},
   "source": [
    "#### 11.9.1. asal sayı bul (fonksiyon), ikisayi arasındaki asallar (önceki fonksiyonu çağırarak)"
   ]
  },
  {
   "cell_type": "code",
   "execution_count": null,
   "metadata": {},
   "outputs": [],
   "source": []
  },
  {
   "cell_type": "markdown",
   "metadata": {},
   "source": [
    "#### 11.9.2. arkadaş sayı bul (fonksiyon), ikisayi arasındaki arkadaş sayılar (önceki fonksiyonu çağırarak)"
   ]
  },
  {
   "cell_type": "code",
   "execution_count": null,
   "metadata": {},
   "outputs": [],
   "source": []
  },
  {
   "cell_type": "markdown",
   "metadata": {},
   "source": [
    "#### 11.9.3. mükemmel sayı bul (fonksiyon), ikisayi arasındaki mükemmel sayılar (önceki fonksiyonu çağırarak)"
   ]
  },
  {
   "cell_type": "code",
   "execution_count": null,
   "metadata": {},
   "outputs": [],
   "source": []
  },
  {
   "cell_type": "markdown",
   "metadata": {},
   "source": [
    "#### 11.9.4. gönderilen bir listenin sıralanması (fonksiyon)"
   ]
  },
  {
   "cell_type": "code",
   "execution_count": null,
   "metadata": {},
   "outputs": [],
   "source": []
  },
  {
   "cell_type": "markdown",
   "metadata": {},
   "source": [
    "#### 11.9.5. gönderilen bir sayının, gönderilen bir sırali listede aranması (fonksiyon)"
   ]
  },
  {
   "cell_type": "code",
   "execution_count": null,
   "metadata": {},
   "outputs": [],
   "source": []
  }
 ],
 "metadata": {
  "kernelspec": {
   "display_name": "Python 3",
   "language": "python",
   "name": "python3"
  },
  "language_info": {
   "codemirror_mode": {
    "name": "ipython",
    "version": 3
   },
   "file_extension": ".py",
   "mimetype": "text/x-python",
   "name": "python",
   "nbconvert_exporter": "python",
   "pygments_lexer": "ipython3",
   "version": "3.7.6"
  }
 },
 "nbformat": 4,
 "nbformat_minor": 4
}
