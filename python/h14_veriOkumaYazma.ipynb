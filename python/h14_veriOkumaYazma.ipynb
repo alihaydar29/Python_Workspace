{
 "cells": [
  {
   "cell_type": "markdown",
   "id": "a05a36ce",
   "metadata": {},
   "source": [
    "# 1. Veri Okuma - Yazma İşlemleri\n",
    "\n",
    "## 1.1. os Modülü ve Dosya - Dizin İşlemleri\n"
   ]
  },
  {
   "cell_type": "code",
   "execution_count": 3,
   "id": "a884b632",
   "metadata": {},
   "outputs": [
    {
     "data": {
      "text/plain": [
       "'C:\\\\Users\\\\User\\\\OneDrive - duzce.edu.tr\\\\2021-2022\\\\bahar\\\\dersNotlari\\\\2020-2021bahar_siberGuvenlikicinBetikDiller'"
      ]
     },
     "execution_count": 3,
     "metadata": {},
     "output_type": "execute_result"
    }
   ],
   "source": [
    "import os\n",
    "os.getcwd()"
   ]
  },
  {
   "cell_type": "code",
   "execution_count": 4,
   "id": "53cb4d84",
   "metadata": {},
   "outputs": [],
   "source": [
    "os.chdir('c:\\\\') # gecerli dizini degistirir\n",
    "os.chdir('C:\\\\Users\\\\User\\\\OneDrive - duzce.edu.tr\\\\2021-2022\\\\bahar\\\\dersNotlari\\\\2020-2021bahar_siberGuvenlikicinBetikDiller')"
   ]
  },
  {
   "cell_type": "code",
   "execution_count": 5,
   "id": "7f19f3e2",
   "metadata": {},
   "outputs": [
    {
     "data": {
      "text/plain": [
       "['.ipynb_checkpoints',\n",
       " 'benimModulumDeneme1.py',\n",
       " 'h01_giris_jupyterNotebook.ipynb',\n",
       " 'h02_VeriTipleri(Devam).ipynb',\n",
       " 'h03_listeler_demetler_sozlukler.ipynb',\n",
       " 'h04_kosullar_donguler (1).ipynb',\n",
       " 'h05_donguler(2).ipynb',\n",
       " 'h06_ornekUygulamalar.ipynb',\n",
       " 'h07_ornekUygulamalar2.ipynb',\n",
       " 'h08_Fonksiyonlar.ipynb',\n",
       " 'h10_fonksiyonlar(2).ipynb',\n",
       " 'h10_Moduller.ipynb',\n",
       " 'h11_nesneTabanliProgramlama.ipynb',\n",
       " 'h12_hatalarIstisnalar.ipynb',\n",
       " 'h12_nesneTabanliProgramlama(devam).ipynb',\n",
       " 'h13_bilgiler.txt',\n",
       " 'h13_dosyaIslemleri.ipynb',\n",
       " 'h13_dosyaIslemOrnek.txt',\n",
       " 'h14_veriOkumaYazma.ipynb',\n",
       " '__pycache__']"
      ]
     },
     "execution_count": 5,
     "metadata": {},
     "output_type": "execute_result"
    }
   ],
   "source": [
    "os.listdir()"
   ]
  },
  {
   "cell_type": "code",
   "execution_count": 6,
   "id": "9d650210",
   "metadata": {},
   "outputs": [
    {
     "ename": "FileNotFoundError",
     "evalue": "[WinError 2] Sistem belirtilen dosyayı bulamıyor: 'dosyaismi.txt'",
     "output_type": "error",
     "traceback": [
      "\u001b[1;31m---------------------------------------------------------------------------\u001b[0m",
      "\u001b[1;31mFileNotFoundError\u001b[0m                         Traceback (most recent call last)",
      "\u001b[1;32m~\\AppData\\Local\\Temp/ipykernel_4688/1463441395.py\u001b[0m in \u001b[0;36m<module>\u001b[1;34m\u001b[0m\n\u001b[1;32m----> 1\u001b[1;33m \u001b[0mos\u001b[0m\u001b[1;33m.\u001b[0m\u001b[0mremove\u001b[0m\u001b[1;33m(\u001b[0m\u001b[1;34m'dosyaismi.txt'\u001b[0m\u001b[1;33m)\u001b[0m\u001b[1;33m\u001b[0m\u001b[1;33m\u001b[0m\u001b[0m\n\u001b[0m\u001b[0;32m      2\u001b[0m \u001b[0mos\u001b[0m\u001b[1;33m.\u001b[0m\u001b[0mmkdir\u001b[0m\u001b[1;33m(\u001b[0m\u001b[1;34m'bosKlasor'\u001b[0m\u001b[1;33m)\u001b[0m\u001b[1;33m\u001b[0m\u001b[1;33m\u001b[0m\u001b[0m\n\u001b[0;32m      3\u001b[0m \u001b[0mos\u001b[0m\u001b[1;33m.\u001b[0m\u001b[0mrename\u001b[0m\u001b[1;33m(\u001b[0m\u001b[1;34m'yeniBosKlasor'\u001b[0m\u001b[1;33m)\u001b[0m\u001b[1;33m\u001b[0m\u001b[1;33m\u001b[0m\u001b[0m\n",
      "\u001b[1;31mFileNotFoundError\u001b[0m: [WinError 2] Sistem belirtilen dosyayı bulamıyor: 'dosyaismi.txt'"
     ]
    }
   ],
   "source": [
    "os.remove('dosyaismi.txt')\n",
    "os.mkdir('bosKlasor')\n",
    "os.rename('yeniBosKlasor')"
   ]
  },
  {
   "cell_type": "code",
   "execution_count": 8,
   "id": "f7e153dc",
   "metadata": {},
   "outputs": [
    {
     "data": {
      "text/plain": [
       "False"
      ]
     },
     "execution_count": 8,
     "metadata": {},
     "output_type": "execute_result"
    }
   ],
   "source": [
    "os.path.isfile('dosyaismi.txt')\n",
    "os.path.isdir('klasorIsmi')\n",
    "os.path.basename('dosyaYolu.../dosyaismi.txt') #dosya ismini verir 'dosyaismi.txt'\n",
    "os.path.exists('dosyaismi.txt')"
   ]
  },
  {
   "cell_type": "code",
   "execution_count": 9,
   "id": "376cdea6",
   "metadata": {},
   "outputs": [
    {
     "data": {
      "text/plain": [
       "('', 'dosyaismi.txt')"
      ]
     },
     "execution_count": 9,
     "metadata": {},
     "output_type": "execute_result"
    }
   ],
   "source": [
    "os.path.split(\"dosyaismi.txt\") #dosya adi ve yolunu ayirir"
   ]
  },
  {
   "cell_type": "code",
   "execution_count": 10,
   "id": "a4d84b35",
   "metadata": {},
   "outputs": [
    {
     "data": {
      "text/plain": [
       "('dosyaismi', '.txt')"
      ]
     },
     "execution_count": 10,
     "metadata": {},
     "output_type": "execute_result"
    }
   ],
   "source": [
    "os.path.splitext(\"dosyaismi.txt\")"
   ]
  },
  {
   "cell_type": "markdown",
   "id": "8b01c2a6",
   "metadata": {},
   "source": [
    "## 1.2. csv Modülü ve csv dosya okuma yazma"
   ]
  },
  {
   "cell_type": "code",
   "execution_count": 12,
   "id": "3adee203",
   "metadata": {},
   "outputs": [],
   "source": [
    "#csv modülünü import et\n",
    "import csv\n",
    "#yeni kayıtlar dizisi\n",
    "yeniKayit=[[\"291;AMP9ABİ;ALİ AKSU ;ARDA AKSU;(545) 229-4921\"],\n",
    "            [\"303;AMP9ABİ;CAN OK ;BAYRAM OK;(542) 222-4424\"] ]\n",
    "#'rehber.csv' dosyasını ekleme amaçlı aç\n",
    "with open('rehber.csv', 'a', newline='') as f:\n",
    "    ekleDosya = csv.writer(f)           #ekleDosya isimli writer nesnesi tanımlandı\n",
    "    ekleDosya.writerows( yeniKayit )    #ekleDosya'ya yeni kayıtlar yazıldı"
   ]
  },
  {
   "cell_type": "code",
   "execution_count": 13,
   "id": "083c950a",
   "metadata": {},
   "outputs": [
    {
     "name": "stdout",
     "output_type": "stream",
     "text": [
      "291;AMP9ABİ;ALİ AKSU ;ARDA AKSU;(545) 229-4921\n",
      "303;AMP9ABİ;CAN OK ;BAYRAM OK;(542) 222-4424\n"
     ]
    }
   ],
   "source": [
    "import csv\n",
    "#f ile temsil edilen 'rehber.csv' dosyasını aç\n",
    "with open('rehber.csv', 'r', newline='') as f:\n",
    "    #dosyadaki ',' ile ayrılmış her bir veriyi okuDosya değişkeninde tut\n",
    "    okuDosya = csv.reader(f, delimiter=',')\n",
    "    #okuDosya'daki her bir veriyi ekrana yaz\n",
    "    for satir in okuDosya:\n",
    "        print(', '.join(satir))"
   ]
  },
  {
   "cell_type": "markdown",
   "id": "d26ca046",
   "metadata": {},
   "source": [
    "## 1.3. json Modülü, Pandas kütüphanesi ve json dosya okuma yazma"
   ]
  },
  {
   "cell_type": "code",
   "execution_count": 14,
   "id": "71bb0434",
   "metadata": {},
   "outputs": [
    {
     "name": "stdout",
     "output_type": "stream",
     "text": [
      "kayıt sayısı.:  2\n",
      "il adı.:  Adana\n",
      "plakası.:  01\n",
      "il adı.:  Erzincan\n",
      "plakası.:  24\n"
     ]
    }
   ],
   "source": [
    "import json\n",
    "#json formatına dönüşebilecek veri\n",
    "#sözlük yapısına benzer şekilde tasarlanır\n",
    "veri = '''[\n",
    "    {\"plaka\" : \"01\",\n",
    "    \"il\" : \"Adana\"\n",
    "    },\n",
    "    {\"plaka\": \"24\",\n",
    "    \"il\" : \"Erzincan\"\n",
    "    }\n",
    "    ]'''\n",
    "#'.loads' metodu ile veri, JSON formatına dönüştürülür\n",
    "veriJS = json.loads(veri)\n",
    "#JSON formatındaki verinin kayıt sayısı\n",
    "print (\"kayıt sayısı.: \", len(veriJS))\n",
    "#JSON formatındaki veriden belli değerler alınabilir\n",
    "for i in veriJS:\n",
    "    print (\"il adı.: \", i['il'])\n",
    "    print (\"plakası.: \", i['plaka'])"
   ]
  },
  {
   "cell_type": "code",
   "execution_count": 15,
   "id": "acd8a3ae",
   "metadata": {},
   "outputs": [
    {
     "name": "stdout",
     "output_type": "stream",
     "text": [
      "      il\n",
      "0  bursa\n",
      "1   bolu\n",
      "2   ordu\n"
     ]
    }
   ],
   "source": [
    "import pandas as pd\n",
    "veri = {'il' :['bursa','bolu','ordu'],\n",
    "        'plk':[16, 14, 52 ]}\n",
    "df = pd.DataFrame(veri) #dataframe'e dönüştür\n",
    "df.to_csv('veri.csv')   #'veri.csv' dosyasında sakla\n",
    "print (df[['il']])      #sadece il sütununu listele"
   ]
  },
  {
   "cell_type": "code",
   "execution_count": 47,
   "id": "f3932cff",
   "metadata": {},
   "outputs": [],
   "source": [
    "import pandas as pd\n",
    "import numpy\n",
    "webSayfa= \"http://python-data.dr-chuck.net/comments_42.json\"\n",
    "df=pd.read_json(webSayfa)\n"
   ]
  },
  {
   "cell_type": "code",
   "execution_count": 53,
   "id": "598bdedb",
   "metadata": {},
   "outputs": [
    {
     "data": {
      "text/html": [
       "<div>\n",
       "<style scoped>\n",
       "    .dataframe tbody tr th:only-of-type {\n",
       "        vertical-align: middle;\n",
       "    }\n",
       "\n",
       "    .dataframe tbody tr th {\n",
       "        vertical-align: top;\n",
       "    }\n",
       "\n",
       "    .dataframe thead th {\n",
       "        text-align: right;\n",
       "    }\n",
       "</style>\n",
       "<table border=\"1\" class=\"dataframe\">\n",
       "  <thead>\n",
       "    <tr style=\"text-align: right;\">\n",
       "      <th></th>\n",
       "      <th>note</th>\n",
       "      <th>comments</th>\n",
       "    </tr>\n",
       "  </thead>\n",
       "  <tbody>\n",
       "    <tr>\n",
       "      <th>0</th>\n",
       "      <td>This file contains the sample data for testing</td>\n",
       "      <td>{'name': 'Romina', 'count': 97}</td>\n",
       "    </tr>\n",
       "    <tr>\n",
       "      <th>1</th>\n",
       "      <td>This file contains the sample data for testing</td>\n",
       "      <td>{'name': 'Laurie', 'count': 97}</td>\n",
       "    </tr>\n",
       "    <tr>\n",
       "      <th>2</th>\n",
       "      <td>This file contains the sample data for testing</td>\n",
       "      <td>{'name': 'Bayli', 'count': 90}</td>\n",
       "    </tr>\n",
       "  </tbody>\n",
       "</table>\n",
       "</div>"
      ],
      "text/plain": [
       "                                             note  \\\n",
       "0  This file contains the sample data for testing   \n",
       "1  This file contains the sample data for testing   \n",
       "2  This file contains the sample data for testing   \n",
       "\n",
       "                          comments  \n",
       "0  {'name': 'Romina', 'count': 97}  \n",
       "1  {'name': 'Laurie', 'count': 97}  \n",
       "2   {'name': 'Bayli', 'count': 90}  "
      ]
     },
     "execution_count": 53,
     "metadata": {},
     "output_type": "execute_result"
    }
   ],
   "source": [
    "df.head(3)"
   ]
  },
  {
   "cell_type": "code",
   "execution_count": 54,
   "id": "8ac0fc1f",
   "metadata": {},
   "outputs": [],
   "source": [
    "df2 = pd.json_normalize(df[\"comments\"])"
   ]
  },
  {
   "cell_type": "code",
   "execution_count": 55,
   "id": "36dd3863",
   "metadata": {},
   "outputs": [
    {
     "data": {
      "text/html": [
       "<div>\n",
       "<style scoped>\n",
       "    .dataframe tbody tr th:only-of-type {\n",
       "        vertical-align: middle;\n",
       "    }\n",
       "\n",
       "    .dataframe tbody tr th {\n",
       "        vertical-align: top;\n",
       "    }\n",
       "\n",
       "    .dataframe thead th {\n",
       "        text-align: right;\n",
       "    }\n",
       "</style>\n",
       "<table border=\"1\" class=\"dataframe\">\n",
       "  <thead>\n",
       "    <tr style=\"text-align: right;\">\n",
       "      <th></th>\n",
       "      <th>name</th>\n",
       "      <th>count</th>\n",
       "    </tr>\n",
       "  </thead>\n",
       "  <tbody>\n",
       "    <tr>\n",
       "      <th>0</th>\n",
       "      <td>Romina</td>\n",
       "      <td>97</td>\n",
       "    </tr>\n",
       "    <tr>\n",
       "      <th>1</th>\n",
       "      <td>Laurie</td>\n",
       "      <td>97</td>\n",
       "    </tr>\n",
       "    <tr>\n",
       "      <th>2</th>\n",
       "      <td>Bayli</td>\n",
       "      <td>90</td>\n",
       "    </tr>\n",
       "  </tbody>\n",
       "</table>\n",
       "</div>"
      ],
      "text/plain": [
       "     name  count\n",
       "0  Romina     97\n",
       "1  Laurie     97\n",
       "2   Bayli     90"
      ]
     },
     "execution_count": 55,
     "metadata": {},
     "output_type": "execute_result"
    }
   ],
   "source": [
    "df2.head(3)"
   ]
  },
  {
   "cell_type": "code",
   "execution_count": 56,
   "id": "5bd359ab",
   "metadata": {},
   "outputs": [],
   "source": [
    "df.to_json('dosyaAdi.json')"
   ]
  },
  {
   "cell_type": "markdown",
   "id": "4851192a",
   "metadata": {},
   "source": [
    "## 1.4. excel dosya okuma - yazma"
   ]
  },
  {
   "cell_type": "code",
   "execution_count": 58,
   "id": "60b713f1",
   "metadata": {
    "collapsed": true
   },
   "outputs": [
    {
     "ename": "FileNotFoundError",
     "evalue": "[Errno 2] No such file or directory: 'ilPlaka.xls'",
     "output_type": "error",
     "traceback": [
      "\u001b[1;31m---------------------------------------------------------------------------\u001b[0m",
      "\u001b[1;31mFileNotFoundError\u001b[0m                         Traceback (most recent call last)",
      "\u001b[1;32m~\\AppData\\Local\\Temp/ipykernel_4688/3352494477.py\u001b[0m in \u001b[0;36m<module>\u001b[1;34m\u001b[0m\n\u001b[0;32m      1\u001b[0m \u001b[1;32mimport\u001b[0m \u001b[0mpandas\u001b[0m\u001b[1;33m\u001b[0m\u001b[1;33m\u001b[0m\u001b[0m\n\u001b[1;32m----> 2\u001b[1;33m \u001b[0mf\u001b[0m \u001b[1;33m=\u001b[0m \u001b[0mpandas\u001b[0m\u001b[1;33m.\u001b[0m\u001b[0mread_excel\u001b[0m\u001b[1;33m(\u001b[0m\u001b[1;34m'ilPlaka.xls'\u001b[0m\u001b[1;33m)\u001b[0m \u001b[1;31m#dosyadan oku\u001b[0m\u001b[1;33m\u001b[0m\u001b[1;33m\u001b[0m\u001b[0m\n\u001b[0m\u001b[0;32m      3\u001b[0m \u001b[0mprint\u001b[0m\u001b[1;33m(\u001b[0m\u001b[0mf\u001b[0m\u001b[1;33m)\u001b[0m\u001b[1;33m\u001b[0m\u001b[1;33m\u001b[0m\u001b[0m\n\u001b[0;32m      4\u001b[0m \u001b[1;31m#aktif excel dosyasındaki çalışma sayfaları\u001b[0m\u001b[1;33m\u001b[0m\u001b[1;33m\u001b[0m\u001b[0m\n\u001b[0;32m      5\u001b[0m \u001b[0msayfa\u001b[0m \u001b[1;33m=\u001b[0m\u001b[0mpandas\u001b[0m\u001b[1;33m.\u001b[0m\u001b[0mExcelFile\u001b[0m\u001b[1;33m(\u001b[0m\u001b[1;34m'ilPlaka.xls'\u001b[0m\u001b[1;33m)\u001b[0m\u001b[1;33m\u001b[0m\u001b[1;33m\u001b[0m\u001b[0m\n",
      "\u001b[1;32m~\\anaconda3\\lib\\site-packages\\pandas\\util\\_decorators.py\u001b[0m in \u001b[0;36mwrapper\u001b[1;34m(*args, **kwargs)\u001b[0m\n\u001b[0;32m    309\u001b[0m                     \u001b[0mstacklevel\u001b[0m\u001b[1;33m=\u001b[0m\u001b[0mstacklevel\u001b[0m\u001b[1;33m,\u001b[0m\u001b[1;33m\u001b[0m\u001b[1;33m\u001b[0m\u001b[0m\n\u001b[0;32m    310\u001b[0m                 )\n\u001b[1;32m--> 311\u001b[1;33m             \u001b[1;32mreturn\u001b[0m \u001b[0mfunc\u001b[0m\u001b[1;33m(\u001b[0m\u001b[1;33m*\u001b[0m\u001b[0margs\u001b[0m\u001b[1;33m,\u001b[0m \u001b[1;33m**\u001b[0m\u001b[0mkwargs\u001b[0m\u001b[1;33m)\u001b[0m\u001b[1;33m\u001b[0m\u001b[1;33m\u001b[0m\u001b[0m\n\u001b[0m\u001b[0;32m    312\u001b[0m \u001b[1;33m\u001b[0m\u001b[0m\n\u001b[0;32m    313\u001b[0m         \u001b[1;32mreturn\u001b[0m \u001b[0mwrapper\u001b[0m\u001b[1;33m\u001b[0m\u001b[1;33m\u001b[0m\u001b[0m\n",
      "\u001b[1;32m~\\anaconda3\\lib\\site-packages\\pandas\\io\\excel\\_base.py\u001b[0m in \u001b[0;36mread_excel\u001b[1;34m(io, sheet_name, header, names, index_col, usecols, squeeze, dtype, engine, converters, true_values, false_values, skiprows, nrows, na_values, keep_default_na, na_filter, verbose, parse_dates, date_parser, thousands, comment, skipfooter, convert_float, mangle_dupe_cols, storage_options)\u001b[0m\n\u001b[0;32m    362\u001b[0m     \u001b[1;32mif\u001b[0m \u001b[1;32mnot\u001b[0m \u001b[0misinstance\u001b[0m\u001b[1;33m(\u001b[0m\u001b[0mio\u001b[0m\u001b[1;33m,\u001b[0m \u001b[0mExcelFile\u001b[0m\u001b[1;33m)\u001b[0m\u001b[1;33m:\u001b[0m\u001b[1;33m\u001b[0m\u001b[1;33m\u001b[0m\u001b[0m\n\u001b[0;32m    363\u001b[0m         \u001b[0mshould_close\u001b[0m \u001b[1;33m=\u001b[0m \u001b[1;32mTrue\u001b[0m\u001b[1;33m\u001b[0m\u001b[1;33m\u001b[0m\u001b[0m\n\u001b[1;32m--> 364\u001b[1;33m         \u001b[0mio\u001b[0m \u001b[1;33m=\u001b[0m \u001b[0mExcelFile\u001b[0m\u001b[1;33m(\u001b[0m\u001b[0mio\u001b[0m\u001b[1;33m,\u001b[0m \u001b[0mstorage_options\u001b[0m\u001b[1;33m=\u001b[0m\u001b[0mstorage_options\u001b[0m\u001b[1;33m,\u001b[0m \u001b[0mengine\u001b[0m\u001b[1;33m=\u001b[0m\u001b[0mengine\u001b[0m\u001b[1;33m)\u001b[0m\u001b[1;33m\u001b[0m\u001b[1;33m\u001b[0m\u001b[0m\n\u001b[0m\u001b[0;32m    365\u001b[0m     \u001b[1;32melif\u001b[0m \u001b[0mengine\u001b[0m \u001b[1;32mand\u001b[0m \u001b[0mengine\u001b[0m \u001b[1;33m!=\u001b[0m \u001b[0mio\u001b[0m\u001b[1;33m.\u001b[0m\u001b[0mengine\u001b[0m\u001b[1;33m:\u001b[0m\u001b[1;33m\u001b[0m\u001b[1;33m\u001b[0m\u001b[0m\n\u001b[0;32m    366\u001b[0m         raise ValueError(\n",
      "\u001b[1;32m~\\anaconda3\\lib\\site-packages\\pandas\\io\\excel\\_base.py\u001b[0m in \u001b[0;36m__init__\u001b[1;34m(self, path_or_buffer, engine, storage_options)\u001b[0m\n\u001b[0;32m   1189\u001b[0m                 \u001b[0mext\u001b[0m \u001b[1;33m=\u001b[0m \u001b[1;34m\"xls\"\u001b[0m\u001b[1;33m\u001b[0m\u001b[1;33m\u001b[0m\u001b[0m\n\u001b[0;32m   1190\u001b[0m             \u001b[1;32melse\u001b[0m\u001b[1;33m:\u001b[0m\u001b[1;33m\u001b[0m\u001b[1;33m\u001b[0m\u001b[0m\n\u001b[1;32m-> 1191\u001b[1;33m                 ext = inspect_excel_format(\n\u001b[0m\u001b[0;32m   1192\u001b[0m                     \u001b[0mcontent_or_path\u001b[0m\u001b[1;33m=\u001b[0m\u001b[0mpath_or_buffer\u001b[0m\u001b[1;33m,\u001b[0m \u001b[0mstorage_options\u001b[0m\u001b[1;33m=\u001b[0m\u001b[0mstorage_options\u001b[0m\u001b[1;33m\u001b[0m\u001b[1;33m\u001b[0m\u001b[0m\n\u001b[0;32m   1193\u001b[0m                 )\n",
      "\u001b[1;32m~\\anaconda3\\lib\\site-packages\\pandas\\io\\excel\\_base.py\u001b[0m in \u001b[0;36minspect_excel_format\u001b[1;34m(content_or_path, storage_options)\u001b[0m\n\u001b[0;32m   1068\u001b[0m         \u001b[0mcontent_or_path\u001b[0m \u001b[1;33m=\u001b[0m \u001b[0mBytesIO\u001b[0m\u001b[1;33m(\u001b[0m\u001b[0mcontent_or_path\u001b[0m\u001b[1;33m)\u001b[0m\u001b[1;33m\u001b[0m\u001b[1;33m\u001b[0m\u001b[0m\n\u001b[0;32m   1069\u001b[0m \u001b[1;33m\u001b[0m\u001b[0m\n\u001b[1;32m-> 1070\u001b[1;33m     with get_handle(\n\u001b[0m\u001b[0;32m   1071\u001b[0m         \u001b[0mcontent_or_path\u001b[0m\u001b[1;33m,\u001b[0m \u001b[1;34m\"rb\"\u001b[0m\u001b[1;33m,\u001b[0m \u001b[0mstorage_options\u001b[0m\u001b[1;33m=\u001b[0m\u001b[0mstorage_options\u001b[0m\u001b[1;33m,\u001b[0m \u001b[0mis_text\u001b[0m\u001b[1;33m=\u001b[0m\u001b[1;32mFalse\u001b[0m\u001b[1;33m\u001b[0m\u001b[1;33m\u001b[0m\u001b[0m\n\u001b[0;32m   1072\u001b[0m     ) as handle:\n",
      "\u001b[1;32m~\\anaconda3\\lib\\site-packages\\pandas\\io\\common.py\u001b[0m in \u001b[0;36mget_handle\u001b[1;34m(path_or_buf, mode, encoding, compression, memory_map, is_text, errors, storage_options)\u001b[0m\n\u001b[0;32m    709\u001b[0m         \u001b[1;32melse\u001b[0m\u001b[1;33m:\u001b[0m\u001b[1;33m\u001b[0m\u001b[1;33m\u001b[0m\u001b[0m\n\u001b[0;32m    710\u001b[0m             \u001b[1;31m# Binary mode\u001b[0m\u001b[1;33m\u001b[0m\u001b[1;33m\u001b[0m\u001b[0m\n\u001b[1;32m--> 711\u001b[1;33m             \u001b[0mhandle\u001b[0m \u001b[1;33m=\u001b[0m \u001b[0mopen\u001b[0m\u001b[1;33m(\u001b[0m\u001b[0mhandle\u001b[0m\u001b[1;33m,\u001b[0m \u001b[0mioargs\u001b[0m\u001b[1;33m.\u001b[0m\u001b[0mmode\u001b[0m\u001b[1;33m)\u001b[0m\u001b[1;33m\u001b[0m\u001b[1;33m\u001b[0m\u001b[0m\n\u001b[0m\u001b[0;32m    712\u001b[0m         \u001b[0mhandles\u001b[0m\u001b[1;33m.\u001b[0m\u001b[0mappend\u001b[0m\u001b[1;33m(\u001b[0m\u001b[0mhandle\u001b[0m\u001b[1;33m)\u001b[0m\u001b[1;33m\u001b[0m\u001b[1;33m\u001b[0m\u001b[0m\n\u001b[0;32m    713\u001b[0m \u001b[1;33m\u001b[0m\u001b[0m\n",
      "\u001b[1;31mFileNotFoundError\u001b[0m: [Errno 2] No such file or directory: 'ilPlaka.xls'"
     ]
    }
   ],
   "source": [
    "import pandas\n",
    "f = pandas.read_excel('ilPlaka.xls') #dosyadan oku\n",
    "print(f)\n",
    "#aktif excel dosyasındaki çalışma sayfaları\n",
    "sayfa =pandas.ExcelFile('ilPlaka.xls')\n",
    "print (sayfa.sheet_names)"
   ]
  },
  {
   "cell_type": "code",
   "execution_count": 59,
   "id": "29d40d4b",
   "metadata": {
    "collapsed": true
   },
   "outputs": [
    {
     "ename": "NameError",
     "evalue": "name 'sayfa' is not defined",
     "output_type": "error",
     "traceback": [
      "\u001b[1;31m---------------------------------------------------------------------------\u001b[0m",
      "\u001b[1;31mNameError\u001b[0m                                 Traceback (most recent call last)",
      "\u001b[1;32m~\\AppData\\Local\\Temp/ipykernel_4688/3110228658.py\u001b[0m in \u001b[0;36m<module>\u001b[1;34m\u001b[0m\n\u001b[1;32m----> 1\u001b[1;33m \u001b[0msayfa\u001b[0m\u001b[1;33m.\u001b[0m\u001b[0mto_excel\u001b[0m\u001b[1;33m(\u001b[0m\u001b[1;34m\"output.xlsx\"\u001b[0m\u001b[1;33m)\u001b[0m\u001b[1;33m\u001b[0m\u001b[1;33m\u001b[0m\u001b[0m\n\u001b[0m",
      "\u001b[1;31mNameError\u001b[0m: name 'sayfa' is not defined"
     ]
    }
   ],
   "source": [
    "sayfa.to_excel(\"output.xlsx\")  "
   ]
  },
  {
   "cell_type": "markdown",
   "id": "eee5fac0",
   "metadata": {},
   "source": [
    "## 1.5. web sitesinden veri çekme (Scraping)\n",
    "\n",
    "BeautifulSoup\n",
    "\n",
    "lxml\n",
    "\n",
    "scrapy\n",
    "\n",
    "selenium"
   ]
  },
  {
   "cell_type": "code",
   "execution_count": 62,
   "id": "c8a72065",
   "metadata": {},
   "outputs": [
    {
     "name": "stdout",
     "output_type": "stream",
     "text": [
      "<head>\n",
      "<title>Beginning Programming in Python</title>\n",
      "</head>\n",
      "Web sitesi başlık etiketi: ['\\n', <title>Beginning Programming in Python</title>, '\\n']\n",
      "Site başlığı:  Beginning Programming in Python\n",
      "Başka bir web sayfasına bağlantı adresleri: \n",
      "http://linuxchix.org/\n",
      "http://mailman.linuxchix.org/mailman/listinfo/courses\n",
      "lesson1.txt\n",
      "lesson1a.txt\n",
      "lesson1b.txt\n",
      "lesson2.txt\n",
      "lesson2a.txt\n",
      "lesson3.txt\n"
     ]
    },
    {
     "data": {
      "text/plain": [
       "'\\n#bir web sitesinin kaynak kodunu almak için;\\nprint (s.html.parent)\\n#Web sitesinin tüm text içeriğini çekmek için;\\nprint(s.get_text())\\n'"
      ]
     },
     "execution_count": 62,
     "metadata": {},
     "output_type": "execute_result"
    }
   ],
   "source": [
    "from bs4 import BeautifulSoup\n",
    "from urllib.request import urlopen\n",
    "adres = \"http://shallowsky.com/python\"\n",
    "page = urlopen(adres)\n",
    "dosya = page.read().decode(\"utf-8\")\n",
    "s = BeautifulSoup(dosya, \"html.parser\") #html sayfası parse et\n",
    "# xml sayfasını parse etmek için ‘html.parser’ yerine ‘lxml’ veya ‘lxml-xml’ ifadeleri yazılabilir\n",
    "#Belli bir tag <head> arasındakileri listelemek için;\n",
    "print (s.find('head'))\n",
    "print (\"Web sitesi başlık etiketi:\", s.head.contents)\n",
    "print (\"Site başlığı: \", s.title.string)\n",
    "'''başka bir sayfaya geçiş sağlayan linkleri (<a> etiketi içeren metinleri) listelemek için;'''\n",
    "print (\"Başka bir web sayfasına bağlantı adresleri: \")\n",
    "for link in s.find_all('a', limit=8): #ilk 8 tanesi\n",
    "    print(link.get('href')) #limit belirtilmez ise tümünü listeler\n",
    "'''\n",
    "#bir web sitesinin kaynak kodunu almak için;\n",
    "print (s.html.parent)\n",
    "#Web sitesinin tüm text içeriğini çekmek için;\n",
    "print(s.get_text())\n",
    "'''"
   ]
  },
  {
   "cell_type": "markdown",
   "id": "9b302719",
   "metadata": {},
   "source": [
    "## 1.6. Twitter'dan veri çekme\n",
    "\n",
    "Kütüphane bütünleşik bir kütüphane olmadığından önce indirmemiz gerekmekte\n",
    "\n",
    "    pip3 install pytwitterscraper --user\n",
    "    \n",
    "biz anaconda uzerinden twython yukledik onunla devam edecegiz\n"
   ]
  },
  {
   "cell_type": "code",
   "execution_count": 78,
   "id": "f522bb98",
   "metadata": {},
   "outputs": [
    {
     "ename": "ModuleNotFoundError",
     "evalue": "No module named 'pytwitterscraper'",
     "output_type": "error",
     "traceback": [
      "\u001b[1;31m---------------------------------------------------------------------------\u001b[0m",
      "\u001b[1;31mModuleNotFoundError\u001b[0m                       Traceback (most recent call last)",
      "\u001b[1;32m~\\AppData\\Local\\Temp/ipykernel_4688/2561040121.py\u001b[0m in \u001b[0;36m<module>\u001b[1;34m\u001b[0m\n\u001b[1;32m----> 1\u001b[1;33m \u001b[1;32mfrom\u001b[0m \u001b[0mpytwitterscraper\u001b[0m \u001b[1;32mimport\u001b[0m \u001b[0mTwitterScraper\u001b[0m\u001b[1;33m\u001b[0m\u001b[1;33m\u001b[0m\u001b[0m\n\u001b[0m\u001b[0;32m      2\u001b[0m \u001b[0mtw\u001b[0m \u001b[1;33m=\u001b[0m \u001b[0mTwitterScraper\u001b[0m\u001b[1;33m(\u001b[0m\u001b[1;33m)\u001b[0m\u001b[1;33m\u001b[0m\u001b[1;33m\u001b[0m\u001b[0m\n\u001b[0;32m      3\u001b[0m \u001b[0mpr\u001b[0m \u001b[1;33m=\u001b[0m \u001b[0mtw\u001b[0m\u001b[1;33m.\u001b[0m\u001b[0mget_profile\u001b[0m\u001b[1;33m(\u001b[0m\u001b[0mname\u001b[0m\u001b[1;33m=\u001b[0m\u001b[1;34m\"elonmusk\"\u001b[0m\u001b[1;33m)\u001b[0m\u001b[1;33m\u001b[0m\u001b[1;33m\u001b[0m\u001b[0m\n\u001b[0;32m      4\u001b[0m \u001b[1;31m#Eşdeğeri: pr = tw.get_profile(id=\"961561334361059328\")\u001b[0m\u001b[1;33m\u001b[0m\u001b[1;33m\u001b[0m\u001b[0m\n\u001b[0;32m      5\u001b[0m \u001b[0mprint\u001b[0m \u001b[1;33m(\u001b[0m\u001b[0mpr\u001b[0m\u001b[1;33m.\u001b[0m\u001b[0m__dict__\u001b[0m\u001b[1;33m)\u001b[0m\u001b[1;33m\u001b[0m\u001b[1;33m\u001b[0m\u001b[0m\n",
      "\u001b[1;31mModuleNotFoundError\u001b[0m: No module named 'pytwitterscraper'"
     ]
    }
   ],
   "source": [
    "from pytwitterscraper import TwitterScraper\n",
    "tw = TwitterScraper()\n",
    "pr = tw.get_profile(name=\"elonmusk\")\n",
    "#Eşdeğeri: pr = tw.get_profile(id=\"961561334361059328\")\n",
    "print (pr.__dict__)"
   ]
  },
  {
   "cell_type": "code",
   "execution_count": 79,
   "id": "299c9123",
   "metadata": {},
   "outputs": [
    {
     "ename": "ModuleNotFoundError",
     "evalue": "No module named 'pytwitterscraper'",
     "output_type": "error",
     "traceback": [
      "\u001b[1;31m---------------------------------------------------------------------------\u001b[0m",
      "\u001b[1;31mModuleNotFoundError\u001b[0m                       Traceback (most recent call last)",
      "\u001b[1;32m~\\AppData\\Local\\Temp/ipykernel_4688/1124931300.py\u001b[0m in \u001b[0;36m<module>\u001b[1;34m\u001b[0m\n\u001b[1;32m----> 1\u001b[1;33m \u001b[1;32mfrom\u001b[0m \u001b[0mpytwitterscraper\u001b[0m \u001b[1;32mimport\u001b[0m \u001b[0mTwitterScraper\u001b[0m\u001b[1;33m\u001b[0m\u001b[1;33m\u001b[0m\u001b[0m\n\u001b[0m\u001b[0;32m      2\u001b[0m \u001b[0mtw\u001b[0m \u001b[1;33m=\u001b[0m \u001b[0mTwitterScraper\u001b[0m\u001b[1;33m(\u001b[0m\u001b[1;33m)\u001b[0m\u001b[1;33m\u001b[0m\u001b[1;33m\u001b[0m\u001b[0m\n\u001b[0;32m      3\u001b[0m \u001b[0mtweet\u001b[0m \u001b[1;33m=\u001b[0m \u001b[0mtw\u001b[0m\u001b[1;33m.\u001b[0m\u001b[0mget_tweets\u001b[0m\u001b[1;33m(\u001b[0m\u001b[1;36m961561334361059328\u001b[0m\u001b[1;33m,\u001b[0m \u001b[0mcount\u001b[0m\u001b[1;33m=\u001b[0m\u001b[1;36m3\u001b[0m\u001b[1;33m)\u001b[0m\u001b[1;33m\u001b[0m\u001b[1;33m\u001b[0m\u001b[0m\n\u001b[0;32m      4\u001b[0m \u001b[0mprint\u001b[0m\u001b[1;33m(\u001b[0m\u001b[0mtweet\u001b[0m\u001b[1;33m.\u001b[0m\u001b[0mcontents\u001b[0m\u001b[1;33m)\u001b[0m \u001b[1;31m#tweet içeriğini listele\u001b[0m\u001b[1;33m\u001b[0m\u001b[1;33m\u001b[0m\u001b[0m\n",
      "\u001b[1;31mModuleNotFoundError\u001b[0m: No module named 'pytwitterscraper'"
     ]
    }
   ],
   "source": [
    "from pytwitterscraper import TwitterScraper\n",
    "tw = TwitterScraper()\n",
    "tweet = tw.get_tweets(961561334361059328, count=3)\n",
    "print(tweet.contents) #tweet içeriğini listele"
   ]
  },
  {
   "cell_type": "code",
   "execution_count": 93,
   "id": "959da09d",
   "metadata": {},
   "outputs": [
    {
     "ename": "ModuleNotFoundError",
     "evalue": "No module named 'pytwitterscraper'",
     "output_type": "error",
     "traceback": [
      "\u001b[1;31m---------------------------------------------------------------------------\u001b[0m",
      "\u001b[1;31mModuleNotFoundError\u001b[0m                       Traceback (most recent call last)",
      "\u001b[1;32m~\\AppData\\Local\\Temp/ipykernel_4688/2616685011.py\u001b[0m in \u001b[0;36m<module>\u001b[1;34m\u001b[0m\n\u001b[1;32m----> 1\u001b[1;33m \u001b[1;32mfrom\u001b[0m \u001b[0mpytwitterscraper\u001b[0m \u001b[1;32mimport\u001b[0m \u001b[0mTwitterScraper\u001b[0m\u001b[1;33m\u001b[0m\u001b[1;33m\u001b[0m\u001b[0m\n\u001b[0m\u001b[0;32m      2\u001b[0m \u001b[0mtw\u001b[0m \u001b[1;33m=\u001b[0m \u001b[0mTwitterScraper\u001b[0m\u001b[1;33m(\u001b[0m\u001b[1;33m)\u001b[0m\u001b[1;33m\u001b[0m\u001b[1;33m\u001b[0m\u001b[0m\n\u001b[0;32m      3\u001b[0m \u001b[0mtt\u001b[0m \u001b[1;33m=\u001b[0m \u001b[0mtw\u001b[0m\u001b[1;33m.\u001b[0m\u001b[0mget_trends\u001b[0m\u001b[1;33m(\u001b[0m\u001b[0mcode\u001b[0m\u001b[1;33m=\u001b[0m\u001b[1;34m\"TR\"\u001b[0m\u001b[1;33m)\u001b[0m\u001b[1;33m\u001b[0m\u001b[1;33m\u001b[0m\u001b[0m\n\u001b[0;32m      4\u001b[0m \u001b[1;31m#Diğer ülkelerin ISO kodları için https://countrycode.org/\u001b[0m\u001b[1;33m\u001b[0m\u001b[1;33m\u001b[0m\u001b[0m\n\u001b[0;32m      5\u001b[0m \u001b[0mprint\u001b[0m \u001b[1;33m(\u001b[0m\u001b[0mtt\u001b[0m\u001b[1;33m.\u001b[0m\u001b[0mcontents\u001b[0m\u001b[1;33m[\u001b[0m\u001b[1;36m0\u001b[0m\u001b[1;33m:\u001b[0m\u001b[1;36m10\u001b[0m\u001b[1;33m]\u001b[0m\u001b[1;33m)\u001b[0m\u001b[1;33m\u001b[0m\u001b[1;33m\u001b[0m\u001b[0m\n",
      "\u001b[1;31mModuleNotFoundError\u001b[0m: No module named 'pytwitterscraper'"
     ]
    }
   ],
   "source": [
    "from pytwitterscraper import TwitterScraper\n",
    "tw = TwitterScraper()\n",
    "tt = tw.get_trends(code=\"TR\")\n",
    "#Diğer ülkelerin ISO kodları için https://countrycode.org/\n",
    "print (tt.contents[0:10])"
   ]
  },
  {
   "cell_type": "code",
   "execution_count": 94,
   "id": "b8f060e1",
   "metadata": {},
   "outputs": [],
   "source": [
    "from twython import Twython"
   ]
  },
  {
   "cell_type": "code",
   "execution_count": 96,
   "id": "1e290945",
   "metadata": {},
   "outputs": [],
   "source": [
    "twitter = Twython()"
   ]
  },
  {
   "cell_type": "code",
   "execution_count": 97,
   "id": "51b3a677",
   "metadata": {},
   "outputs": [
    {
     "ename": "TwythonAuthError",
     "evalue": "Twitter API returned a 400 (Bad Request), Bad Authentication data.",
     "output_type": "error",
     "traceback": [
      "\u001b[1;31m---------------------------------------------------------------------------\u001b[0m",
      "\u001b[1;31mTwythonAuthError\u001b[0m                          Traceback (most recent call last)",
      "\u001b[1;32m~\\AppData\\Local\\Temp/ipykernel_4688/188357303.py\u001b[0m in \u001b[0;36m<module>\u001b[1;34m\u001b[0m\n\u001b[1;32m----> 1\u001b[1;33m \u001b[0mtwitter\u001b[0m\u001b[1;33m.\u001b[0m\u001b[0msearch\u001b[0m\u001b[1;33m(\u001b[0m\u001b[0mq\u001b[0m\u001b[1;33m=\u001b[0m\u001b[1;34m'python'\u001b[0m\u001b[1;33m,\u001b[0m \u001b[0mresult_type\u001b[0m\u001b[1;33m=\u001b[0m\u001b[1;34m'popular'\u001b[0m\u001b[1;33m)\u001b[0m\u001b[1;33m\u001b[0m\u001b[1;33m\u001b[0m\u001b[0m\n\u001b[0m",
      "\u001b[1;32m~\\anaconda3\\lib\\site-packages\\twython\\endpoints.py\u001b[0m in \u001b[0;36msearch\u001b[1;34m(self, **params)\u001b[0m\n\u001b[0;32m    291\u001b[0m \u001b[1;33m\u001b[0m\u001b[0m\n\u001b[0;32m    292\u001b[0m         \"\"\"\n\u001b[1;32m--> 293\u001b[1;33m         \u001b[1;32mreturn\u001b[0m \u001b[0mself\u001b[0m\u001b[1;33m.\u001b[0m\u001b[0mget\u001b[0m\u001b[1;33m(\u001b[0m\u001b[1;34m'search/tweets'\u001b[0m\u001b[1;33m,\u001b[0m \u001b[0mparams\u001b[0m\u001b[1;33m=\u001b[0m\u001b[0mparams\u001b[0m\u001b[1;33m)\u001b[0m\u001b[1;33m\u001b[0m\u001b[1;33m\u001b[0m\u001b[0m\n\u001b[0m\u001b[0;32m    294\u001b[0m     \u001b[0msearch\u001b[0m\u001b[1;33m.\u001b[0m\u001b[0miter_mode\u001b[0m \u001b[1;33m=\u001b[0m \u001b[1;34m'id'\u001b[0m\u001b[1;33m\u001b[0m\u001b[1;33m\u001b[0m\u001b[0m\n\u001b[0;32m    295\u001b[0m     \u001b[0msearch\u001b[0m\u001b[1;33m.\u001b[0m\u001b[0miter_key\u001b[0m \u001b[1;33m=\u001b[0m \u001b[1;34m'statuses'\u001b[0m\u001b[1;33m\u001b[0m\u001b[1;33m\u001b[0m\u001b[0m\n",
      "\u001b[1;32m~\\anaconda3\\lib\\site-packages\\twython\\api.py\u001b[0m in \u001b[0;36mget\u001b[1;34m(self, endpoint, params, version)\u001b[0m\n\u001b[0;32m    276\u001b[0m     \u001b[1;32mdef\u001b[0m \u001b[0mget\u001b[0m\u001b[1;33m(\u001b[0m\u001b[0mself\u001b[0m\u001b[1;33m,\u001b[0m \u001b[0mendpoint\u001b[0m\u001b[1;33m,\u001b[0m \u001b[0mparams\u001b[0m\u001b[1;33m=\u001b[0m\u001b[1;32mNone\u001b[0m\u001b[1;33m,\u001b[0m \u001b[0mversion\u001b[0m\u001b[1;33m=\u001b[0m\u001b[1;34m'1.1'\u001b[0m\u001b[1;33m)\u001b[0m\u001b[1;33m:\u001b[0m\u001b[1;33m\u001b[0m\u001b[1;33m\u001b[0m\u001b[0m\n\u001b[0;32m    277\u001b[0m         \u001b[1;34m\"\"\"Shortcut for GET requests via :class:`request`\"\"\"\u001b[0m\u001b[1;33m\u001b[0m\u001b[1;33m\u001b[0m\u001b[0m\n\u001b[1;32m--> 278\u001b[1;33m         \u001b[1;32mreturn\u001b[0m \u001b[0mself\u001b[0m\u001b[1;33m.\u001b[0m\u001b[0mrequest\u001b[0m\u001b[1;33m(\u001b[0m\u001b[0mendpoint\u001b[0m\u001b[1;33m,\u001b[0m \u001b[0mparams\u001b[0m\u001b[1;33m=\u001b[0m\u001b[0mparams\u001b[0m\u001b[1;33m,\u001b[0m \u001b[0mversion\u001b[0m\u001b[1;33m=\u001b[0m\u001b[0mversion\u001b[0m\u001b[1;33m)\u001b[0m\u001b[1;33m\u001b[0m\u001b[1;33m\u001b[0m\u001b[0m\n\u001b[0m\u001b[0;32m    279\u001b[0m \u001b[1;33m\u001b[0m\u001b[0m\n\u001b[0;32m    280\u001b[0m     \u001b[1;32mdef\u001b[0m \u001b[0mpost\u001b[0m\u001b[1;33m(\u001b[0m\u001b[0mself\u001b[0m\u001b[1;33m,\u001b[0m \u001b[0mendpoint\u001b[0m\u001b[1;33m,\u001b[0m \u001b[0mparams\u001b[0m\u001b[1;33m=\u001b[0m\u001b[1;32mNone\u001b[0m\u001b[1;33m,\u001b[0m \u001b[0mversion\u001b[0m\u001b[1;33m=\u001b[0m\u001b[1;34m'1.1'\u001b[0m\u001b[1;33m,\u001b[0m \u001b[0mjson_encoded\u001b[0m\u001b[1;33m=\u001b[0m\u001b[1;32mFalse\u001b[0m\u001b[1;33m)\u001b[0m\u001b[1;33m:\u001b[0m\u001b[1;33m\u001b[0m\u001b[1;33m\u001b[0m\u001b[0m\n",
      "\u001b[1;32m~\\anaconda3\\lib\\site-packages\\twython\\api.py\u001b[0m in \u001b[0;36mrequest\u001b[1;34m(self, endpoint, method, params, version, json_encoded)\u001b[0m\n\u001b[0;32m    269\u001b[0m             \u001b[0murl\u001b[0m \u001b[1;33m=\u001b[0m \u001b[1;34m'%s/%s.json'\u001b[0m \u001b[1;33m%\u001b[0m \u001b[1;33m(\u001b[0m\u001b[0mself\u001b[0m\u001b[1;33m.\u001b[0m\u001b[0mapi_url\u001b[0m \u001b[1;33m%\u001b[0m \u001b[0mversion\u001b[0m\u001b[1;33m,\u001b[0m \u001b[0mendpoint\u001b[0m\u001b[1;33m)\u001b[0m\u001b[1;33m\u001b[0m\u001b[1;33m\u001b[0m\u001b[0m\n\u001b[0;32m    270\u001b[0m \u001b[1;33m\u001b[0m\u001b[0m\n\u001b[1;32m--> 271\u001b[1;33m         content = self._request(url, method=method, params=params,\n\u001b[0m\u001b[0;32m    272\u001b[0m                                 api_call=url, json_encoded=json_encoded)\n\u001b[0;32m    273\u001b[0m \u001b[1;33m\u001b[0m\u001b[0m\n",
      "\u001b[1;32m~\\anaconda3\\lib\\site-packages\\twython\\api.py\u001b[0m in \u001b[0;36m_request\u001b[1;34m(self, url, method, params, api_call, json_encoded)\u001b[0m\n\u001b[0;32m    199\u001b[0m                 \u001b[0mExceptionType\u001b[0m \u001b[1;33m=\u001b[0m \u001b[0mTwythonAuthError\u001b[0m\u001b[1;33m\u001b[0m\u001b[1;33m\u001b[0m\u001b[0m\n\u001b[0;32m    200\u001b[0m \u001b[1;33m\u001b[0m\u001b[0m\n\u001b[1;32m--> 201\u001b[1;33m             raise ExceptionType(\n\u001b[0m\u001b[0;32m    202\u001b[0m                 \u001b[0merror_message\u001b[0m\u001b[1;33m,\u001b[0m\u001b[1;33m\u001b[0m\u001b[1;33m\u001b[0m\u001b[0m\n\u001b[0;32m    203\u001b[0m                 \u001b[0merror_code\u001b[0m\u001b[1;33m=\u001b[0m\u001b[0mresponse\u001b[0m\u001b[1;33m.\u001b[0m\u001b[0mstatus_code\u001b[0m\u001b[1;33m,\u001b[0m\u001b[1;33m\u001b[0m\u001b[1;33m\u001b[0m\u001b[0m\n",
      "\u001b[1;31mTwythonAuthError\u001b[0m: Twitter API returned a 400 (Bad Request), Bad Authentication data."
     ]
    }
   ],
   "source": [
    "twitter.search(q='python', result_type='popular')"
   ]
  },
  {
   "cell_type": "markdown",
   "id": "0a615bfb",
   "metadata": {},
   "source": [
    "## 1.7. Veritabanı işlemleri"
   ]
  },
  {
   "cell_type": "code",
   "execution_count": 98,
   "id": "582550fd",
   "metadata": {},
   "outputs": [
    {
     "name": "stdout",
     "output_type": "stream",
     "text": [
      "SQLite veritabanı sürümü..: 2.6.0\n",
      "SQLite3 kütüphane sürümü..: 3.36.0\n"
     ]
    }
   ],
   "source": [
    "import sqlite3\n",
    "print(\"SQLite veritabanı sürümü..:\", sqlite3.version)\n",
    "print(\"SQLite3 kütüphane sürümü..:\", sqlite3.sqlite_version)"
   ]
  },
  {
   "cell_type": "code",
   "execution_count": 99,
   "id": "74dfad16",
   "metadata": {},
   "outputs": [
    {
     "name": "stdout",
     "output_type": "stream",
     "text": [
      "personel.db içindeki müşteriler Ad'a göre listelendi.\n",
      "(3, 'Arda', 'Samsun')\n",
      "(4, 'Bade', 'Tokat')\n",
      "(5, 'Berat', 'Sakarya')\n",
      "(2, 'Can', 'Erzincan')\n",
      "(1, 'Zehra', 'Tokat')\n"
     ]
    }
   ],
   "source": [
    "import sqlite3 #sqlite modülü çağrıldı\n",
    "bgln = sqlite3.connect(\"personel.db\")\n",
    "#personel.db isimli veri tabanı tanımlandı\n",
    "imlec = bgln.cursor() #imlec (kürsor) nesnesi oluşturuldu\n",
    "#Eğer musteri tablosu önceden oluşturuldu ise silinsin\n",
    "imlec.execute('drop table if exists musteri;')\n",
    "#musteri isimli tablo oluşturuldu\n",
    "imlec.execute(\"\"\"CREATE TABLE musteri\n",
    "(no INTEGER PRIMARY KEY, ad TEXT, adres TEXT)\"\"\")\n",
    "#kayıtlar listesi\n",
    "kayitlar=[  (1, 'Zehra', 'Tokat'),\n",
    "            (2, 'Can', 'Erzincan'),\n",
    "            (3, 'Arda', 'Samsun') ]\n",
    "#Kayıtlar listesini tabloya ekle.\n",
    "imlec.executemany('INSERT INTO musteri VALUES (?,?,?)', kayitlar)\n",
    "#tabloya yeni kayıtlar eklendi\n",
    "imlec.execute(\"INSERT INTO musteri values\" \" (4, 'Bade', 'Tokat')\")\n",
    "imlec.execute(\"INSERT INTO musteri values\"\n",
    "\" (5, 'Berat', 'Sakarya')\")\n",
    "bgln.commit() #veri tabanı güncellendi\n",
    "#bir döngü içerisinde tüm kayıtları ada göre listele\n",
    "print(\"personel.db içindeki müşteriler Ad'a göre listelendi.\")\n",
    "for kyt in imlec.execute('SELECT * FROM musteri ORDER BY ad'):\n",
    "    print(kyt)\n",
    "bgln.close() #veri tabanını kapatır"
   ]
  },
  {
   "cell_type": "code",
   "execution_count": 100,
   "id": "a7748f2e",
   "metadata": {},
   "outputs": [
    {
     "name": "stdout",
     "output_type": "stream",
     "text": [
      "(1, 'Zehra', 'Tokat')\n",
      "(2, 'Can', 'Erzincan')\n",
      "(3, 'Arda', 'Samsun')\n",
      "(4, 'Bade', 'Tokat')\n",
      "(5, 'Berat', 'Sakarya')\n",
      "------------------------\n",
      "(3, 'Arda', 'Samsun')\n",
      "(5, 'Ismail', 'Sakarya')\n"
     ]
    }
   ],
   "source": [
    "import sqlite3\n",
    "bgln = sqlite3.connect('personel.db')\n",
    "vt = bgln.cursor()\n",
    "#sorgu1: musteri tablosundaki tüm kayıtları listele\n",
    "for kay in vt.execute('SELECT * FROM musteri'):\n",
    "    print(kay)\n",
    "#sorgu2:Adı 'Berat' olan kaydı 'Ismail' olarak #güncelle/değiştir\n",
    "sorgu2 = vt.execute(\"update musteri set ad='Ismail' where ad='Berat'\")\n",
    "print (\"------------------------\")\n",
    "#sorgu3:Adresi 'S' ile başlayan tüm kayıtları listele\n",
    "sorgu3 = vt.execute('SELECT * FROM musteri WHERE adres LIKE \"S%\"')\n",
    "for kayitlar in sorgu3:\n",
    "    print(kayitlar)\n",
    "bgln.commit()   #veritabanını kaydet\n",
    "bgln.close()    #veritabanını kapat"
   ]
  },
  {
   "cell_type": "code",
   "execution_count": null,
   "id": "d0362ddb",
   "metadata": {},
   "outputs": [],
   "source": []
  },
  {
   "cell_type": "code",
   "execution_count": null,
   "id": "cb5126e0",
   "metadata": {},
   "outputs": [],
   "source": []
  }
 ],
 "metadata": {
  "kernelspec": {
   "display_name": "Python 3 (ipykernel)",
   "language": "python",
   "name": "python3"
  },
  "language_info": {
   "codemirror_mode": {
    "name": "ipython",
    "version": 3
   },
   "file_extension": ".py",
   "mimetype": "text/x-python",
   "name": "python",
   "nbconvert_exporter": "python",
   "pygments_lexer": "ipython3",
   "version": "3.9.7"
  }
 },
 "nbformat": 4,
 "nbformat_minor": 5
}
