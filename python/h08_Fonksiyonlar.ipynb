{
 "cells": [
  {
   "cell_type": "markdown",
   "metadata": {},
   "source": [
    "## 11. Fonksiyonlar\n",
    "\n",
    "### 11.1. Metotlar\n",
    "\n",
    "Metot, program içerisinde belirli görevleri yerine getirmek için özelleştirilmiş kod bloklarına verilen isimdir. Bir objenin metotlarına ulaşabilmek için;\n",
    "\n",
    "    objeIsmi.metotIsmi()\n",
    "    \n",
    "Örnek: liste isimli bir listenin append metoduna erişmek için;\n",
    "\n",
    "    liste.append(deger)\n",
    "  \n",
    "<b>Not:</b> help metodu ile pythondaki metotlar hakkında ayrıntılı bilgiye erişebiliriz.\n",
    "\n",
    "    help(liste.append)\n",
    "    \n",
    "metotlar çağırılıp çalıştırılır ve işleri biter. Fonksiyonları anlatırken bu cümle daha çok anlam kazanacak.\n"
   ]
  },
  {
   "cell_type": "code",
   "execution_count": 1,
   "metadata": {},
   "outputs": [
    {
     "name": "stdout",
     "output_type": "stream",
     "text": [
      "[1, 2, 3, 4, 5, 6]\n"
     ]
    }
   ],
   "source": [
    "liste=[1,2,3,4,5]\n",
    "liste.append(6)\n",
    "print(liste)"
   ]
  },
  {
   "cell_type": "code",
   "execution_count": 2,
   "metadata": {},
   "outputs": [
    {
     "name": "stdout",
     "output_type": "stream",
     "text": [
      "Help on built-in function append:\n",
      "\n",
      "append(object, /) method of builtins.list instance\n",
      "    Append object to the end of the list.\n",
      "\n"
     ]
    }
   ],
   "source": [
    "help(liste.append)"
   ]
  },
  {
   "cell_type": "markdown",
   "metadata": {},
   "source": [
    "### 11.2. Metot tanımlama ve Çağırma\n",
    "\n",
    "Metot tanımlamak için;\n",
    "\n",
    "    def metotAdi(parametre1, parametre2, .....(opsiyonel)):\n",
    "        yapilacak islemler\n",
    "        ....\n",
    "        (deger dondurme) Fonksiyonlar icin"
   ]
  },
  {
   "cell_type": "code",
   "execution_count": 3,
   "metadata": {},
   "outputs": [
    {
     "ename": "NameError",
     "evalue": "name 'merhaba' is not defined",
     "output_type": "error",
     "traceback": [
      "\u001b[1;31m---------------------------------------------------------------------------\u001b[0m",
      "\u001b[1;31mNameError\u001b[0m                                 Traceback (most recent call last)",
      "\u001b[1;32m<ipython-input-3-55c685ab94be>\u001b[0m in \u001b[0;36m<module>\u001b[1;34m\u001b[0m\n\u001b[1;32m----> 1\u001b[1;33m \u001b[0mtype\u001b[0m\u001b[1;33m(\u001b[0m\u001b[0mmerhaba\u001b[0m\u001b[1;33m)\u001b[0m\u001b[1;33m\u001b[0m\u001b[1;33m\u001b[0m\u001b[0m\n\u001b[0m",
      "\u001b[1;31mNameError\u001b[0m: name 'merhaba' is not defined"
     ]
    }
   ],
   "source": [
    "type(merhaba)"
   ]
  },
  {
   "cell_type": "code",
   "execution_count": 4,
   "metadata": {},
   "outputs": [],
   "source": [
    "def merhaba():\n",
    "    print(\"merhaba\")\n",
    "    print(\"Dünya!\")"
   ]
  },
  {
   "cell_type": "code",
   "execution_count": 5,
   "metadata": {},
   "outputs": [
    {
     "data": {
      "text/plain": [
       "function"
      ]
     },
     "execution_count": 5,
     "metadata": {},
     "output_type": "execute_result"
    }
   ],
   "source": [
    "type(merhaba)"
   ]
  },
  {
   "cell_type": "code",
   "execution_count": 6,
   "metadata": {},
   "outputs": [
    {
     "data": {
      "text/plain": [
       "<function __main__.merhaba()>"
      ]
     },
     "execution_count": 6,
     "metadata": {},
     "output_type": "execute_result"
    }
   ],
   "source": [
    "merhaba"
   ]
  },
  {
   "cell_type": "code",
   "execution_count": 7,
   "metadata": {},
   "outputs": [
    {
     "name": "stdout",
     "output_type": "stream",
     "text": [
      "merhaba\n",
      "Dünya!\n"
     ]
    }
   ],
   "source": [
    "merhaba()"
   ]
  },
  {
   "cell_type": "code",
   "execution_count": 8,
   "metadata": {},
   "outputs": [
    {
     "name": "stdout",
     "output_type": "stream",
     "text": [
      "merhaba\n",
      "Dünya!\n",
      "merhaba\n",
      "Dünya!\n",
      "merhaba\n",
      "Dünya!\n"
     ]
    }
   ],
   "source": [
    "for i in range(3):\n",
    "    merhaba()"
   ]
  },
  {
   "cell_type": "code",
   "execution_count": 9,
   "metadata": {},
   "outputs": [],
   "source": [
    "#metot icerisine parametre göndererek kullanabilirsiniz.\n",
    "def topla(a,b):\n",
    "    print(a+b)"
   ]
  },
  {
   "cell_type": "code",
   "execution_count": 10,
   "metadata": {},
   "outputs": [
    {
     "ename": "TypeError",
     "evalue": "topla() missing 2 required positional arguments: 'a' and 'b'",
     "output_type": "error",
     "traceback": [
      "\u001b[1;31m---------------------------------------------------------------------------\u001b[0m",
      "\u001b[1;31mTypeError\u001b[0m                                 Traceback (most recent call last)",
      "\u001b[1;32m<ipython-input-10-348015d492ab>\u001b[0m in \u001b[0;36m<module>\u001b[1;34m\u001b[0m\n\u001b[1;32m----> 1\u001b[1;33m \u001b[0mtopla\u001b[0m\u001b[1;33m(\u001b[0m\u001b[1;33m)\u001b[0m\u001b[1;33m\u001b[0m\u001b[1;33m\u001b[0m\u001b[0m\n\u001b[0m",
      "\u001b[1;31mTypeError\u001b[0m: topla() missing 2 required positional arguments: 'a' and 'b'"
     ]
    }
   ],
   "source": [
    "topla()"
   ]
  },
  {
   "cell_type": "code",
   "execution_count": 11,
   "metadata": {},
   "outputs": [
    {
     "name": "stdout",
     "output_type": "stream",
     "text": [
      "5\n"
     ]
    }
   ],
   "source": [
    "topla(2,3)"
   ]
  },
  {
   "cell_type": "code",
   "execution_count": 12,
   "metadata": {},
   "outputs": [
    {
     "ename": "TypeError",
     "evalue": "topla() takes 2 positional arguments but 3 were given",
     "output_type": "error",
     "traceback": [
      "\u001b[1;31m---------------------------------------------------------------------------\u001b[0m",
      "\u001b[1;31mTypeError\u001b[0m                                 Traceback (most recent call last)",
      "\u001b[1;32m<ipython-input-12-cac3bfc930c9>\u001b[0m in \u001b[0;36m<module>\u001b[1;34m\u001b[0m\n\u001b[1;32m----> 1\u001b[1;33m \u001b[0mtopla\u001b[0m\u001b[1;33m(\u001b[0m\u001b[1;36m2\u001b[0m\u001b[1;33m,\u001b[0m\u001b[1;36m3\u001b[0m\u001b[1;33m,\u001b[0m\u001b[1;36m4\u001b[0m\u001b[1;33m)\u001b[0m\u001b[1;33m\u001b[0m\u001b[1;33m\u001b[0m\u001b[0m\n\u001b[0m",
      "\u001b[1;31mTypeError\u001b[0m: topla() takes 2 positional arguments but 3 were given"
     ]
    }
   ],
   "source": [
    "topla(2,3,4)"
   ]
  },
  {
   "cell_type": "markdown",
   "metadata": {},
   "source": [
    "### 11.3. Fonksiyonlar ve return deyimi\n",
    "\n",
    "Fonksiyonlar, metotlardan farklı olarak geriye bir değer döndürürler ve bu değeri başka bir değişkene atamanıza ya da onunla işlem yapmanıza olanak tanırlar.\n",
    "\n",
    "Python programının içerisinde daha önce tanımlanmış hazır fonksiyonlara gömülü fonksiyonlar(built-in functions) denir.\n",
    "\n",
    "kedi metotlarınızı oluşturabileceğiniz gibi kendi fonksiyonlarınızı da oluşturup defalarca kullanabilirsiniz.\n",
    "\n"
   ]
  },
  {
   "cell_type": "code",
   "execution_count": 13,
   "metadata": {},
   "outputs": [],
   "source": [
    "def topla(a,b):\n",
    "    return (a+b)"
   ]
  },
  {
   "cell_type": "code",
   "execution_count": 17,
   "metadata": {},
   "outputs": [
    {
     "data": {
      "text/plain": [
       "5"
      ]
     },
     "execution_count": 17,
     "metadata": {},
     "output_type": "execute_result"
    }
   ],
   "source": [
    "topla(2,3)"
   ]
  },
  {
   "cell_type": "code",
   "execution_count": 18,
   "metadata": {},
   "outputs": [
    {
     "name": "stdout",
     "output_type": "stream",
     "text": [
      "5\n"
     ]
    }
   ],
   "source": [
    "sonuc=topla(2,3)\n",
    "print(sonuc)"
   ]
  },
  {
   "cell_type": "code",
   "execution_count": 19,
   "metadata": {},
   "outputs": [
    {
     "name": "stdout",
     "output_type": "stream",
     "text": [
      "10\n"
     ]
    }
   ],
   "source": [
    "sonuc=topla(2,topla(1,topla(3,4)))\n",
    "#sonuc=topla(2,topla(1,7))\n",
    "#sonuc=topla(2,8)\n",
    "#sonuc=10\n",
    "print(sonuc)"
   ]
  },
  {
   "cell_type": "code",
   "execution_count": 21,
   "metadata": {},
   "outputs": [],
   "source": [
    "#faktoriyel hesaplayan fonksiyon\n",
    "def faktoriyel(a):\n",
    "    sonuc=1\n",
    "    for i in range(1,a+1):\n",
    "        sonuc*=i\n",
    "    return sonuc"
   ]
  },
  {
   "cell_type": "code",
   "execution_count": 22,
   "metadata": {},
   "outputs": [
    {
     "name": "stdout",
     "output_type": "stream",
     "text": [
      "120\n"
     ]
    }
   ],
   "source": [
    "print(faktoriyel(5))"
   ]
  },
  {
   "cell_type": "code",
   "execution_count": 23,
   "metadata": {},
   "outputs": [
    {
     "name": "stdout",
     "output_type": "stream",
     "text": [
      "n degeriniz giriniz8\n",
      "r degeriniz giriniz5\n",
      "56.0\n"
     ]
    }
   ],
   "source": [
    "#kombinasyon hesabı\n",
    "#c=n!/(r!*(n-r)!)\n",
    "n=int(input(\"n degeriniz giriniz\"))\n",
    "r=int(input(\"r degeriniz giriniz\"))\n",
    "c=faktoriyel(n)/(faktoriyel(r)*faktoriyel(n-r))\n",
    "print(c)"
   ]
  },
  {
   "cell_type": "code",
   "execution_count": 24,
   "metadata": {},
   "outputs": [
    {
     "name": "stdout",
     "output_type": "stream",
     "text": [
      "topla fonksiyonu adım 1\n",
      "topla fonksiyonu adım 1\n",
      "carp fonksiyonu adım 1\n",
      "35\n"
     ]
    }
   ],
   "source": [
    "def topla(a,b):\n",
    "    print(\"topla fonksiyonu adım 1\")\n",
    "    return a+b\n",
    "    print(\"topla fonksiyonu adım 2\")\n",
    "    \n",
    "def carp(a,b):\n",
    "    print(\"carp fonksiyonu adım 1\")\n",
    "    return a*b\n",
    "    print(\"carp fonksiyonu adım 2\")\n",
    "    \n",
    "    \n",
    "print(carp(topla(2,3),topla(3,4)))\n"
   ]
  },
  {
   "cell_type": "markdown",
   "metadata": {},
   "source": [
    "### 11.4. Fonksiyonlarda Parametreler"
   ]
  },
  {
   "cell_type": "code",
   "execution_count": 25,
   "metadata": {},
   "outputs": [],
   "source": [
    "def topla(a,b):\n",
    "    return(a+b)"
   ]
  },
  {
   "cell_type": "code",
   "execution_count": 27,
   "metadata": {},
   "outputs": [
    {
     "name": "stdout",
     "output_type": "stream",
     "text": [
      "5\n"
     ]
    }
   ],
   "source": [
    "print(topla(2,3))"
   ]
  },
  {
   "cell_type": "code",
   "execution_count": 29,
   "metadata": {},
   "outputs": [
    {
     "ename": "TypeError",
     "evalue": "topla() takes 2 positional arguments but 3 were given",
     "output_type": "error",
     "traceback": [
      "\u001b[1;31m---------------------------------------------------------------------------\u001b[0m",
      "\u001b[1;31mTypeError\u001b[0m                                 Traceback (most recent call last)",
      "\u001b[1;32m<ipython-input-29-d632adac7713>\u001b[0m in \u001b[0;36m<module>\u001b[1;34m\u001b[0m\n\u001b[1;32m----> 1\u001b[1;33m \u001b[0mprint\u001b[0m\u001b[1;33m(\u001b[0m\u001b[0mtopla\u001b[0m\u001b[1;33m(\u001b[0m\u001b[1;36m2\u001b[0m\u001b[1;33m,\u001b[0m\u001b[1;36m3\u001b[0m\u001b[1;33m,\u001b[0m\u001b[1;36m4\u001b[0m\u001b[1;33m)\u001b[0m\u001b[1;33m)\u001b[0m\u001b[1;33m\u001b[0m\u001b[1;33m\u001b[0m\u001b[0m\n\u001b[0m",
      "\u001b[1;31mTypeError\u001b[0m: topla() takes 2 positional arguments but 3 were given"
     ]
    }
   ],
   "source": [
    "print(topla(2,3,4))"
   ]
  },
  {
   "cell_type": "code",
   "execution_count": 30,
   "metadata": {},
   "outputs": [],
   "source": [
    "#opsiyonel parametre tanımlama\n",
    "def topla(a=0,b=0):\n",
    "    return a+b"
   ]
  },
  {
   "cell_type": "code",
   "execution_count": 31,
   "metadata": {},
   "outputs": [
    {
     "name": "stdout",
     "output_type": "stream",
     "text": [
      "5\n"
     ]
    }
   ],
   "source": [
    "print(topla(2,3))"
   ]
  },
  {
   "cell_type": "code",
   "execution_count": 32,
   "metadata": {},
   "outputs": [
    {
     "name": "stdout",
     "output_type": "stream",
     "text": [
      "4\n"
     ]
    }
   ],
   "source": [
    "print(topla(4))"
   ]
  },
  {
   "cell_type": "code",
   "execution_count": 33,
   "metadata": {},
   "outputs": [
    {
     "name": "stdout",
     "output_type": "stream",
     "text": [
      "0\n"
     ]
    }
   ],
   "source": [
    "print(topla())"
   ]
  },
  {
   "cell_type": "code",
   "execution_count": 34,
   "metadata": {},
   "outputs": [],
   "source": [
    "#sirasiz parametre girisi, isimli parametre\n",
    "def bilgiler(ad=\"yok\",soyad=\"yok\",numara=\"yok\"):\n",
    "    return(\"ad: {}, soyad: {}, numara: {}\".format(ad,soyad,numara))"
   ]
  },
  {
   "cell_type": "code",
   "execution_count": 35,
   "metadata": {},
   "outputs": [
    {
     "name": "stdout",
     "output_type": "stream",
     "text": [
      "ad: yok, soyad: yok, numara: yok\n"
     ]
    }
   ],
   "source": [
    "print(bilgiler())"
   ]
  },
  {
   "cell_type": "code",
   "execution_count": 36,
   "metadata": {},
   "outputs": [
    {
     "name": "stdout",
     "output_type": "stream",
     "text": [
      "ad: ali, soyad: can, numara: 123\n"
     ]
    }
   ],
   "source": [
    "print(bilgiler(\"ali\",\"can\",\"123\"))"
   ]
  },
  {
   "cell_type": "code",
   "execution_count": 37,
   "metadata": {},
   "outputs": [
    {
     "name": "stdout",
     "output_type": "stream",
     "text": [
      "ad: ali, soyad: can, numara: yok\n"
     ]
    }
   ],
   "source": [
    "print(bilgiler(\"ali\",\"can\"))"
   ]
  },
  {
   "cell_type": "code",
   "execution_count": 38,
   "metadata": {},
   "outputs": [
    {
     "name": "stdout",
     "output_type": "stream",
     "text": [
      "ad: ali, soyad: 123, numara: yok\n"
     ]
    }
   ],
   "source": [
    "print(bilgiler(\"ali\",\"123\"))"
   ]
  },
  {
   "cell_type": "code",
   "execution_count": 39,
   "metadata": {},
   "outputs": [
    {
     "name": "stdout",
     "output_type": "stream",
     "text": [
      "ad: ali, soyad: , numara: 123\n"
     ]
    }
   ],
   "source": [
    "print(bilgiler(\"ali\",\"\",\"123\"))"
   ]
  },
  {
   "cell_type": "code",
   "execution_count": 40,
   "metadata": {},
   "outputs": [
    {
     "name": "stdout",
     "output_type": "stream",
     "text": [
      "ad: ali, soyad: yok, numara: 123\n"
     ]
    }
   ],
   "source": [
    "print(bilgiler(ad=\"ali\",numara=\"123\"))"
   ]
  },
  {
   "cell_type": "code",
   "execution_count": 41,
   "metadata": {},
   "outputs": [
    {
     "name": "stdout",
     "output_type": "stream",
     "text": [
      "Help on function bilgiler in module __main__:\n",
      "\n",
      "bilgiler(ad='yok', soyad='yok', numara='yok')\n",
      "    #sirasiz parametre girisi, isimli parametre\n",
      "\n"
     ]
    }
   ],
   "source": [
    "help(bilgiler)"
   ]
  },
  {
   "cell_type": "markdown",
   "metadata": {},
   "source": [
    "### 11.5. Fonksiyonlarda Esnek Parametreler"
   ]
  },
  {
   "cell_type": "code",
   "execution_count": 42,
   "metadata": {},
   "outputs": [],
   "source": [
    "def topla(*a):\n",
    "    print(type(a))\n",
    "    return a"
   ]
  },
  {
   "cell_type": "code",
   "execution_count": 43,
   "metadata": {},
   "outputs": [
    {
     "name": "stdout",
     "output_type": "stream",
     "text": [
      "<class 'tuple'>\n",
      "(1, 2, 3, 4, 5, 6, 7)\n"
     ]
    }
   ],
   "source": [
    "print(topla(1,2,3,4,5,6,7))"
   ]
  },
  {
   "cell_type": "code",
   "execution_count": 44,
   "metadata": {},
   "outputs": [],
   "source": [
    "def topla(*a):\n",
    "    sonuc=0\n",
    "    for i in a:\n",
    "        sonuc+=i\n",
    "    return sonuc"
   ]
  },
  {
   "cell_type": "code",
   "execution_count": 45,
   "metadata": {},
   "outputs": [
    {
     "name": "stdout",
     "output_type": "stream",
     "text": [
      "0\n"
     ]
    }
   ],
   "source": [
    "print(topla())"
   ]
  },
  {
   "cell_type": "code",
   "execution_count": 46,
   "metadata": {},
   "outputs": [
    {
     "name": "stdout",
     "output_type": "stream",
     "text": [
      "3\n"
     ]
    }
   ],
   "source": [
    "print(topla(3))"
   ]
  },
  {
   "cell_type": "code",
   "execution_count": 47,
   "metadata": {},
   "outputs": [
    {
     "name": "stdout",
     "output_type": "stream",
     "text": [
      "55\n"
     ]
    }
   ],
   "source": [
    "print(topla(2,3,4,5,4,3,2,4,5,6,8,9))"
   ]
  },
  {
   "cell_type": "markdown",
   "metadata": {},
   "source": [
    "### 11.6. Fonksiyonlarda isimli esnek parametreler"
   ]
  },
  {
   "cell_type": "code",
   "execution_count": 48,
   "metadata": {},
   "outputs": [],
   "source": [
    "def islem(**a):\n",
    "    print(type(a))\n",
    "    return a"
   ]
  },
  {
   "cell_type": "code",
   "execution_count": 49,
   "metadata": {},
   "outputs": [
    {
     "name": "stdout",
     "output_type": "stream",
     "text": [
      "<class 'dict'>\n",
      "{'ad': 'ali', 'soyad': 'can', 'numara': '123'}\n"
     ]
    }
   ],
   "source": [
    "print(islem(ad=\"ali\",soyad=\"can\",numara=\"123\"))"
   ]
  },
  {
   "cell_type": "code",
   "execution_count": 52,
   "metadata": {},
   "outputs": [
    {
     "name": "stdout",
     "output_type": "stream",
     "text": [
      "kitap=book\n",
      "programlama=programming\n",
      "fonksiyon kelimesi sozlukte bulunmuyor\n",
      "kitap=book\n",
      "programlama=programming\n",
      "fonksiyon kelimesi sozlukte bulunmuyor\n"
     ]
    }
   ],
   "source": [
    "def karsilikBul(*args,**kwargs):\n",
    "    for sozcuk in args:\n",
    "        if sozcuk in kwargs:\n",
    "            print(\"{}={}\".format(sozcuk,kwargs[sozcuk]))\n",
    "        else:\n",
    "            print(\"{} kelimesi sozlukte bulunmuyor\".format(sozcuk))\n",
    "\n",
    "            \n",
    "\n",
    "\n",
    "karsilikBul(\"kitap\",\"programlama\",\"fonksiyon\",kitap=\"book\",bilgisayar=\"computer\",programlama=\"programming\")\n",
    "\n",
    "\n",
    "sozluk={\"kitap\":\"book\",\"bilgisayar\":\"computer\",\"programlama\":\"programming\"}\n",
    "karsilikBul(\"kitap\",\"programlama\",\"fonksiyon\",**sozluk)"
   ]
  },
  {
   "cell_type": "code",
   "execution_count": null,
   "metadata": {},
   "outputs": [],
   "source": []
  }
 ],
 "metadata": {
  "kernelspec": {
   "display_name": "Python 3 (ipykernel)",
   "language": "python",
   "name": "python3"
  },
  "language_info": {
   "codemirror_mode": {
    "name": "ipython",
    "version": 3
   },
   "file_extension": ".py",
   "mimetype": "text/x-python",
   "name": "python",
   "nbconvert_exporter": "python",
   "pygments_lexer": "ipython3",
   "version": "3.9.12"
  }
 },
 "nbformat": 4,
 "nbformat_minor": 4
}
