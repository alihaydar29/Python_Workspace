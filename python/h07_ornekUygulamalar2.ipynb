{
 "cells": [
  {
   "cell_type": "markdown",
   "metadata": {},
   "source": [
    "### 13. Yerdeğiştirmeli Sıralama\n",
    "<b>Not:</b> rastgele sayılardan oluşan liste hazırlamak için öncelikle random kütüphanesini çalışmamıza aklememiz gerekiyor.\n",
    "\n",
    "    import random\n",
    "    \n",
    "daha sonra\n",
    "\n",
    "    liste=list(range(10))\n",
    "    liste=random.sample(liste,10)"
   ]
  },
  {
   "cell_type": "code",
   "execution_count": 1,
   "metadata": {},
   "outputs": [
    {
     "name": "stdout",
     "output_type": "stream",
     "text": [
      "[0, 1, 2, 3, 4, 5, 6, 7, 8, 9]\n",
      "[4, 1, 3, 7, 9, 2, 6, 5, 0, 8]\n"
     ]
    }
   ],
   "source": [
    "import random\n",
    "liste=list(range(10))\n",
    "print(liste)\n",
    "liste=random.sample(liste,10)\n",
    "print(liste)\n"
   ]
  },
  {
   "cell_type": "code",
   "execution_count": 2,
   "metadata": {},
   "outputs": [
    {
     "name": "stdout",
     "output_type": "stream",
     "text": [
      "[0, 1, 2, 3, 4, 5, 6, 7, 8, 9]\n"
     ]
    }
   ],
   "source": [
    "for i in range(0,len(liste)-1):\n",
    "    #print(\"i:\",i)\n",
    "    for j in range(i+1,len(liste)):\n",
    "        #print(\"j:\",j)\n",
    "        if(liste[i]>liste[j]):\n",
    "            liste[i],liste[j]=liste[j],liste[i]\n",
    "print(liste)"
   ]
  },
  {
   "cell_type": "markdown",
   "metadata": {},
   "source": [
    "### 14. Seçmeli Sıralama"
   ]
  },
  {
   "cell_type": "code",
   "execution_count": 3,
   "metadata": {},
   "outputs": [
    {
     "name": "stdout",
     "output_type": "stream",
     "text": [
      "[0, 1, 2, 3, 4, 5, 6, 7, 8, 9]\n",
      "[2, 3, 9, 0, 7, 4, 1, 8, 6, 5]\n"
     ]
    }
   ],
   "source": [
    "liste=list(range(10))\n",
    "print(liste)\n",
    "liste=random.sample(liste,10)\n",
    "print(liste)"
   ]
  },
  {
   "cell_type": "code",
   "execution_count": null,
   "metadata": {},
   "outputs": [],
   "source": [
    "for i in range(0,len(liste)-1):\n",
    "    enKucuk=i\n",
    "    for j in range(i+1,len(liste)):\n",
    "        if(liste[enKucuk]>liste[j]):\n",
    "            enKucuk=j\n",
    "    liste[i],liste[enKucuk]=liste[enKucuk],liste[i]\n",
    "print(liste)"
   ]
  },
  {
   "cell_type": "code",
   "execution_count": null,
   "metadata": {},
   "outputs": [],
   "source": [
    "import datetime\n",
    "liste=list(range(10000))\n",
    "liste=random.sample(liste,10000)\n",
    "baslangic=datetime.datetime.now()\n",
    "for i in range(0,len(liste)-1):\n",
    "    #print(\"i:\",i)\n",
    "    for j in range(i+1,len(liste)):\n",
    "        #print(\"j:\",j)\n",
    "        if(liste[i]>liste[j]):\n",
    "            liste[i],liste[j]=liste[j],liste[i]\n",
    "            \n",
    "bitis=datetime.datetime.now()\n",
    "fark=bitis-baslangic\n",
    "print(fark)\n"
   ]
  },
  {
   "cell_type": "code",
   "execution_count": null,
   "metadata": {},
   "outputs": [],
   "source": [
    "import datetime\n",
    "liste=list(range(10000))\n",
    "liste=random.sample(liste,10000)\n",
    "baslangic=datetime.datetime.now()\n",
    "for i in range(0,len(liste)-1):\n",
    "    enKucuk=i\n",
    "    for j in range(i+1,len(liste)):\n",
    "        if(liste[enKucuk]>liste[j]):\n",
    "            enKucuk=j\n",
    "    liste[i],liste[enKucuk]=liste[enKucuk],liste[i]\n",
    "            \n",
    "bitis=datetime.datetime.now()\n",
    "fark=bitis-baslangic\n",
    "print(fark)"
   ]
  },
  {
   "cell_type": "markdown",
   "metadata": {},
   "source": [
    "### 15. Doğrusal Arama\n"
   ]
  },
  {
   "cell_type": "code",
   "execution_count": null,
   "metadata": {},
   "outputs": [],
   "source": [
    "liste=list(range(1,20,2))\n",
    "print(liste)"
   ]
  },
  {
   "cell_type": "code",
   "execution_count": null,
   "metadata": {},
   "outputs": [],
   "source": [
    "aranan=int(input(\"aramak istediginiz sayıyı giriniz\"))\n",
    "sayac=0\n",
    "for i in range(len(liste)):\n",
    "    sayac+=1\n",
    "    if(aranan==liste[i]):\n",
    "        #buldum\n",
    "        print(\"aradığınız {} sayısı listenin {}. elemanında\".format(aranan,i))\n",
    "        break\n",
    "else:\n",
    "    print(\"{} sayısı listede yok.\".format(aranan))\n",
    "print(sayac)"
   ]
  },
  {
   "cell_type": "markdown",
   "metadata": {},
   "source": [
    "### 16. İkili Arama"
   ]
  },
  {
   "cell_type": "code",
   "execution_count": null,
   "metadata": {},
   "outputs": [],
   "source": [
    "liste=list(range(1,20,2))\n",
    "print(liste)"
   ]
  },
  {
   "cell_type": "code",
   "execution_count": null,
   "metadata": {},
   "outputs": [],
   "source": [
    "aranan=int(input(\"aramak istediginiz sayıyı giriniz\"))\n",
    "ek=-1\n",
    "eb=len(liste)\n",
    "orta=0\n",
    "sayac=0\n",
    "while (eb-ek)>1:\n",
    "    orta=(eb+ek)//2\n",
    "    sayac+=1\n",
    "    print(\"ek:{}, eb:{}, orta:{}, sayac:{}\".format(ek,eb,orta,sayac))\n",
    "    if(aranan==liste[orta]):\n",
    "        break\n",
    "    elif(aranan<liste[orta]):\n",
    "        eb=orta\n",
    "    elif(aranan>liste[orta]):\n",
    "        ek=orta\n",
    "\n",
    "if(eb-ek==1):\n",
    "    print(\"bulamadım\")\n",
    "else:\n",
    "    print(\"aradığınız {} sayısı listenin {}. elemanında\".format(aranan,orta))\n"
   ]
  },
  {
   "cell_type": "code",
   "execution_count": null,
   "metadata": {},
   "outputs": [],
   "source": [
    "liste=list(range(1,20000,2))\n",
    "aranan=int(input(\"aramak istediginiz sayıyı giriniz\"))\n",
    "ek=-1\n",
    "eb=len(liste)\n",
    "orta=0\n",
    "sayac=0\n",
    "while (eb-ek)>1:\n",
    "    orta=(eb+ek)//2\n",
    "    sayac+=1\n",
    "    print(\"ek:{}, eb:{}, orta:{}, sayac:{}\".format(ek,eb,orta,sayac))\n",
    "    if(aranan==liste[orta]):\n",
    "        break\n",
    "    elif(aranan<liste[orta]):\n",
    "        eb=orta\n",
    "    elif(aranan>liste[orta]):\n",
    "        ek=orta\n",
    "\n",
    "if(eb-ek==1):\n",
    "    print(\"bulamadım\")\n",
    "else:\n",
    "    print(\"aradığınız {} sayısı listenin {}. elemanında\".format(aranan,orta))\n"
   ]
  },
  {
   "cell_type": "code",
   "execution_count": null,
   "metadata": {},
   "outputs": [],
   "source": []
  }
 ],
 "metadata": {
  "kernelspec": {
   "display_name": "Python 3 (ipykernel)",
   "language": "python",
   "name": "python3"
  },
  "language_info": {
   "codemirror_mode": {
    "name": "ipython",
    "version": 3
   },
   "file_extension": ".py",
   "mimetype": "text/x-python",
   "name": "python",
   "nbconvert_exporter": "python",
   "pygments_lexer": "ipython3",
   "version": "3.9.12"
  }
 },
 "nbformat": 4,
 "nbformat_minor": 4
}
