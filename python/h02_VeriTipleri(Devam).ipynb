{
 "cells": [
  {
   "cell_type": "markdown",
   "metadata": {},
   "source": [
    "### 3.2. Veri Tipi Dönüşümleri"
   ]
  },
  {
   "cell_type": "code",
   "execution_count": 2,
   "metadata": {},
   "outputs": [
    {
     "name": "stdout",
     "output_type": "stream",
     "text": [
      "<class 'int'>\n",
      "<class 'float'>\n"
     ]
    }
   ],
   "source": [
    "a=5\n",
    "print(type(a))\n",
    "a=5.0\n",
    "print(type(a))"
   ]
  },
  {
   "cell_type": "code",
   "execution_count": 3,
   "metadata": {},
   "outputs": [
    {
     "name": "stdout",
     "output_type": "stream",
     "text": [
      "<class 'int'>\n",
      "<class 'float'>\n",
      "5.0\n"
     ]
    }
   ],
   "source": [
    "a=5\n",
    "print(type(a))\n",
    "a=float(a)\n",
    "print(type(a))\n",
    "print(a)"
   ]
  },
  {
   "cell_type": "code",
   "execution_count": 4,
   "metadata": {},
   "outputs": [
    {
     "name": "stdout",
     "output_type": "stream",
     "text": [
      "<class 'float'>\n",
      "<class 'int'>\n",
      "3\n"
     ]
    }
   ],
   "source": [
    "a=3.44\n",
    "print(type(a))\n",
    "a=int(a)\n",
    "print(type(a))\n",
    "print(a)"
   ]
  },
  {
   "cell_type": "code",
   "execution_count": 5,
   "metadata": {},
   "outputs": [
    {
     "name": "stdout",
     "output_type": "stream",
     "text": [
      "3\n"
     ]
    }
   ],
   "source": [
    "a=3.98\n",
    "a=int(a)\n",
    "print(a)"
   ]
  },
  {
   "cell_type": "code",
   "execution_count": 7,
   "metadata": {},
   "outputs": [
    {
     "name": "stdout",
     "output_type": "stream",
     "text": [
      "4\n"
     ]
    }
   ],
   "source": [
    "a=3.5\n",
    "a=round(a)\n",
    "print(a)"
   ]
  },
  {
   "cell_type": "code",
   "execution_count": 10,
   "metadata": {},
   "outputs": [
    {
     "name": "stdout",
     "output_type": "stream",
     "text": [
      "6.510000000000001\n",
      "7\n",
      "6.51\n"
     ]
    }
   ],
   "source": [
    "a=2.1\n",
    "b=3.1\n",
    "c=a*b\n",
    "print(c)\n",
    "print(round(c))\n",
    "print(round(c,2))"
   ]
  },
  {
   "cell_type": "code",
   "execution_count": 11,
   "metadata": {},
   "outputs": [
    {
     "name": "stdout",
     "output_type": "stream",
     "text": [
      "<class 'int'>\n",
      "5\n",
      "<class 'str'>\n",
      "5\n"
     ]
    }
   ],
   "source": [
    "a=5\n",
    "print(type(a))\n",
    "print(a)\n",
    "a=str(a)\n",
    "print(type(a))\n",
    "print(a)\n"
   ]
  },
  {
   "cell_type": "code",
   "execution_count": 13,
   "metadata": {},
   "outputs": [
    {
     "data": {
      "text/plain": [
       "5"
      ]
     },
     "execution_count": 13,
     "metadata": {},
     "output_type": "execute_result"
    }
   ],
   "source": [
    "a=5\n",
    "a"
   ]
  },
  {
   "cell_type": "code",
   "execution_count": 14,
   "metadata": {},
   "outputs": [
    {
     "data": {
      "text/plain": [
       "'5'"
      ]
     },
     "execution_count": 14,
     "metadata": {},
     "output_type": "execute_result"
    }
   ],
   "source": [
    "a=\"5\"\n",
    "a"
   ]
  },
  {
   "cell_type": "code",
   "execution_count": 15,
   "metadata": {},
   "outputs": [
    {
     "name": "stdout",
     "output_type": "stream",
     "text": [
      "11\n",
      "56\n"
     ]
    }
   ],
   "source": [
    "a=5\n",
    "b=6\n",
    "c=a+b\n",
    "print(c)\n",
    "d=str(a)+str(b)\n",
    "print(d)"
   ]
  },
  {
   "cell_type": "code",
   "execution_count": 17,
   "metadata": {},
   "outputs": [
    {
     "ename": "TypeError",
     "evalue": "can only concatenate str (not \"int\") to str",
     "output_type": "error",
     "traceback": [
      "\u001b[1;31m---------------------------------------------------------------------------\u001b[0m",
      "\u001b[1;31mTypeError\u001b[0m                                 Traceback (most recent call last)",
      "\u001b[1;32m<ipython-input-17-f4d6f9fcafd5>\u001b[0m in \u001b[0;36m<module>\u001b[1;34m\u001b[0m\n\u001b[0;32m      1\u001b[0m \u001b[0ma\u001b[0m\u001b[1;33m=\u001b[0m\u001b[1;36m5\u001b[0m\u001b[1;33m\u001b[0m\u001b[1;33m\u001b[0m\u001b[0m\n\u001b[0;32m      2\u001b[0m \u001b[0mb\u001b[0m\u001b[1;33m=\u001b[0m\u001b[1;36m6\u001b[0m\u001b[1;33m\u001b[0m\u001b[1;33m\u001b[0m\u001b[0m\n\u001b[1;32m----> 3\u001b[1;33m \u001b[0me\u001b[0m\u001b[1;33m=\u001b[0m\u001b[0mstr\u001b[0m\u001b[1;33m(\u001b[0m\u001b[0ma\u001b[0m\u001b[1;33m)\u001b[0m\u001b[1;33m+\u001b[0m\u001b[0mb\u001b[0m\u001b[1;33m\u001b[0m\u001b[1;33m\u001b[0m\u001b[0m\n\u001b[0m\u001b[0;32m      4\u001b[0m \u001b[0mprint\u001b[0m\u001b[1;33m(\u001b[0m\u001b[0me\u001b[0m\u001b[1;33m)\u001b[0m\u001b[1;33m\u001b[0m\u001b[1;33m\u001b[0m\u001b[0m\n",
      "\u001b[1;31mTypeError\u001b[0m: can only concatenate str (not \"int\") to str"
     ]
    }
   ],
   "source": [
    "a=5\n",
    "b=6\n",
    "e=str(a)+b\n",
    "print(e)"
   ]
  },
  {
   "cell_type": "code",
   "execution_count": 18,
   "metadata": {},
   "outputs": [
    {
     "name": "stdout",
     "output_type": "stream",
     "text": [
      "8.7\n"
     ]
    }
   ],
   "source": [
    "a=5\n",
    "b=3.7\n",
    "c=a+b\n",
    "print(c)"
   ]
  },
  {
   "cell_type": "code",
   "execution_count": 19,
   "metadata": {},
   "outputs": [
    {
     "name": "stdout",
     "output_type": "stream",
     "text": [
      "2\n"
     ]
    }
   ],
   "source": [
    "a=\"56\"\n",
    "print(len(a))"
   ]
  },
  {
   "cell_type": "code",
   "execution_count": 20,
   "metadata": {},
   "outputs": [
    {
     "name": "stdout",
     "output_type": "stream",
     "text": [
      "<class 'int'>\n",
      "56\n"
     ]
    }
   ],
   "source": [
    "a=\"56\"\n",
    "a=int(a)\n",
    "print(type(a))\n",
    "print(a)"
   ]
  },
  {
   "cell_type": "code",
   "execution_count": 21,
   "metadata": {},
   "outputs": [
    {
     "name": "stdout",
     "output_type": "stream",
     "text": [
      "<class 'float'>\n",
      "56.4\n"
     ]
    }
   ],
   "source": [
    "a=\"56.4\"\n",
    "a=float(a)\n",
    "print(type(a))\n",
    "print(a)"
   ]
  },
  {
   "cell_type": "code",
   "execution_count": 24,
   "metadata": {},
   "outputs": [
    {
     "ename": "ValueError",
     "evalue": "invalid literal for int() with base 10: '56a'",
     "output_type": "error",
     "traceback": [
      "\u001b[1;31m---------------------------------------------------------------------------\u001b[0m",
      "\u001b[1;31mValueError\u001b[0m                                Traceback (most recent call last)",
      "\u001b[1;32m<ipython-input-24-f578fa2cefef>\u001b[0m in \u001b[0;36m<module>\u001b[1;34m\u001b[0m\n\u001b[0;32m      1\u001b[0m \u001b[0ma\u001b[0m\u001b[1;33m=\u001b[0m\u001b[1;34m\"56a\"\u001b[0m\u001b[1;33m\u001b[0m\u001b[1;33m\u001b[0m\u001b[0m\n\u001b[1;32m----> 2\u001b[1;33m \u001b[0ma\u001b[0m\u001b[1;33m=\u001b[0m\u001b[0mint\u001b[0m\u001b[1;33m(\u001b[0m\u001b[0ma\u001b[0m\u001b[1;33m)\u001b[0m\u001b[1;33m\u001b[0m\u001b[1;33m\u001b[0m\u001b[0m\n\u001b[0m\u001b[0;32m      3\u001b[0m \u001b[0mprint\u001b[0m\u001b[1;33m(\u001b[0m\u001b[0mtype\u001b[0m\u001b[1;33m(\u001b[0m\u001b[0ma\u001b[0m\u001b[1;33m)\u001b[0m\u001b[1;33m)\u001b[0m\u001b[1;33m\u001b[0m\u001b[1;33m\u001b[0m\u001b[0m\n\u001b[0;32m      4\u001b[0m \u001b[0mprint\u001b[0m\u001b[1;33m(\u001b[0m\u001b[0ma\u001b[0m\u001b[1;33m)\u001b[0m\u001b[1;33m\u001b[0m\u001b[1;33m\u001b[0m\u001b[0m\n",
      "\u001b[1;31mValueError\u001b[0m: invalid literal for int() with base 10: '56a'"
     ]
    }
   ],
   "source": [
    "a=\"56a\"\n",
    "a=int(a)\n",
    "print(type(a))\n",
    "print(a)\n"
   ]
  },
  {
   "cell_type": "markdown",
   "metadata": {},
   "source": [
    "### 3.3. Aritmetik Operatörler\n",
    "\n",
    "Toplama (+)\n",
    "\n",
    "çıkartma (-)\n",
    "\n",
    "çarpma (*)\n",
    "\n",
    "bölme (/)\n",
    "\n",
    "tam bölme (//)\n",
    "\n",
    "mod alma (%)\n",
    "\n",
    "üs alma (**) (kök almak isterseniz ikinci değere 0.5 yazılabilir)"
   ]
  },
  {
   "cell_type": "code",
   "execution_count": 28,
   "metadata": {},
   "outputs": [
    {
     "name": "stdout",
     "output_type": "stream",
     "text": [
      "13\n",
      "5\n",
      "36\n",
      "2.25\n",
      "2\n",
      "1\n",
      "6561\n"
     ]
    }
   ],
   "source": [
    "a=9\n",
    "b=4\n",
    "print(a+b)\n",
    "print(a-b)\n",
    "print(a*b)\n",
    "print(a/b)\n",
    "print(a//b)\n",
    "print(a%b)\n",
    "print(a**b)"
   ]
  },
  {
   "cell_type": "code",
   "execution_count": 29,
   "metadata": {},
   "outputs": [
    {
     "data": {
      "text/plain": [
       "4.0"
      ]
     },
     "execution_count": 29,
     "metadata": {},
     "output_type": "execute_result"
    }
   ],
   "source": [
    "16**(1/2)"
   ]
  },
  {
   "cell_type": "markdown",
   "metadata": {},
   "source": [
    "#### 3.3.1.  Matematiksel işlemlerde işlem önceliği ve parantezin önemi"
   ]
  },
  {
   "cell_type": "code",
   "execution_count": 30,
   "metadata": {},
   "outputs": [
    {
     "name": "stdout",
     "output_type": "stream",
     "text": [
      "11\n"
     ]
    }
   ],
   "source": [
    "a=3\n",
    "b=4\n",
    "c=a+b*2\n",
    "print(c)"
   ]
  },
  {
   "cell_type": "code",
   "execution_count": 32,
   "metadata": {},
   "outputs": [
    {
     "name": "stdout",
     "output_type": "stream",
     "text": [
      "4.666666666666667\n"
     ]
    }
   ],
   "source": [
    "a=3\n",
    "b=4\n",
    "c=((a+b)*2)/3\n",
    "print(c)"
   ]
  },
  {
   "cell_type": "markdown",
   "metadata": {},
   "source": [
    "### 3.4. String Veri Tipleri\n",
    "'selam' \n",
    "\n",
    "\"selam\"\n",
    "\n",
    "\"\"\"selam\"\"\"\n",
    "\n",
    "'Ali'nin boon canlı dersi var'\n",
    "\n",
    "\"Ali'nin boon canlı dersi var\" (dogru)\n",
    "\n",
    "\"Ali \"boon canlı ders var mı?\" diye sordu\"\n",
    "\n",
    "'Ali\\'nin boon canlı dersi var' (\\ burada kaçış dizisi olarak kullanılmıştır)\n"
   ]
  },
  {
   "cell_type": "code",
   "execution_count": 33,
   "metadata": {},
   "outputs": [
    {
     "ename": "SyntaxError",
     "evalue": "invalid syntax (<ipython-input-33-e86ef830017d>, line 1)",
     "output_type": "error",
     "traceback": [
      "\u001b[1;36m  File \u001b[1;32m\"<ipython-input-33-e86ef830017d>\"\u001b[1;36m, line \u001b[1;32m1\u001b[0m\n\u001b[1;33m    degisken='Ali'nin boon canlı dersi var'\u001b[0m\n\u001b[1;37m                    ^\u001b[0m\n\u001b[1;31mSyntaxError\u001b[0m\u001b[1;31m:\u001b[0m invalid syntax\n"
     ]
    }
   ],
   "source": [
    "degisken='Ali'nin boon canlı dersi var'"
   ]
  },
  {
   "cell_type": "code",
   "execution_count": 34,
   "metadata": {},
   "outputs": [
    {
     "name": "stdout",
     "output_type": "stream",
     "text": [
      "Ali'nin boon canlı dersi var\n"
     ]
    }
   ],
   "source": [
    "degisken=\"Ali'nin boon canlı dersi var\"\n",
    "print(degisken)"
   ]
  },
  {
   "cell_type": "code",
   "execution_count": 35,
   "metadata": {},
   "outputs": [
    {
     "ename": "SyntaxError",
     "evalue": "invalid syntax (<ipython-input-35-0d8d014888a0>, line 1)",
     "output_type": "error",
     "traceback": [
      "\u001b[1;36m  File \u001b[1;32m\"<ipython-input-35-0d8d014888a0>\"\u001b[1;36m, line \u001b[1;32m1\u001b[0m\n\u001b[1;33m    degisken=\"Ali \"boon canlı ders var mı?\" diye sordu\"\u001b[0m\n\u001b[1;37m                      ^\u001b[0m\n\u001b[1;31mSyntaxError\u001b[0m\u001b[1;31m:\u001b[0m invalid syntax\n"
     ]
    }
   ],
   "source": [
    "degisken=\"Ali \"boon canlı ders var mı?\" diye sordu\""
   ]
  },
  {
   "cell_type": "code",
   "execution_count": 36,
   "metadata": {},
   "outputs": [
    {
     "name": "stdout",
     "output_type": "stream",
     "text": [
      "Ali \"boon canlı ders var mı?\" diye sordu\n"
     ]
    }
   ],
   "source": [
    "degisken='Ali \"boon canlı ders var mı?\" diye sordu'\n",
    "print(degisken)"
   ]
  },
  {
   "cell_type": "code",
   "execution_count": 38,
   "metadata": {},
   "outputs": [
    {
     "name": "stdout",
     "output_type": "stream",
     "text": [
      "Ali'nin boon canlı dersi var\n"
     ]
    }
   ],
   "source": [
    "degisken='Ali\\'nin boon canlı dersi var'\n",
    "print(degisken)"
   ]
  },
  {
   "cell_type": "code",
   "execution_count": 41,
   "metadata": {},
   "outputs": [
    {
     "name": "stdout",
     "output_type": "stream",
     "text": [
      "merhaba\n",
      "\n",
      "nasılsın\n",
      "\n",
      "iyi                       misin?\n"
     ]
    }
   ],
   "source": [
    "degisken=\"\"\"merhaba\n",
    "\n",
    "nasılsın\n",
    "\n",
    "iyi                       misin?\"\"\"\n",
    "print(degisken)"
   ]
  },
  {
   "cell_type": "markdown",
   "metadata": {},
   "source": [
    "#### 3.4.1. String Dizileri"
   ]
  },
  {
   "cell_type": "code",
   "execution_count": 42,
   "metadata": {},
   "outputs": [
    {
     "name": "stdout",
     "output_type": "stream",
     "text": [
      "<class 'str'>\n",
      "ahmet\n",
      "h\n",
      "t\n"
     ]
    }
   ],
   "source": [
    "a=\"ahmet\"\n",
    "print(type(a))\n",
    "print(a)\n",
    "print(a[1])\n",
    "print(a[4])"
   ]
  },
  {
   "cell_type": "code",
   "execution_count": 3,
   "metadata": {},
   "outputs": [
    {
     "name": "stdout",
     "output_type": "stream",
     "text": [
      "5\n",
      "t\n",
      "t\n",
      "e\n"
     ]
    }
   ],
   "source": [
    "a=\"ahmet\" #len() fonksiyonu stringin eleman sayısını verir\n",
    "print(len(a)) #dizinin eleman sayısını verir\n",
    "print(a[len(a)-1]) #dizinin son elemanını\n",
    "print(a[-1])  #dizinin son elemanını\n",
    "print(a[-2])  #dizinin sondan bir onceki elemanını"
   ]
  },
  {
   "cell_type": "markdown",
   "metadata": {},
   "source": [
    "<b>string parçalama</b>"
   ]
  },
  {
   "cell_type": "code",
   "execution_count": 47,
   "metadata": {},
   "outputs": [
    {
     "name": "stdout",
     "output_type": "stream",
     "text": [
      "rha\n"
     ]
    }
   ],
   "source": [
    "a=\"merhaba Dünya!\"\n",
    "b=a[2:5] #burada 5. eleman dahil değildir\n",
    "print(b)"
   ]
  },
  {
   "cell_type": "code",
   "execution_count": 49,
   "metadata": {},
   "outputs": [
    {
     "name": "stdout",
     "output_type": "stream",
     "text": [
      "merha\n",
      "ba Dünya!\n"
     ]
    }
   ],
   "source": [
    "b=a[:5]\n",
    "print(b)\n",
    "b=a[5:]\n",
    "print(b)"
   ]
  },
  {
   "cell_type": "code",
   "execution_count": 50,
   "metadata": {},
   "outputs": [
    {
     "name": "stdout",
     "output_type": "stream",
     "text": [
      "raaDna\n"
     ]
    }
   ],
   "source": [
    "b=a[2:13:2]\n",
    "print(b)"
   ]
  },
  {
   "cell_type": "code",
   "execution_count": 51,
   "metadata": {},
   "outputs": [
    {
     "name": "stdout",
     "output_type": "stream",
     "text": [
      "mraaDna\n"
     ]
    }
   ],
   "source": [
    "b=a[::2]\n",
    "print(b)"
   ]
  },
  {
   "cell_type": "code",
   "execution_count": 52,
   "metadata": {},
   "outputs": [
    {
     "name": "stdout",
     "output_type": "stream",
     "text": [
      "!aynüD abahrem\n"
     ]
    }
   ],
   "source": [
    "b=a[::-1]\n",
    "print(b)"
   ]
  },
  {
   "cell_type": "code",
   "execution_count": 54,
   "metadata": {},
   "outputs": [
    {
     "ename": "TypeError",
     "evalue": "'str' object does not support item assignment",
     "output_type": "error",
     "traceback": [
      "\u001b[1;31m---------------------------------------------------------------------------\u001b[0m",
      "\u001b[1;31mTypeError\u001b[0m                                 Traceback (most recent call last)",
      "\u001b[1;32m<ipython-input-54-81ce2c90cf95>\u001b[0m in \u001b[0;36m<module>\u001b[1;34m\u001b[0m\n\u001b[1;32m----> 1\u001b[1;33m \u001b[0ma\u001b[0m\u001b[1;33m[\u001b[0m\u001b[1;36m0\u001b[0m\u001b[1;33m]\u001b[0m\u001b[1;33m=\u001b[0m\u001b[1;34m\"M\"\u001b[0m \u001b[1;31m#hata, stringleri dizi gibi okuyabilir ancak elemanlarını değiştiremeyiz\u001b[0m\u001b[1;33m\u001b[0m\u001b[1;33m\u001b[0m\u001b[0m\n\u001b[0m",
      "\u001b[1;31mTypeError\u001b[0m: 'str' object does not support item assignment"
     ]
    }
   ],
   "source": [
    "a[0]=\"M\" #hata, stringleri dizi gibi okuyabilir ancak elemanlarını değiştiremeyiz"
   ]
  },
  {
   "cell_type": "code",
   "execution_count": 57,
   "metadata": {},
   "outputs": [
    {
     "name": "stdout",
     "output_type": "stream",
     "text": [
      "merhaba Dünya!\n",
      "merhaba merhaba merhaba Dünya!\n",
      "www.google.com\n"
     ]
    }
   ],
   "source": [
    "a=\"merhaba \"\n",
    "b=\"Dünya!\"\n",
    "c=a+b\n",
    "print(c)\n",
    "c=a*3+b\n",
    "print(c)\n",
    "print(\"w\"*3 +\".google.com\")"
   ]
  },
  {
   "cell_type": "markdown",
   "metadata": {},
   "source": [
    "#### 3.4.2. Kaçış Dizileri\n",
    "https://python-istihza.yazbel.com/kacis_dizileri.html\n",
    "\n",
    "    Kaçış Dizisi                     Anlamı\n",
    "\n",
    "            \\’                       Karakter dizisi içinde tek tırnak işaretini kullanabilmemizi sağlar.\n",
    "\n",
    "            \\”                       Karakter dizisi içinde çift tırnak işaretini kullanabilmemizi sağlar.\n",
    "\n",
    "            \\\\                       Karakter dizisi içinde \\ işaretini kullanabilmemizi sağlar.\n",
    "\n",
    "            \\n                       Yeni bir satıra geçmemizi sağlar.\n",
    "\n",
    "            \\t                       Karakterler arasında sekme boşluğu bırakmamızı sağlar.\n",
    "\n",
    "            \\u                       UNICODE kod konumlarını gösterebilmemizi sağlar.\n",
    "\n",
    "            \\U                       UNICODE kod konumlarını gösterebilmemizi sağlar.\n",
    "\n",
    "            \\N                       Karakterleri UNICODE adlarına göre kullanabilmemizi sağlar.\n",
    "\n",
    "            \\x                       Onaltılı sistemdeki bir sayının karakter karşılığını gösterebilmemizi sağlar.\n",
    "\n",
    "            \\a                       Destekleyen sistemlerde, kasa hoparlöründen bir ‘bip’ sesi verilmesini sağlar.\n",
    "\n",
    "            \\r                       Aynı satırın başına dönülmesini sağlar.\n",
    "\n",
    "            \\v                       Destekleyen sistemlerde düşey sekme oluşturulmasını sağlar.\n",
    "\n",
    "            \\b                       İmlecin sola doğru kaydırılmasını sağlar\n",
    "\n",
    "            \\f                       Yeni bir sayfaya geçilmesini sağlar.\n",
    "\n",
    "            r                        Karakter dizisi içinde kaçış dizilerini kullanabilmemizi sağlar."
   ]
  },
  {
   "cell_type": "code",
   "execution_count": 61,
   "metadata": {},
   "outputs": [
    {
     "name": "stdout",
     "output_type": "stream",
     "text": [
      "Ali \"boon canlı ders var mı?\" dedi.\n",
      "c:\\dersler\\python\n",
      "c:\n",
      "otlar\\python\n",
      "c:\\notlar\\python\n"
     ]
    }
   ],
   "source": [
    "print(\"Ali \\\"boon canlı ders var mı?\\\" dedi.\")\n",
    "print(\"c:\\dersler\\python\")\n",
    "print(\"c:\\notlar\\python\") #hata \\n zannetti\n",
    "print(\"c:\\\\notlar\\\\python\")"
   ]
  },
  {
   "cell_type": "code",
   "execution_count": 63,
   "metadata": {},
   "outputs": [
    {
     "name": "stdout",
     "output_type": "stream",
     "text": [
      "merhaba\n",
      "Dünya!\n"
     ]
    }
   ],
   "source": [
    "a=\"merhaba\\nDünya!\"\n",
    "print(a)"
   ]
  },
  {
   "cell_type": "code",
   "execution_count": 64,
   "metadata": {},
   "outputs": [
    {
     "name": "stdout",
     "output_type": "stream",
     "text": [
      "B\n"
     ]
    }
   ],
   "source": [
    "print(\"\\x42\")"
   ]
  },
  {
   "cell_type": "markdown",
   "metadata": {},
   "source": [
    "## 4. Print Fonksiyonu\n",
    "print()"
   ]
  },
  {
   "cell_type": "code",
   "execution_count": 66,
   "metadata": {},
   "outputs": [
    {
     "name": "stdout",
     "output_type": "stream",
     "text": [
      "merhaba\n",
      "7\n",
      "3.14\n"
     ]
    }
   ],
   "source": [
    "print(\"merhaba\")\n",
    "print(7)\n",
    "print(3.14)"
   ]
  },
  {
   "cell_type": "markdown",
   "metadata": {},
   "source": [
    "<b>Not:</b> print fonksiyonunda birden fazla değeri arka arkaya yazdırmak istersek print(deger1,deger2,deger3,...)"
   ]
  },
  {
   "cell_type": "code",
   "execution_count": 67,
   "metadata": {},
   "outputs": [
    {
     "name": "stdout",
     "output_type": "stream",
     "text": [
      "7 3.14 merhaba\n"
     ]
    }
   ],
   "source": [
    "print(7,3.14,\"merhaba\")"
   ]
  },
  {
   "cell_type": "code",
   "execution_count": 71,
   "metadata": {},
   "outputs": [
    {
     "name": "stdout",
     "output_type": "stream",
     "text": [
      "7 \n",
      " 3.14 \n",
      "merhaba\n"
     ]
    }
   ],
   "source": [
    "print(7,\"\\n\",3.14,\"\\nmerhaba\")"
   ]
  },
  {
   "cell_type": "markdown",
   "metadata": {},
   "source": [
    "### 4.1. sep parametresi\n",
    "seperator (ayıraç)"
   ]
  },
  {
   "cell_type": "code",
   "execution_count": 72,
   "metadata": {},
   "outputs": [
    {
     "name": "stdout",
     "output_type": "stream",
     "text": [
      "merhaba Dünya!\n"
     ]
    }
   ],
   "source": [
    "print(\"merhaba\",\"Dünya!\")"
   ]
  },
  {
   "cell_type": "code",
   "execution_count": 73,
   "metadata": {},
   "outputs": [
    {
     "name": "stdout",
     "output_type": "stream",
     "text": [
      "merhaba-Dünya!\n"
     ]
    }
   ],
   "source": [
    "print(\"merhaba\",\"Dünya!\",sep=\"-\")"
   ]
  },
  {
   "cell_type": "code",
   "execution_count": 74,
   "metadata": {},
   "outputs": [
    {
     "name": "stdout",
     "output_type": "stream",
     "text": [
      "merhaba-Dünya!\n",
      "merhaba/Dünya!\n",
      "merhaba\n",
      "Dünya!\n"
     ]
    }
   ],
   "source": [
    "print(\"merhaba\",\"Dünya!\",sep=\"-\")\n",
    "print(\"merhaba\",\"Dünya!\",sep=\"/\")\n",
    "print(\"merhaba\",\"Dünya!\",sep=\"\\n\")"
   ]
  },
  {
   "cell_type": "code",
   "execution_count": 75,
   "metadata": {},
   "outputs": [
    {
     "name": "stdout",
     "output_type": "stream",
     "text": [
      "7\n",
      "3.14\n",
      "merhaba\n"
     ]
    }
   ],
   "source": [
    "print(7,3.14,\"merhaba\",sep=\"\\n\")"
   ]
  },
  {
   "cell_type": "code",
   "execution_count": 76,
   "metadata": {},
   "outputs": [
    {
     "name": "stdout",
     "output_type": "stream",
     "text": [
      "11.3.2021\n"
     ]
    }
   ],
   "source": [
    "gun=11\n",
    "ay=3\n",
    "yil=2021\n",
    "print(gun,ay,yil,sep=\".\")"
   ]
  },
  {
   "cell_type": "markdown",
   "metadata": {},
   "source": [
    "### 4.2. string.format\n",
    "\n",
    "https://pyformat.info/\n",
    "\n",
    "https://python-istihza.yazbel.com/input.html#format-metodu\n",
    "\n",
    "https://python-istihza.yazbel.com/karakter_dizilerini_bicimlendirmek.html#format-metodu-ile-bicimlendirme-yeni-yontem\n",
    "\n",
    "https://python-istihza.yazbel.com/karakter_dizilerini_bicimlendirmek.html#id2"
   ]
  },
  {
   "cell_type": "code",
   "execution_count": 77,
   "metadata": {},
   "outputs": [
    {
     "name": "stdout",
     "output_type": "stream",
     "text": [
      "merhaba Ali, nasılsın?\n"
     ]
    }
   ],
   "source": [
    "a=\"merhaba {}, nasılsın?\".format(\"Ali\")\n",
    "print(a)"
   ]
  },
  {
   "cell_type": "code",
   "execution_count": 78,
   "metadata": {},
   "outputs": [
    {
     "name": "stdout",
     "output_type": "stream",
     "text": [
      "merhaba Ahmet, nasılsın?\n"
     ]
    }
   ],
   "source": [
    "isim=\"Ahmet\"\n",
    "a=\"merhaba {}, nasılsın?\".format(isim)\n",
    "print(a)"
   ]
  },
  {
   "cell_type": "code",
   "execution_count": 79,
   "metadata": {},
   "outputs": [
    {
     "name": "stdout",
     "output_type": "stream",
     "text": [
      "3 sayısı ile 4 sayısının toplamları 7'dır.\n"
     ]
    }
   ],
   "source": [
    "a=3\n",
    "b=4\n",
    "print(\"{} sayısı ile {} sayısının toplamları {}'dır.\".format(a,b,a+b))"
   ]
  },
  {
   "cell_type": "code",
   "execution_count": 80,
   "metadata": {},
   "outputs": [
    {
     "name": "stdout",
     "output_type": "stream",
     "text": [
      "3 sayısı ile 4 sayısının toplamları 7'dır.\n"
     ]
    }
   ],
   "source": [
    "a=3\n",
    "b=4\n",
    "print(\"{0} sayısı ile {1} sayısının toplamları {2}'dır.\".format(a,b,a+b))"
   ]
  },
  {
   "cell_type": "code",
   "execution_count": 81,
   "metadata": {},
   "outputs": [
    {
     "name": "stdout",
     "output_type": "stream",
     "text": [
      "4 sayısı ile 7 sayısının toplamları 3'dır.\n"
     ]
    }
   ],
   "source": [
    "a=3\n",
    "b=4\n",
    "print(\"{1} sayısı ile {2} sayısının toplamları {0}'dır.\".format(a,b,a+b))"
   ]
  },
  {
   "cell_type": "code",
   "execution_count": 83,
   "metadata": {
    "scrolled": true
   },
   "outputs": [
    {
     "name": "stdout",
     "output_type": "stream",
     "text": [
      "3.1234567 ve 4.987654321 sayıları ondalık sayılardır\n"
     ]
    }
   ],
   "source": [
    "yaz=\"{} ve {} sayıları ondalık sayılardır\".format(3.1234567,4.987654321)\n",
    "print(yaz)"
   ]
  },
  {
   "cell_type": "code",
   "execution_count": 84,
   "metadata": {},
   "outputs": [
    {
     "name": "stdout",
     "output_type": "stream",
     "text": [
      "3.12 ve 4.988 sayıları ondalık sayılardır\n"
     ]
    }
   ],
   "source": [
    "yaz=\"{:.2f} ve {:.3f} sayıları ondalık sayılardır\".format(3.1234567,4.987654321)\n",
    "print(yaz)"
   ]
  },
  {
   "cell_type": "code",
   "execution_count": 7,
   "metadata": {},
   "outputs": [
    {
     "name": "stdout",
     "output_type": "stream",
     "text": [
      "65\n",
      "A\n",
      "65\n",
      "101\n",
      "41\n",
      "1000001\n"
     ]
    }
   ],
   "source": [
    "print(\"{:s}\".format(\"65\")) #string\n",
    "print(\"{:c}\".format(65)) #char\n",
    "print(\"{:d}\".format(65)) #decimal\n",
    "print(\"{:o}\".format(65)) #octal 8lik sistem\n",
    "print(\"{:x}\".format(65)) #hex 16'lık sistem \n",
    "print(\"{:b}\".format(65)) #binary 2lik sistem\n"
   ]
  },
  {
   "cell_type": "code",
   "execution_count": 88,
   "metadata": {},
   "outputs": [
    {
     "name": "stdout",
     "output_type": "stream",
     "text": [
      "1,234,567.89\n"
     ]
    }
   ],
   "source": [
    "print(\"{:,}\".format(1234567.890))"
   ]
  },
  {
   "cell_type": "markdown",
   "metadata": {},
   "source": [
    "## 5. Input\n",
    "Kullanıcıdan bilgi almak için kullanılır."
   ]
  },
  {
   "cell_type": "code",
   "execution_count": 89,
   "metadata": {},
   "outputs": [
    {
     "name": "stdout",
     "output_type": "stream",
     "text": [
      "merhaba\n",
      "merhaba\n"
     ]
    }
   ],
   "source": [
    "a=input()\n",
    "print(a)"
   ]
  },
  {
   "cell_type": "code",
   "execution_count": 90,
   "metadata": {},
   "outputs": [
    {
     "name": "stdout",
     "output_type": "stream",
     "text": [
      "sayı giriniz:5\n",
      "5\n"
     ]
    }
   ],
   "source": [
    "a=input(\"sayı giriniz:\")\n",
    "print(a)"
   ]
  },
  {
   "cell_type": "code",
   "execution_count": 91,
   "metadata": {},
   "outputs": [
    {
     "name": "stdout",
     "output_type": "stream",
     "text": [
      "Adınızı giriniz:ali\n",
      "merhaba ali, nasılsın?\n"
     ]
    }
   ],
   "source": [
    "a=input(\"Adınızı giriniz:\")\n",
    "print(\"merhaba {}, nasılsın?\".format(a))"
   ]
  },
  {
   "cell_type": "code",
   "execution_count": 93,
   "metadata": {},
   "outputs": [
    {
     "name": "stdout",
     "output_type": "stream",
     "text": [
      "sayı giriniz:6\n",
      "<class 'str'>\n",
      "666\n"
     ]
    }
   ],
   "source": [
    "a=input(\"sayı giriniz:\")\n",
    "print(type(a))\n",
    "print(a*3)"
   ]
  },
  {
   "cell_type": "code",
   "execution_count": 94,
   "metadata": {},
   "outputs": [
    {
     "name": "stdout",
     "output_type": "stream",
     "text": [
      "1. sayıyı giriniz:3\n",
      "2. sayıyı giriniz:5\n",
      "girilen sayıların toplamı=8\n"
     ]
    }
   ],
   "source": [
    "a=int(input(\"1. sayıyı giriniz:\"))\n",
    "b=int(input(\"2. sayıyı giriniz:\"))\n",
    "print(\"girilen sayıların toplamı={}\".format(a+b))"
   ]
  },
  {
   "cell_type": "code",
   "execution_count": 95,
   "metadata": {},
   "outputs": [
    {
     "name": "stdout",
     "output_type": "stream",
     "text": [
      "1. sayıyı giriniz:qwe\n"
     ]
    },
    {
     "ename": "ValueError",
     "evalue": "invalid literal for int() with base 10: 'qwe'",
     "output_type": "error",
     "traceback": [
      "\u001b[1;31m---------------------------------------------------------------------------\u001b[0m",
      "\u001b[1;31mValueError\u001b[0m                                Traceback (most recent call last)",
      "\u001b[1;32m<ipython-input-95-f75368098e7d>\u001b[0m in \u001b[0;36m<module>\u001b[1;34m\u001b[0m\n\u001b[1;32m----> 1\u001b[1;33m \u001b[0ma\u001b[0m\u001b[1;33m=\u001b[0m\u001b[0mint\u001b[0m\u001b[1;33m(\u001b[0m\u001b[0minput\u001b[0m\u001b[1;33m(\u001b[0m\u001b[1;34m\"1. sayıyı giriniz:\"\u001b[0m\u001b[1;33m)\u001b[0m\u001b[1;33m)\u001b[0m\u001b[1;33m\u001b[0m\u001b[1;33m\u001b[0m\u001b[0m\n\u001b[0m\u001b[0;32m      2\u001b[0m \u001b[0mb\u001b[0m\u001b[1;33m=\u001b[0m\u001b[0mint\u001b[0m\u001b[1;33m(\u001b[0m\u001b[0minput\u001b[0m\u001b[1;33m(\u001b[0m\u001b[1;34m\"2. sayıyı giriniz:\"\u001b[0m\u001b[1;33m)\u001b[0m\u001b[1;33m)\u001b[0m\u001b[1;33m\u001b[0m\u001b[1;33m\u001b[0m\u001b[0m\n\u001b[0;32m      3\u001b[0m \u001b[0mprint\u001b[0m\u001b[1;33m(\u001b[0m\u001b[1;34m\"girilen sayıların toplamı={}\"\u001b[0m\u001b[1;33m.\u001b[0m\u001b[0mformat\u001b[0m\u001b[1;33m(\u001b[0m\u001b[0ma\u001b[0m\u001b[1;33m+\u001b[0m\u001b[0mb\u001b[0m\u001b[1;33m)\u001b[0m\u001b[1;33m)\u001b[0m\u001b[1;33m\u001b[0m\u001b[1;33m\u001b[0m\u001b[0m\n",
      "\u001b[1;31mValueError\u001b[0m: invalid literal for int() with base 10: 'qwe'"
     ]
    }
   ],
   "source": [
    "a=int(input(\"1. sayıyı giriniz:\"))\n",
    "b=int(input(\"2. sayıyı giriniz:\"))\n",
    "print(\"girilen sayıların toplamı={}\".format(a+b))"
   ]
  },
  {
   "cell_type": "code",
   "execution_count": 3,
   "metadata": {},
   "outputs": [
    {
     "name": "stdout",
     "output_type": "stream",
     "text": [
      "sayı giriniz*\n",
      "sayı istedik!  sence sayıya benziyor mu?\n"
     ]
    }
   ],
   "source": [
    "#ileride try bloklarını ayrıntılı görecegiz, simdilik bu kısma takılmayın\n",
    "a=input(\"sayı giriniz\")\n",
    "try:\n",
    "    a=int(a)\n",
    "    print(a*3)\n",
    "except:\n",
    "    print(\"sayı istedik!\",\" sence sayıya benziyor mu?\",)"
   ]
  },
  {
   "cell_type": "code",
   "execution_count": null,
   "metadata": {},
   "outputs": [],
   "source": []
  }
 ],
 "metadata": {
  "kernelspec": {
   "display_name": "Python 3 (ipykernel)",
   "language": "python",
   "name": "python3"
  },
  "language_info": {
   "codemirror_mode": {
    "name": "ipython",
    "version": 3
   },
   "file_extension": ".py",
   "mimetype": "text/x-python",
   "name": "python",
   "nbconvert_exporter": "python",
   "pygments_lexer": "ipython3",
   "version": "3.9.12"
  }
 },
 "nbformat": 4,
 "nbformat_minor": 4
}
