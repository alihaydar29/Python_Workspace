{
 "cells": [
  {
   "cell_type": "markdown",
   "metadata": {},
   "source": [
    "### 10.2. While Döngüleri\n",
    "\n",
    "Koşul sağlandığı sürece (True olduğu sürece) çalışan döngülerdir.\n",
    "\n",
    "    while(kosul):\n",
    "        islemler\n",
    "        \n",
    "<b>Not:</b> Döngü içerisinde koşula müdahale edilmelidir, aksi takdirde sonsuz döngüye girilir."
   ]
  },
  {
   "cell_type": "code",
   "execution_count": 1,
   "metadata": {},
   "outputs": [
    {
     "name": "stdout",
     "output_type": "stream",
     "text": [
      "2\n",
      "3\n",
      "4\n",
      "5\n",
      "6\n",
      "7\n",
      "8\n",
      "9\n",
      "10\n"
     ]
    }
   ],
   "source": [
    "kosul=True\n",
    "a=1\n",
    "while(kosul):\n",
    "    a+=1\n",
    "    print(a)\n",
    "    if a==10: #bu if olmasa idi sonsuz döngü olur idi\n",
    "        kosul=False\n",
    "    "
   ]
  },
  {
   "cell_type": "code",
   "execution_count": 2,
   "metadata": {},
   "outputs": [
    {
     "name": "stdout",
     "output_type": "stream",
     "text": [
      "2\n",
      "3\n",
      "4\n",
      "5\n",
      "6\n",
      "7\n",
      "8\n",
      "9\n",
      "10\n"
     ]
    }
   ],
   "source": [
    "a=1\n",
    "while(a<10):\n",
    "    a+=1\n",
    "    print(a)"
   ]
  },
  {
   "cell_type": "code",
   "execution_count": 3,
   "metadata": {},
   "outputs": [
    {
     "name": "stdout",
     "output_type": "stream",
     "text": [
      "1\n",
      "2\n",
      "3\n",
      "4\n",
      "5\n",
      "6\n",
      "7\n",
      "8\n",
      "9\n"
     ]
    }
   ],
   "source": [
    "liste=[1,2,3,4,5,6,7,8,9]\n",
    "for i in liste:\n",
    "    print(i)"
   ]
  },
  {
   "cell_type": "code",
   "execution_count": 4,
   "metadata": {},
   "outputs": [
    {
     "name": "stdout",
     "output_type": "stream",
     "text": [
      "listenin 0 indisli elemanı: 1\n",
      "listenin 1 indisli elemanı: 2\n",
      "listenin 2 indisli elemanı: 3\n",
      "listenin 3 indisli elemanı: 4\n",
      "listenin 4 indisli elemanı: 5\n",
      "listenin 5 indisli elemanı: 6\n",
      "listenin 6 indisli elemanı: 7\n",
      "listenin 7 indisli elemanı: 8\n",
      "listenin 8 indisli elemanı: 9\n"
     ]
    }
   ],
   "source": [
    "liste=[1,2,3,4,5,6,7,8,9]\n",
    "indis=0\n",
    "while(indis<len(liste)):\n",
    "    print(\"listenin {} indisli elemanı: {}\".format(indis,liste[indis]))\n",
    "    indis+=1"
   ]
  },
  {
   "cell_type": "code",
   "execution_count": 5,
   "metadata": {},
   "outputs": [
    {
     "name": "stdout",
     "output_type": "stream",
     "text": [
      "----------------\n",
      "Hesap Makinesi\n",
      "İşlemler:\n",
      "1. Toplama\n",
      "2. Çıkartma\n",
      "3. Çarpma\n",
      "4. Bölme\n",
      "q. Çıkış\n",
      "----------------\n",
      "\n",
      "işlem seçiniz2\n",
      "1.sayı4\n",
      "2.sayı3\n",
      "4 - 3 = 1\n",
      "----------------\n",
      "Hesap Makinesi\n",
      "İşlemler:\n",
      "1. Toplama\n",
      "2. Çıkartma\n",
      "3. Çarpma\n",
      "4. Bölme\n",
      "q. Çıkış\n",
      "----------------\n",
      "\n",
      "işlem seçiniz3\n",
      "1.sayı3\n",
      "2.sayı4\n",
      "3 * 4 = 12\n",
      "----------------\n",
      "Hesap Makinesi\n",
      "İşlemler:\n",
      "1. Toplama\n",
      "2. Çıkartma\n",
      "3. Çarpma\n",
      "4. Bölme\n",
      "q. Çıkış\n",
      "----------------\n",
      "\n",
      "işlem seçinizq\n",
      "oldu o zaman\n"
     ]
    }
   ],
   "source": [
    "\n",
    "\n",
    "while(True):\n",
    "    print(\"\"\"----------------\n",
    "Hesap Makinesi\n",
    "İşlemler:\n",
    "1. Toplama\n",
    "2. Çıkartma\n",
    "3. Çarpma\n",
    "4. Bölme\n",
    "q. Çıkış\n",
    "----------------\n",
    "\"\"\")\n",
    "    soru=input(\"işlem seçiniz\")\n",
    "    if(soru==\"q\"):\n",
    "        print(\"oldu o zaman\")\n",
    "        break\n",
    "    elif soru==\"1\":\n",
    "        sayi1=int(input(\"1.sayı\"))\n",
    "        sayi2=int(input(\"2.sayı\"))\n",
    "        print(sayi1,\"+\",sayi2,\"=\",sayi1+sayi2)\n",
    "    elif soru==\"2\":\n",
    "        sayi1=int(input(\"1.sayı\"))\n",
    "        sayi2=int(input(\"2.sayı\"))\n",
    "        print(sayi1,\"-\",sayi2,\"=\",sayi1-sayi2)\n",
    "    elif soru==\"3\":\n",
    "        sayi1=int(input(\"1.sayı\"))\n",
    "        sayi2=int(input(\"2.sayı\"))\n",
    "        print(sayi1,\"*\",sayi2,\"=\",sayi1*sayi2)\n",
    "    elif soru==\"4\":\n",
    "        sayi1=int(input(\"1.sayı\"))\n",
    "        sayi2=int(input(\"2.sayı\"))\n",
    "        print(sayi1,\"/\",sayi2,\"=\",sayi1/sayi2)\n",
    "    else:\n",
    "        print(\"o yok bizde\")\n",
    "        \n",
    "    "
   ]
  },
  {
   "cell_type": "markdown",
   "metadata": {},
   "source": [
    "### 10.3. Döngülerle ilgili araçlar\n",
    "\n",
    "döngüleri kullanırken işimizi kolaylaştıracak bazı deyimler vardır\n",
    "\n",
    "range() fonksiyonu\n",
    "\n",
    "break deyimi\n",
    "\n",
    "continue deyimi\n",
    "\n",
    "pass deyimi\n",
    "\n",
    "else deyimi"
   ]
  },
  {
   "cell_type": "markdown",
   "metadata": {},
   "source": [
    "#### 10.3.1. range() fonksiyonu\n",
    "Başlangıç, bitiş ve artırma değerlerine göre bir liste oluşturur."
   ]
  },
  {
   "cell_type": "code",
   "execution_count": 6,
   "metadata": {},
   "outputs": [
    {
     "name": "stdout",
     "output_type": "stream",
     "text": [
      "range(0, 10)\n"
     ]
    }
   ],
   "source": [
    "a=range(0,10)\n",
    "print(a)"
   ]
  },
  {
   "cell_type": "code",
   "execution_count": 7,
   "metadata": {},
   "outputs": [
    {
     "name": "stdout",
     "output_type": "stream",
     "text": [
      "0 1 2 3 4 5 6 7 8 9\n"
     ]
    }
   ],
   "source": [
    "a=range(0,10) #burada 10 aralığa dahil değildir.\n",
    "print(*a) # birden fazla parametreli fonksiyon çağırılırken değişken dizisinin önüne * işareti konulur"
   ]
  },
  {
   "cell_type": "code",
   "execution_count": 8,
   "metadata": {},
   "outputs": [
    {
     "name": "stdout",
     "output_type": "stream",
     "text": [
      "0 1 2 3 4 5 6 7 8 9\n"
     ]
    }
   ],
   "source": [
    "a=range(10)\n",
    "print(*a)"
   ]
  },
  {
   "cell_type": "code",
   "execution_count": 9,
   "metadata": {},
   "outputs": [
    {
     "name": "stdout",
     "output_type": "stream",
     "text": [
      "5 6 7 8 9\n"
     ]
    }
   ],
   "source": [
    "a=range(5,10)\n",
    "print(*a)"
   ]
  },
  {
   "cell_type": "code",
   "execution_count": 10,
   "metadata": {},
   "outputs": [
    {
     "name": "stdout",
     "output_type": "stream",
     "text": [
      "5 7 9 11 13 15 17 19\n"
     ]
    }
   ],
   "source": [
    "a=range(5,20,2)\n",
    "print(*a)"
   ]
  },
  {
   "cell_type": "code",
   "execution_count": 12,
   "metadata": {},
   "outputs": [
    {
     "name": "stdout",
     "output_type": "stream",
     "text": [
      "20 18 16 14 12 10 8 6\n"
     ]
    }
   ],
   "source": [
    "a=range(20,5,-2)\n",
    "print(*a)"
   ]
  },
  {
   "cell_type": "code",
   "execution_count": 13,
   "metadata": {},
   "outputs": [
    {
     "name": "stdout",
     "output_type": "stream",
     "text": [
      "<class 'list'>\n",
      "<class 'list'>\n",
      "[1, 2, 3, 4, 5, 6, 7, 8, 9]\n",
      "[1, 2, 3, 4, 5, 6, 7, 8, 9]\n"
     ]
    }
   ],
   "source": [
    "liste1=[1,2,3,4,5,6,7,8,9]\n",
    "liste2=list(range(1,10))\n",
    "print(type(liste1))\n",
    "print(type(liste2))\n",
    "print(liste1)\n",
    "print(liste2)"
   ]
  },
  {
   "cell_type": "code",
   "execution_count": 14,
   "metadata": {},
   "outputs": [
    {
     "name": "stdout",
     "output_type": "stream",
     "text": [
      "1\n",
      "2\n",
      "3\n",
      "4\n",
      "5\n",
      "6\n",
      "7\n",
      "8\n",
      "9\n"
     ]
    }
   ],
   "source": [
    "liste=[1,2,3,4,5,6,7,8,9]\n",
    "for eleman in liste:\n",
    "    print(eleman)"
   ]
  },
  {
   "cell_type": "code",
   "execution_count": 15,
   "metadata": {},
   "outputs": [
    {
     "name": "stdout",
     "output_type": "stream",
     "text": [
      "1\n",
      "2\n",
      "3\n",
      "4\n",
      "5\n",
      "6\n",
      "7\n",
      "8\n",
      "9\n"
     ]
    }
   ],
   "source": [
    "liste1=[1,2,3,4,5,6,7,8,9]\n",
    "for i in range(len(liste)):\n",
    "    print(liste[i])"
   ]
  },
  {
   "cell_type": "code",
   "execution_count": 17,
   "metadata": {},
   "outputs": [
    {
     "name": "stdout",
     "output_type": "stream",
     "text": [
      "\n",
      "* \n",
      "* * \n",
      "* * * \n",
      "* * * * \n",
      "* * * * * \n",
      "* * * * * * \n",
      "* * * * * * * \n",
      "* * * * * * * * \n",
      "* * * * * * * * * \n"
     ]
    }
   ],
   "source": [
    "for i in range(10):\n",
    "    print(i*\"* \")"
   ]
  },
  {
   "cell_type": "markdown",
   "metadata": {},
   "source": [
    "#### 10.3.2. break deyimi\n",
    "Döngü içerisinde herhangi bir anda break deyimi çalışırsa döngü sonlandırılır.\n",
    "\n",
    "<b>Not:</b> break deyimi sadece içinde bulunduğu döngüyü sonlandırır. iç içe döngülerde en içteki break sadece kendinden bir üstteki döngüyü sonlandıracaktır."
   ]
  },
  {
   "cell_type": "code",
   "execution_count": 20,
   "metadata": {},
   "outputs": [
    {
     "name": "stdout",
     "output_type": "stream",
     "text": [
      "0\n",
      "1\n",
      "2\n",
      "3\n",
      "4\n",
      "5\n",
      "6\n",
      "7\n",
      "8\n",
      "9\n"
     ]
    }
   ],
   "source": [
    "i=0\n",
    "while(i<10):\n",
    "    print(i)\n",
    "    i+=1"
   ]
  },
  {
   "cell_type": "code",
   "execution_count": 22,
   "metadata": {},
   "outputs": [
    {
     "name": "stdout",
     "output_type": "stream",
     "text": [
      "0\n",
      "1\n",
      "2\n",
      "3\n",
      "4\n",
      "selam\n"
     ]
    }
   ],
   "source": [
    "i=0\n",
    "while(i<10):\n",
    "    if(i==5):\n",
    "        break\n",
    "    print(i)\n",
    "    i+=1\n",
    "print(\"selam\")"
   ]
  },
  {
   "cell_type": "code",
   "execution_count": 25,
   "metadata": {},
   "outputs": [
    {
     "name": "stdout",
     "output_type": "stream",
     "text": [
      "i: 0  j: 0\n",
      "i: 0  j: 1\n",
      "i: 0  j: 2\n",
      "i: 1  j: 0\n",
      "i: 1  j: 1\n",
      "i: 1  j: 2\n",
      "i: 2  j: 0\n",
      "i: 2  j: 1\n",
      "i: 2  j: 2\n"
     ]
    }
   ],
   "source": [
    "for i in range(3):\n",
    "    for j in range(3):    \n",
    "        print(\"i:\",i,\" j:\",j)"
   ]
  },
  {
   "cell_type": "code",
   "execution_count": 26,
   "metadata": {},
   "outputs": [
    {
     "name": "stdout",
     "output_type": "stream",
     "text": [
      "i: 0  j: 0\n",
      "i: 0  j: 1\n",
      "i: 1  j: 0\n",
      "i: 1  j: 1\n",
      "i: 2  j: 0\n",
      "i: 2  j: 1\n"
     ]
    }
   ],
   "source": [
    "for i in range(3):\n",
    "    for j in range(3): \n",
    "        if j==2:\n",
    "            break\n",
    "        print(\"i:\",i,\" j:\",j)"
   ]
  },
  {
   "cell_type": "code",
   "execution_count": 27,
   "metadata": {},
   "outputs": [
    {
     "name": "stdout",
     "output_type": "stream",
     "text": [
      "adınızı giriniz, çıkmak için qali\n",
      "hoşgeldin  ali\n",
      "adınızı giriniz, çıkmak için qveli\n",
      "hoşgeldin  veli\n",
      "adınızı giriniz, çıkmak için qq\n"
     ]
    }
   ],
   "source": [
    "while True:\n",
    "    isim=input(\"adınızı giriniz, çıkmak için q\")\n",
    "    if(isim==\"q\"):\n",
    "        break\n",
    "    else:\n",
    "        print(\"hoşgeldin \",isim)\n",
    "    "
   ]
  },
  {
   "cell_type": "markdown",
   "metadata": {},
   "source": [
    "#### 10.3.3. continue deyimi\n",
    "\n",
    "Döngü içerisinde herhangi bir anda continue deyimi çalışırsa deyimden sonraki kodlar çalıştırılmaz ve döngünün başına gidilir."
   ]
  },
  {
   "cell_type": "code",
   "execution_count": 28,
   "metadata": {},
   "outputs": [
    {
     "name": "stdout",
     "output_type": "stream",
     "text": [
      "0\n",
      "1\n",
      "2\n",
      "3\n",
      "4\n",
      "5\n",
      "6\n",
      "7\n",
      "8\n",
      "9\n"
     ]
    }
   ],
   "source": [
    "liste=list(range(10))\n",
    "for i in liste:\n",
    "    print(i)"
   ]
  },
  {
   "cell_type": "code",
   "execution_count": 29,
   "metadata": {},
   "outputs": [
    {
     "name": "stdout",
     "output_type": "stream",
     "text": [
      "0\n",
      "1\n",
      "2\n"
     ]
    }
   ],
   "source": [
    "liste=list(range(10))\n",
    "for i in liste:\n",
    "    if(i==3):\n",
    "        break\n",
    "    print(i)"
   ]
  },
  {
   "cell_type": "code",
   "execution_count": 30,
   "metadata": {},
   "outputs": [
    {
     "name": "stdout",
     "output_type": "stream",
     "text": [
      "0\n",
      "1\n",
      "2\n",
      "4\n",
      "5\n",
      "6\n",
      "7\n",
      "8\n",
      "9\n"
     ]
    }
   ],
   "source": [
    "liste=list(range(10))\n",
    "for i in liste:\n",
    "    if(i==3):\n",
    "        continue\n",
    "    print(i)"
   ]
  },
  {
   "cell_type": "markdown",
   "metadata": {},
   "source": [
    "#### 10.3.4. pass deyimi\n",
    "Python'da görmezden gel, hiçbirşey yapma anlamına gelir."
   ]
  },
  {
   "cell_type": "code",
   "execution_count": 32,
   "metadata": {},
   "outputs": [
    {
     "name": "stdout",
     "output_type": "stream",
     "text": [
      "bir sayı giriniz5\n",
      "5\n",
      "bir sayı giriniz6\n",
      "6\n",
      "bir sayı giriniz3\n",
      "3\n",
      "bir sayı giriniz-4\n",
      "bir sayı giriniz0\n"
     ]
    }
   ],
   "source": [
    "while True:\n",
    "    sayi=int(input(\"bir sayı giriniz\"))\n",
    "    if sayi==0:\n",
    "        break\n",
    "    elif sayi<0:\n",
    "        pass\n",
    "    else:\n",
    "        print(sayi)"
   ]
  },
  {
   "cell_type": "markdown",
   "metadata": {},
   "source": [
    "#### 10.3.5. else deyimi\n",
    "\n",
    "else deyimi döngüler ile birlikte kullanılırken break deyimi ile anlam kazanır.\n",
    "\n",
    "Eğer döngü break ifadesi kullanılarak sonlandırıldı ise else bloğu çalışmaz, döngü break ifadesi sonlandırılmadı ise else bloğu çalışır.\n"
   ]
  },
  {
   "cell_type": "code",
   "execution_count": 34,
   "metadata": {},
   "outputs": [
    {
     "name": "stdout",
     "output_type": "stream",
     "text": [
      "a harfi bulunmadı\n"
     ]
    }
   ],
   "source": [
    "karakterDizisi=\"Bu yAzıdA küçük A yok.\"\n",
    "calistiMi=False\n",
    "for harf in karakterDizisi:\n",
    "    if(harf=='a'):\n",
    "        print(\"a harfi bulundu\")\n",
    "        calistiMi=True\n",
    "        break\n",
    "if calistiMi==False:\n",
    "    print(\"a harfi bulunmadı\")"
   ]
  },
  {
   "cell_type": "code",
   "execution_count": 38,
   "metadata": {},
   "outputs": [
    {
     "name": "stdout",
     "output_type": "stream",
     "text": [
      "a harfi bulunmadı\n"
     ]
    }
   ],
   "source": [
    "karakterDizisi=\"Bu yAzıdA küçük A yok.\"\n",
    "for harf in karakterDizisi:\n",
    "    if(harf=='a'):\n",
    "        print(\"a harfi bulundu\")\n",
    "        break\n",
    "else:\n",
    "    print(\"a harfi bulunmadı\")\n",
    "    "
   ]
  },
  {
   "cell_type": "markdown",
   "metadata": {},
   "source": [
    "#### 10.3.6. List Comprehension"
   ]
  },
  {
   "cell_type": "code",
   "execution_count": 39,
   "metadata": {},
   "outputs": [
    {
     "name": "stdout",
     "output_type": "stream",
     "text": [
      "['a', 'b', 'c', 'd', 'e']\n"
     ]
    }
   ],
   "source": [
    "liste1=[\"a\",\"b\",\"c\",\"d\",\"e\"]\n",
    "liste2=[]\n",
    "for i in liste1:\n",
    "    liste2.append(i)\n",
    "print(liste2)"
   ]
  },
  {
   "cell_type": "code",
   "execution_count": 40,
   "metadata": {},
   "outputs": [
    {
     "name": "stdout",
     "output_type": "stream",
     "text": [
      "['a', 'b', 'c', 'd', 'e']\n"
     ]
    }
   ],
   "source": [
    "liste3=[\"a\",\"b\",\"c\",\"d\",\"e\"]\n",
    "liste4=[i for i in liste3]\n",
    "print(liste4)"
   ]
  },
  {
   "cell_type": "code",
   "execution_count": 42,
   "metadata": {},
   "outputs": [
    {
     "name": "stdout",
     "output_type": "stream",
     "text": [
      "[6, 8, 10, 12]\n"
     ]
    }
   ],
   "source": [
    "liste5=[3,4,5,6]\n",
    "liste6=[i*2 for i in liste5]\n",
    "print(liste6)"
   ]
  },
  {
   "cell_type": "code",
   "execution_count": 43,
   "metadata": {},
   "outputs": [
    {
     "name": "stdout",
     "output_type": "stream",
     "text": [
      "[2, 12, 30, 56]\n"
     ]
    }
   ],
   "source": [
    "liste7=[[1,2],[3,4],[5,6],[7,8]]\n",
    "liste8=[i*j for(i,j) in liste7]\n",
    "print(liste8)"
   ]
  },
  {
   "cell_type": "code",
   "execution_count": 44,
   "metadata": {},
   "outputs": [
    {
     "name": "stdout",
     "output_type": "stream",
     "text": [
      "j: 1  i: [1, 2, 3]\n",
      "j: 2  i: [1, 2, 3]\n",
      "j: 3  i: [1, 2, 3]\n",
      "j: 4  i: [4, 5, 6, 7, 8]\n",
      "j: 5  i: [4, 5, 6, 7, 8]\n",
      "j: 6  i: [4, 5, 6, 7, 8]\n",
      "j: 7  i: [4, 5, 6, 7, 8]\n",
      "j: 8  i: [4, 5, 6, 7, 8]\n",
      "j: 9  i: [9, 10, 11, 12, 13, 14, 15]\n",
      "j: 10  i: [9, 10, 11, 12, 13, 14, 15]\n",
      "j: 11  i: [9, 10, 11, 12, 13, 14, 15]\n",
      "j: 12  i: [9, 10, 11, 12, 13, 14, 15]\n",
      "j: 13  i: [9, 10, 11, 12, 13, 14, 15]\n",
      "j: 14  i: [9, 10, 11, 12, 13, 14, 15]\n",
      "j: 15  i: [9, 10, 11, 12, 13, 14, 15]\n",
      "[1, 2, 3, 4, 5, 6, 7, 8, 9, 10, 11, 12, 13, 14, 15]\n"
     ]
    }
   ],
   "source": [
    "liste9=[[1,2,3],[4,5,6,7,8],[9,10,11,12,13,14,15]]\n",
    "liste10=[]\n",
    "for i in liste9:\n",
    "    for j in i:\n",
    "        print(\"j:\",j, \" i:\", i)\n",
    "        liste10.append(j)\n",
    "print(liste10)"
   ]
  },
  {
   "cell_type": "code",
   "execution_count": 45,
   "metadata": {},
   "outputs": [
    {
     "name": "stdout",
     "output_type": "stream",
     "text": [
      "[1, 2, 3, 4, 5, 6, 7, 8, 9, 10, 11, 12, 13, 14, 15]\n"
     ]
    }
   ],
   "source": [
    "liste11=[[1,2,3],[4,5,6,7,8],[9,10,11,12,13,14,15]]\n",
    "liste12=[j for i in liste11 for j in i]\n",
    "print(liste12)"
   ]
  },
  {
   "cell_type": "code",
   "execution_count": null,
   "metadata": {},
   "outputs": [],
   "source": []
  }
 ],
 "metadata": {
  "kernelspec": {
   "display_name": "Python 3",
   "language": "python",
   "name": "python3"
  },
  "language_info": {
   "codemirror_mode": {
    "name": "ipython",
    "version": 3
   },
   "file_extension": ".py",
   "mimetype": "text/x-python",
   "name": "python",
   "nbconvert_exporter": "python",
   "pygments_lexer": "ipython3",
   "version": "3.7.6"
  }
 },
 "nbformat": 4,
 "nbformat_minor": 4
}
