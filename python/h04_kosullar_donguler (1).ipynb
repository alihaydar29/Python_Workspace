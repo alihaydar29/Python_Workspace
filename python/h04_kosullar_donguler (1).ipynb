{
 "cells": [
  {
   "cell_type": "markdown",
   "metadata": {},
   "source": [
    "## 9. Koşullar\n",
    "### 9.1. Mantıksal Veri Tipi (bool)\n",
    "bool veri tipi True ya da False değeri alan veri tipidir."
   ]
  },
  {
   "cell_type": "code",
   "execution_count": 1,
   "metadata": {},
   "outputs": [
    {
     "name": "stdout",
     "output_type": "stream",
     "text": [
      "<class 'bool'>\n",
      "True\n"
     ]
    }
   ],
   "source": [
    "a=True\n",
    "print(type(a))\n",
    "print(a)"
   ]
  },
  {
   "cell_type": "markdown",
   "metadata": {},
   "source": [
    "bool() fonksiyonu içine girilen değerin 0'dan farklı olması durumuna göre True ya da False değeri döndürür"
   ]
  },
  {
   "cell_type": "code",
   "execution_count": 5,
   "metadata": {},
   "outputs": [
    {
     "name": "stdout",
     "output_type": "stream",
     "text": [
      "True\n",
      "True\n",
      "False\n",
      "False\n"
     ]
    }
   ],
   "source": [
    "b=5\n",
    "c=bool(b)\n",
    "print(c)\n",
    "b=-5\n",
    "c=bool(b)\n",
    "print(c)\n",
    "b=0\n",
    "c=bool(b)\n",
    "print(c)\n",
    "b=0.0\n",
    "c=bool(b)\n",
    "print(c)"
   ]
  },
  {
   "cell_type": "markdown",
   "metadata": {},
   "source": [
    "<b>Not:</b> bir değişkenin değerini, değişkeni oluştururken belirlemek istemiyorsak ya da üzerinde yazan değeri silmek istiyorsak  degisken=None"
   ]
  },
  {
   "cell_type": "code",
   "execution_count": 7,
   "metadata": {},
   "outputs": [
    {
     "name": "stdout",
     "output_type": "stream",
     "text": [
      "<class 'int'>\n",
      "5\n",
      "<class 'NoneType'>\n",
      "None\n"
     ]
    }
   ],
   "source": [
    "a=5\n",
    "print(type(a))\n",
    "print(a)\n",
    "a=None\n",
    "print(type(a))\n",
    "print(a)"
   ]
  },
  {
   "cell_type": "markdown",
   "metadata": {},
   "source": [
    "### 9.2. Mantıksal Karşılaştırma Operatörleri\n",
    "<table class=\"table table-bordered\">\n",
    "<tr>\n",
    "<th style=\"width:10%\">Operatör</th><th style=\"width:45%\">Görevi</th><th>Örnek</th>\n",
    "</tr>\n",
    "<tr>\n",
    "<td>==</td>\n",
    "<td>İki değer birbirine eşitse True, değilse False değer döner.</td>\n",
    "<td> 2 == 2 (True) ,  2 == 3 (False)</td>\n",
    "</tr>\n",
    "<tr>\n",
    "<td>!=</td>\n",
    "<td>İki değer birbirine eşit değilse True, diğer durumda False döner.</td>\n",
    "<td>2 != 2 (False), 2 != 3 (True)</td>\n",
    "</tr>\n",
    "<tr>\n",
    "<td>&gt;</td>\n",
    "<td>Soldaki değer sağdaki değerden büyükse True, değilse False döner. </td>\n",
    "<td> 3 > 2 (True), 2 > 3 (False)</td>\n",
    "</tr>\n",
    "<tr>\n",
    "<td>&lt;</td>\n",
    "<td>Soldaki değer sağdaki değerden küçükse True, değilse False döner.</td>\n",
    "<td> 2 &lt; 3 (True) , 3 &lt; 2 (False) </td>\n",
    "</tr>\n",
    "<tr>\n",
    "<td>&gt;=</td>\n",
    "<td>Soldaki değer sağdaki değerden büyükse veya sağdaki değere eşitse True, değilse False döner.</td>\n",
    "<td> 3 &gt;= 2 (True),3 &gt;= 3 (True) , 2 &gt;= 3 (False)</td>\n",
    "</tr>\n",
    "<tr>\n",
    "<td>&lt;=</td>\n",
    "<td>Soldaki değer sağdaki değerden küçükse veya sağdaki değere eşitse True, değilse False döner.</td>\n",
    "<td> 3 &lt;= 2 (False),3 &lt;= 3 (True) , 2 &lt;= 3 (True) </td>\n",
    "</tr>\n",
    "</table>"
   ]
  },
  {
   "cell_type": "code",
   "execution_count": 8,
   "metadata": {},
   "outputs": [
    {
     "name": "stdout",
     "output_type": "stream",
     "text": [
      "True\n",
      "False\n"
     ]
    }
   ],
   "source": [
    "print(1==1)\n",
    "print(1==2)"
   ]
  },
  {
   "cell_type": "code",
   "execution_count": 9,
   "metadata": {},
   "outputs": [
    {
     "name": "stdout",
     "output_type": "stream",
     "text": [
      "True\n"
     ]
    }
   ],
   "source": [
    "a=[1,2,3]\n",
    "b=[1,2,3]\n",
    "print(a==b)"
   ]
  },
  {
   "cell_type": "markdown",
   "metadata": {},
   "source": [
    "### 9.3. Mantıksal Bağlaçlar (and, or, not)\n",
    "birden fazla karsilastirma islemini tek seferde ve birbiriyle bagintili yapacagimiz durumlarda kullanilir. Bu operatorler:\n",
    "\n",
    "and\n",
    "\n",
    "<table>\n",
    "<tr>\n",
    "<th style=\"width:50px\">A</th><th style=\"width:50px\">B</th><th style=\"width:50px\">and</th>\n",
    "</tr>\n",
    "<tr>\n",
    "<td>0</td>\n",
    "<td>0</td>\n",
    "<td>0</td>\n",
    "</tr>\n",
    "<tr>\n",
    "<td>0</td>\n",
    "<td>1</td>\n",
    "<td>0</td>\n",
    "</tr>\n",
    "<tr>\n",
    "<td>1</td>\n",
    "<td>0</td>\n",
    "<td>0</td>\n",
    "</tr>\n",
    "<tr>\n",
    "<td>1</td>\n",
    "<td>1</td>\n",
    "<td>1</td>\n",
    "</tr>\n",
    "</table>\n",
    "\n",
    "or\n",
    "\n",
    "<table>\n",
    "<tr>\n",
    "<th style=\"width:50px\">A</th><th style=\"width:50px\">B</th><th style=\"width:50px\">or</th>\n",
    "</tr>\n",
    "<tr>\n",
    "<td>0</td>\n",
    "<td>0</td>\n",
    "<td>0</td>\n",
    "</tr>\n",
    "<tr>\n",
    "<td>0</td>\n",
    "<td>1</td>\n",
    "<td>1</td>\n",
    "</tr>\n",
    "<tr>\n",
    "<td>1</td>\n",
    "<td>0</td>\n",
    "<td>1</td>\n",
    "</tr>\n",
    "<tr>\n",
    "<td>1</td>\n",
    "<td>1</td>\n",
    "<td>1</td>\n",
    "</tr>\n",
    "</table>\n",
    "\n",
    "not\n",
    "\n",
    "<table>\n",
    "<tr>\n",
    "<th style=\"width:50px\">A</th><th style=\"width:50px\">not</th>\n",
    "</tr>\n",
    "<tr>\n",
    "<td>0</td>\n",
    "<td>1</td>\n",
    "</tr>\n",
    "<tr>\n",
    "<td>1</td>\n",
    "<td>0</td>\n",
    "</tr>\n",
    "</table>"
   ]
  },
  {
   "cell_type": "code",
   "execution_count": 13,
   "metadata": {},
   "outputs": [
    {
     "name": "stdout",
     "output_type": "stream",
     "text": [
      "True\n"
     ]
    }
   ],
   "source": [
    "kullanici=\"ali\"\n",
    "sifre=\"123\"\n",
    "\n",
    "print(kullanici==\"ali\" and sifre==\"123\")"
   ]
  },
  {
   "cell_type": "code",
   "execution_count": 14,
   "metadata": {},
   "outputs": [
    {
     "name": "stdout",
     "output_type": "stream",
     "text": [
      "True\n"
     ]
    }
   ],
   "source": [
    "kullanici=\"ali\"\n",
    "sifre=\"123\"\n",
    "\n",
    "print(kullanici==\"ali\" or sifre==\"12\")"
   ]
  },
  {
   "cell_type": "code",
   "execution_count": 15,
   "metadata": {},
   "outputs": [
    {
     "name": "stdout",
     "output_type": "stream",
     "text": [
      "False\n",
      "True\n"
     ]
    }
   ],
   "source": [
    "a=5\n",
    "print(a==4)\n",
    "print(not a==4)"
   ]
  },
  {
   "cell_type": "markdown",
   "metadata": {},
   "source": [
    "<b>Not:</b> Parantez kullanarak işlem önceliğini sağlayabilirsiniz."
   ]
  },
  {
   "cell_type": "code",
   "execution_count": 16,
   "metadata": {},
   "outputs": [
    {
     "name": "stdout",
     "output_type": "stream",
     "text": [
      "False\n"
     ]
    }
   ],
   "source": [
    "print(not(5>4 and (2==3 or 5!=4)))"
   ]
  },
  {
   "cell_type": "code",
   "execution_count": 17,
   "metadata": {},
   "outputs": [
    {
     "name": "stdout",
     "output_type": "stream",
     "text": [
      "True\n"
     ]
    }
   ],
   "source": [
    "print(\"ali\">\"ahmet\") #burada string saıralamasına göre \"l\", \"h\"'den sonra geldiği için ali ahmetten büyüktür"
   ]
  },
  {
   "cell_type": "markdown",
   "metadata": {},
   "source": [
    "### 9.4. Koşullar (if)\n",
    "Koşullara geçmeden önce Python'da blok mantığından söz etmemiz gerek.\n",
    "\n",
    "Python'da bir kod bloğu \"tab\" kullanılarak girintili yazılmış ise o blok bir dışardaki bloğa ait demektir.\n",
    "\n",
    "    if(kosul):\n",
    "        islem1 #if'in icindedir\n",
    "    islem2 #if'in dışındadır"
   ]
  },
  {
   "cell_type": "code",
   "execution_count": 20,
   "metadata": {},
   "outputs": [
    {
     "name": "stdout",
     "output_type": "stream",
     "text": [
      "doğru\n",
      "doğru devam\n",
      "merhaba\n"
     ]
    }
   ],
   "source": [
    "kosul=True\n",
    "\n",
    "if(kosul):  #if(kosul==True)\n",
    "    print(\"doğru\")\n",
    "    print(\"doğru devam\")\n",
    "print(\"merhaba\")\n",
    "    "
   ]
  },
  {
   "cell_type": "code",
   "execution_count": 21,
   "metadata": {},
   "outputs": [
    {
     "name": "stdout",
     "output_type": "stream",
     "text": [
      "merhaba\n"
     ]
    }
   ],
   "source": [
    "kosul=False\n",
    "\n",
    "if(kosul):  #if(kosul==True)\n",
    "    print(\"doğru\")\n",
    "    print(\"doğru devam\")\n",
    "print(\"merhaba\")"
   ]
  },
  {
   "cell_type": "markdown",
   "metadata": {},
   "source": [
    "    if(kosul):\n",
    "        islem1\n",
    "    else:\n",
    "        islem2"
   ]
  },
  {
   "cell_type": "code",
   "execution_count": 23,
   "metadata": {},
   "outputs": [
    {
     "name": "stdout",
     "output_type": "stream",
     "text": [
      "film adı girinizdünyayı kurtaran adam\n",
      "filmin imdb puanini giriniz2\n",
      "dünyayı kurtaran adam  isimli filmi izleme.\n"
     ]
    }
   ],
   "source": [
    "film=input(\"film adı giriniz\")\n",
    "imdb=float(input(\"filmin imdb puanini giriniz\"))\n",
    "if(imdb>6):\n",
    "    print(film,\" isimli filmi izleyebilirsin.\")\n",
    "else:\n",
    "    print(film,\" isimli filmi izleme.\")"
   ]
  },
  {
   "cell_type": "code",
   "execution_count": 24,
   "metadata": {},
   "outputs": [
    {
     "name": "stdout",
     "output_type": "stream",
     "text": [
      "notunuzu giriniz86\n",
      "BA\n",
      "BB\n"
     ]
    }
   ],
   "source": [
    "Not=float(input(\"notunuzu giriniz\")) #not isimli bir değişken tanımlayamayız. not operatörüne karşılık geliyor\n",
    "if Not>=90:\n",
    "    print(\"AA\")\n",
    "if Not>=85:\n",
    "    print(\"BA\")\n",
    "if Not>=80:\n",
    "    print(\"BB\")\n",
    "#... devam eder"
   ]
  },
  {
   "cell_type": "code",
   "execution_count": 25,
   "metadata": {},
   "outputs": [
    {
     "name": "stdout",
     "output_type": "stream",
     "text": [
      "notunuzu giriniz86\n",
      "BA\n"
     ]
    }
   ],
   "source": [
    "Not=float(input(\"notunuzu giriniz\")) #not isimli bir değişken tanımlayamayız. not operatörüne karşılık geliyor\n",
    "if Not>=90 and Not<=100:\n",
    "    print(\"AA\")\n",
    "if Not>=85 and Not<90:\n",
    "    print(\"BA\")\n",
    "if Not>=80 and Not<85:\n",
    "    print(\"BB\")\n",
    "#... devam eder"
   ]
  },
  {
   "cell_type": "code",
   "execution_count": 26,
   "metadata": {},
   "outputs": [
    {
     "name": "stdout",
     "output_type": "stream",
     "text": [
      "notunuzu giriniz86\n",
      "BA\n"
     ]
    }
   ],
   "source": [
    "Not=float(input(\"notunuzu giriniz\")) #not isimli bir değişken tanımlayamayız. not operatörüne karşılık geliyor\n",
    "if Not>=90:\n",
    "    print(\"AA\")\n",
    "else:\n",
    "    if Not>=85:\n",
    "        print(\"BA\")\n",
    "    else:\n",
    "        if Not>=80:\n",
    "            print(\"BB\")\n",
    "#... devam eder"
   ]
  },
  {
   "cell_type": "code",
   "execution_count": 27,
   "metadata": {},
   "outputs": [
    {
     "name": "stdout",
     "output_type": "stream",
     "text": [
      "notunuzu giriniz86\n",
      "BA\n"
     ]
    }
   ],
   "source": [
    "Not=float(input(\"notunuzu giriniz\")) #not isimli bir değişken tanımlayamayız. not operatörüne karşılık geliyor\n",
    "if Not>=90:\n",
    "    print(\"AA\")\n",
    "elif Not>=85:\n",
    "    print(\"BA\")\n",
    "elif Not>=80:\n",
    "    print(\"BB\")\n",
    "#... devam eder\n",
    "else:\n",
    "    print(\"hatali\")"
   ]
  },
  {
   "cell_type": "code",
   "execution_count": 1,
   "metadata": {},
   "outputs": [
    {
     "name": "stdout",
     "output_type": "stream",
     "text": [
      "\n",
      "----------------\n",
      "Hesap Makinesi\n",
      "İşlemler:\n",
      "1. Toplama\n",
      "2. Çıkartma\n",
      "3. Çarpma\n",
      "4. Bölme\n",
      "----------------\n",
      "\n",
      "birinci sayı:3\n",
      "ikinci sayı:5\n",
      "işlem:2\n",
      "3 ile 5'nin farkı -2'dur.\n"
     ]
    }
   ],
   "source": [
    "print(\"\"\"\n",
    "----------------\n",
    "Hesap Makinesi\n",
    "İşlemler:\n",
    "1. Toplama\n",
    "2. Çıkartma\n",
    "3. Çarpma\n",
    "4. Bölme\n",
    "----------------\n",
    "\"\"\")\n",
    "\n",
    "a=int(input(\"birinci sayı:\"))\n",
    "b=int(input(\"ikinci sayı:\"))\n",
    "islem=int(input(\"işlem:\"))\n",
    "\n",
    "if(islem==1):\n",
    "    print(\"{} ile {}'nin toplamı {}'dur.\".format(a,b,a+b))\n",
    "elif islem==2:\n",
    "    print(\"{} ile {}'nin farkı {}'dur.\".format(a,b,a-b))\n",
    "elif islem==3:\n",
    "    print(\"{} ile {}'nin çarpımı {}'dur.\".format(a,b,a*b))\n",
    "elif islem==4:\n",
    "    print(\"{} ile {}'nin bölmü {}'dur.\".format(a,b,a/b))\n",
    "else:\n",
    "    print(\"başka yok ki!\")"
   ]
  },
  {
   "cell_type": "code",
   "execution_count": 29,
   "metadata": {},
   "outputs": [
    {
     "name": "stdout",
     "output_type": "stream",
     "text": [
      "kucuk\n",
      "kucuk\n"
     ]
    }
   ],
   "source": [
    "#if expression\n",
    "a=5\n",
    "\n",
    "if a>10:\n",
    "    print(\"buyuk\")\n",
    "else:\n",
    "    print(\"kucuk\")\n",
    "    \n",
    "#bu kodun aynısını aşağıdaki şekilde de yazabiliriz\n",
    "\n",
    "print(\"buyuk\" if a>10 else \"kucuk\")"
   ]
  },
  {
   "cell_type": "markdown",
   "metadata": {},
   "source": [
    "## 10. Döngüler\n",
    "Bir işlemi birden çok defa yaptırmak istediğimizde döngü yapılarını tercih ederiz.\n",
    "\n",
    "Örneğin, 1'den 100'e kadar saydırmak istediğimizde küçük bir kod bloğu ile bunu hızlı bir şekilde gerçekleştirebiliriz.\n",
    "\n",
    "Bir başka deyişle 100 defa \"merhaba\" yazmak istediğimizde döngü kullanmazsak cidden 100 defa merhaba yazmamiz gerekecekti"
   ]
  },
  {
   "cell_type": "markdown",
   "metadata": {},
   "source": [
    "### 10.1. For Döngüleri\n",
    "For döngüsüne geçmeden önce Python'da <b>in</b> deyimini öğrenmemiz gerekir."
   ]
  },
  {
   "cell_type": "markdown",
   "metadata": {},
   "source": [
    "#### 10.1.1. In Operatörü\n",
    "Python'da in operatörü, bir elemanın başka bir stringde, listede veya demette bulunup bulunmadığını kontrol eder."
   ]
  },
  {
   "cell_type": "code",
   "execution_count": 32,
   "metadata": {},
   "outputs": [
    {
     "name": "stdout",
     "output_type": "stream",
     "text": [
      "False\n"
     ]
    }
   ],
   "source": [
    "liste=[1,2,3,4]\n",
    "aranan=5\n",
    "sonuc=aranan in liste\n",
    "print(sonuc)"
   ]
  },
  {
   "cell_type": "code",
   "execution_count": 33,
   "metadata": {},
   "outputs": [
    {
     "name": "stdout",
     "output_type": "stream",
     "text": [
      "True\n"
     ]
    }
   ],
   "source": [
    "print(3 in [1,2,3,4])"
   ]
  },
  {
   "cell_type": "code",
   "execution_count": 34,
   "metadata": {},
   "outputs": [
    {
     "name": "stdout",
     "output_type": "stream",
     "text": [
      "False\n"
     ]
    }
   ],
   "source": [
    "print(\"s\" in \"merhaba\")"
   ]
  },
  {
   "cell_type": "markdown",
   "metadata": {},
   "source": [
    "#### 10.1.2. For Döngüsü\n",
    "    for degisken in veriYapisi:\n",
    "        islemler"
   ]
  },
  {
   "cell_type": "code",
   "execution_count": 35,
   "metadata": {},
   "outputs": [
    {
     "name": "stdout",
     "output_type": "stream",
     "text": [
      "11\n",
      "12\n",
      "13\n",
      "14\n",
      "15\n",
      "16\n",
      "17\n"
     ]
    }
   ],
   "source": [
    "liste=[11,12,13,14,15,16,17]\n",
    "for eleman in liste:\n",
    "    print(eleman)"
   ]
  },
  {
   "cell_type": "code",
   "execution_count": 36,
   "metadata": {},
   "outputs": [
    {
     "name": "stdout",
     "output_type": "stream",
     "text": [
      "11\n",
      "12\n",
      "13\n",
      "14\n",
      "15\n",
      "16\n",
      "17\n"
     ]
    }
   ],
   "source": [
    "for i in range(0,7):\n",
    "    print(liste[i])"
   ]
  },
  {
   "cell_type": "code",
   "execution_count": 37,
   "metadata": {},
   "outputs": [
    {
     "name": "stdout",
     "output_type": "stream",
     "text": [
      "98\n"
     ]
    }
   ],
   "source": [
    "toplam=0\n",
    "for eleman in liste:\n",
    "    toplam+=eleman\n",
    "    #toplam=toplam+eleman\n",
    "print(toplam)"
   ]
  },
  {
   "cell_type": "code",
   "execution_count": 38,
   "metadata": {},
   "outputs": [
    {
     "name": "stdout",
     "output_type": "stream",
     "text": [
      "Tek sayılar toplamı=56, cift sayılar toplami=42, hepsinin toplami=98\n",
      "tekler: [11, 13, 15, 17]\n",
      "ciftler [12, 14, 16]\n"
     ]
    }
   ],
   "source": [
    "liste=[11,12,13,14,15,16,17]\n",
    "tek=list()\n",
    "cift=[]\n",
    "teklerToplami=0\n",
    "ciftlerToplami=0\n",
    "\n",
    "for eleman in liste:\n",
    "    if eleman % 2==0:\n",
    "        #cift\n",
    "        cift.append(eleman)\n",
    "        ciftlerToplami+=eleman\n",
    "    else:\n",
    "        #tek\n",
    "        tek.append(eleman)\n",
    "        teklerToplami+=eleman\n",
    "print(\"Tek sayılar toplamı={}, cift sayılar toplami={}, hepsinin toplami={}\".format(teklerToplami,ciftlerToplami,teklerToplami+ciftlerToplami))\n",
    "print(\"tekler:\",tek)\n",
    "print(\"ciftler\",cift)"
   ]
  },
  {
   "cell_type": "code",
   "execution_count": 39,
   "metadata": {},
   "outputs": [
    {
     "name": "stdout",
     "output_type": "stream",
     "text": [
      "mmm\n",
      "eee\n",
      "rrr\n",
      "hhh\n",
      "aaa\n",
      "bbb\n",
      "aaa\n"
     ]
    }
   ],
   "source": [
    "metin=\"merhaba\"\n",
    "for eleman in metin:\n",
    "    print(eleman*3)"
   ]
  },
  {
   "cell_type": "code",
   "execution_count": 42,
   "metadata": {},
   "outputs": [
    {
     "name": "stdout",
     "output_type": "stream",
     "text": [
      "şifre girinizüzüm\n",
      "şifrede Türkçe karakter var\n",
      "şifrede Türkçe karakter var\n"
     ]
    }
   ],
   "source": [
    "#türkçe karakter arama\n",
    "trHarfler=\"üşğçöıİÜŞĞÇÖ\"\n",
    "\n",
    "sifre=input(\"şifre giriniz\")\n",
    "for karakter in sifre:\n",
    "    if karakter in trHarfler:\n",
    "        print(\"şifrede Türkçe karakter var\")\n",
    "        \n"
   ]
  },
  {
   "cell_type": "code",
   "execution_count": 44,
   "metadata": {},
   "outputs": [
    {
     "name": "stdout",
     "output_type": "stream",
     "text": [
      "[1, 2]\n",
      "[3, 4]\n",
      "[5, 6]\n",
      "boşluk\n",
      "1\n",
      "2\n",
      "3\n",
      "4\n",
      "5\n",
      "6\n"
     ]
    }
   ],
   "source": [
    "#iki boyutlu dizide gezinme\n",
    "liste=[[1,2],[3,4],[5,6]]\n",
    "for eleman in liste:\n",
    "    print(eleman)\n",
    "    \n",
    "print(\"boşluk\")\n",
    "\n",
    "for eleman in liste:\n",
    "    for icEleman in eleman:\n",
    "        print(icEleman)\n",
    "\n"
   ]
  },
  {
   "cell_type": "code",
   "execution_count": 45,
   "metadata": {},
   "outputs": [
    {
     "name": "stdout",
     "output_type": "stream",
     "text": [
      "i:1, j:2\n",
      "i:3, j:4\n",
      "i:5, j:6\n"
     ]
    }
   ],
   "source": [
    "liste=[[1,2],[3,4],[5,6]]\n",
    "for [i,j] in liste:\n",
    "    print(\"i:{}, j:{}\".format(i,j))"
   ]
  },
  {
   "cell_type": "code",
   "execution_count": 46,
   "metadata": {},
   "outputs": [
    {
     "name": "stdout",
     "output_type": "stream",
     "text": [
      "i:1, j:2, k:3\n",
      "i:4, j:5, k:6\n",
      "i:7, j:8, k:9\n"
     ]
    }
   ],
   "source": [
    "liste=[[1,2,3],[4,5,6],[7,8,9]]\n",
    "for [i,j,k] in liste:\n",
    "    print(\"i:{}, j:{}, k:{}\".format(i,j,k))"
   ]
  },
  {
   "cell_type": "code",
   "execution_count": 48,
   "metadata": {},
   "outputs": [
    {
     "name": "stdout",
     "output_type": "stream",
     "text": [
      "dict_items([(1, 'bir'), (2, 'iki'), (3, 'üç'), (4, 'dört'), (5, 'beş')])\n",
      "dict_keys([1, 2, 3, 4, 5])\n",
      "dict_values(['bir', 'iki', 'üç', 'dört', 'beş'])\n"
     ]
    }
   ],
   "source": [
    "sozluk={1:\"bir\",2:\"iki\",3:\"üç\",4:\"dört\",5:\"beş\"}\n",
    "print(sozluk.items())\n",
    "print(sozluk.keys())\n",
    "print(sozluk.values())"
   ]
  },
  {
   "cell_type": "code",
   "execution_count": 49,
   "metadata": {},
   "outputs": [
    {
     "name": "stdout",
     "output_type": "stream",
     "text": [
      "1\n",
      "2\n",
      "3\n",
      "4\n",
      "5\n"
     ]
    }
   ],
   "source": [
    "#keys'de gezinir\n",
    "for eleman in sozluk:\n",
    "    print(eleman)"
   ]
  },
  {
   "cell_type": "code",
   "execution_count": 50,
   "metadata": {},
   "outputs": [
    {
     "name": "stdout",
     "output_type": "stream",
     "text": [
      "1\n",
      "2\n",
      "3\n",
      "4\n",
      "5\n"
     ]
    }
   ],
   "source": [
    "#49.blogun aynısı\n",
    "for eleman in sozluk.keys():\n",
    "    print(eleman)"
   ]
  },
  {
   "cell_type": "code",
   "execution_count": 51,
   "metadata": {},
   "outputs": [
    {
     "name": "stdout",
     "output_type": "stream",
     "text": [
      "bir\n",
      "iki\n",
      "üç\n",
      "dört\n",
      "beş\n"
     ]
    }
   ],
   "source": [
    "#keys'de gezinir\n",
    "for eleman in sozluk.values():\n",
    "    print(eleman)"
   ]
  },
  {
   "cell_type": "code",
   "execution_count": 52,
   "metadata": {},
   "outputs": [
    {
     "name": "stdout",
     "output_type": "stream",
     "text": [
      "(1, 'bir')\n",
      "(2, 'iki')\n",
      "(3, 'üç')\n",
      "(4, 'dört')\n",
      "(5, 'beş')\n"
     ]
    }
   ],
   "source": [
    "#keys'de gezinir\n",
    "for eleman in sozluk.items():\n",
    "    print(eleman)"
   ]
  },
  {
   "cell_type": "code",
   "execution_count": 57,
   "metadata": {},
   "outputs": [
    {
     "name": "stdout",
     "output_type": "stream",
     "text": [
      "key:1, value:bir\n",
      "key:2, value:iki\n",
      "key:3, value:üç\n",
      "key:4, value:dört\n",
      "key:5, value:beş\n"
     ]
    }
   ],
   "source": [
    "for (i,j) in sozluk.items():\n",
    "    print(\"key:{}, value:{}\".format(i,j))"
   ]
  },
  {
   "cell_type": "code",
   "execution_count": null,
   "metadata": {},
   "outputs": [],
   "source": []
  }
 ],
 "metadata": {
  "kernelspec": {
   "display_name": "Python 3",
   "language": "python",
   "name": "python3"
  },
  "language_info": {
   "codemirror_mode": {
    "name": "ipython",
    "version": 3
   },
   "file_extension": ".py",
   "mimetype": "text/x-python",
   "name": "python",
   "nbconvert_exporter": "python",
   "pygments_lexer": "ipython3",
   "version": "3.7.6"
  }
 },
 "nbformat": 4,
 "nbformat_minor": 4
}
