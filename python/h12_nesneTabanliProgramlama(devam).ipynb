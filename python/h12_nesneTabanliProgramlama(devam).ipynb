{
 "cells": [
  {
   "cell_type": "markdown",
   "metadata": {},
   "source": [
    "### 13.7. Aşırı Yükleme (overLoading)\n",
    "\n",
    "Python'da Overloading işlemi Python'un yerleşik fonksiyonları için gerçekleştirilebilir.\n",
    "\n",
    "    __init__ ( self [,args…] )    Yapıcı – Constructor (seçimlik argüman sayısı): Bir nesne oluşurken ilk istekleri\n",
    "\n",
    "    __del__( self )    Yıkıcı – Destructor: Bir nesnenin ölüm anında son istekleri\n",
    "\n",
    "    __repr__( self )    Değerlendirilen katar gösterimi\n",
    "\n",
    "    __str__( self )    Yazdırılabilir katar gösterimi\n",
    "\n",
    "Operatörleri aşırı yükleme (Operator Overloading)\n",
    "\n",
    "matematik ve karsilastirma operatorlerini asiri yukleyebiliriz\n",
    "\n",
    "def __add__(self, other): ....\n",
    "https://www.programiz.com/python-programming/operator-overloading\n"
   ]
  },
  {
   "cell_type": "markdown",
   "metadata": {},
   "source": [
    "### 13.8. Özel Metodlar\n",
    "Python'da bir sınıf oluşturulduğunda default olarak oluşturulan metodlar vardır.\n",
    "\n",
    "    __init__   __str__  gibi metodlar örnek gösterilebilir.\n",
    "daha ayrıntılı bilgi için:\n",
    "\n",
    "https://diveintopython3.net/special-method-names.html"
   ]
  },
  {
   "cell_type": "code",
   "execution_count": 2,
   "metadata": {},
   "outputs": [
    {
     "name": "stdout",
     "output_type": "stream",
     "text": [
      "<__main__.Kitap object at 0x00000159C11780C8>\n"
     ]
    }
   ],
   "source": [
    "class Kitap():\n",
    "    pass\n",
    "kitap1=Kitap()\n",
    "print(kitap1)"
   ]
  },
  {
   "cell_type": "code",
   "execution_count": 3,
   "metadata": {},
   "outputs": [
    {
     "ename": "TypeError",
     "evalue": "object of type 'Kitap' has no len()",
     "output_type": "error",
     "traceback": [
      "\u001b[1;31m---------------------------------------------------------------------------\u001b[0m",
      "\u001b[1;31mTypeError\u001b[0m                                 Traceback (most recent call last)",
      "\u001b[1;32m<ipython-input-3-e8c27ea6e0da>\u001b[0m in \u001b[0;36m<module>\u001b[1;34m\u001b[0m\n\u001b[1;32m----> 1\u001b[1;33m \u001b[0mlen\u001b[0m\u001b[1;33m(\u001b[0m\u001b[0mkitap1\u001b[0m\u001b[1;33m)\u001b[0m\u001b[1;33m\u001b[0m\u001b[1;33m\u001b[0m\u001b[0m\n\u001b[0m",
      "\u001b[1;31mTypeError\u001b[0m: object of type 'Kitap' has no len()"
     ]
    }
   ],
   "source": [
    "len(kitap1)"
   ]
  },
  {
   "cell_type": "code",
   "execution_count": 4,
   "metadata": {},
   "outputs": [],
   "source": [
    "del(kitap1)"
   ]
  },
  {
   "cell_type": "code",
   "execution_count": 5,
   "metadata": {},
   "outputs": [
    {
     "ename": "NameError",
     "evalue": "name 'kitap1' is not defined",
     "output_type": "error",
     "traceback": [
      "\u001b[1;31m---------------------------------------------------------------------------\u001b[0m",
      "\u001b[1;31mNameError\u001b[0m                                 Traceback (most recent call last)",
      "\u001b[1;32m<ipython-input-5-a86ba359ac8c>\u001b[0m in \u001b[0;36m<module>\u001b[1;34m\u001b[0m\n\u001b[1;32m----> 1\u001b[1;33m \u001b[0mprint\u001b[0m\u001b[1;33m(\u001b[0m\u001b[0mkitap1\u001b[0m\u001b[1;33m)\u001b[0m\u001b[1;33m\u001b[0m\u001b[1;33m\u001b[0m\u001b[0m\n\u001b[0m",
      "\u001b[1;31mNameError\u001b[0m: name 'kitap1' is not defined"
     ]
    }
   ],
   "source": [
    "print(kitap1)"
   ]
  },
  {
   "cell_type": "markdown",
   "metadata": {},
   "source": [
    "<b>Not:</b> yukarıda ismi geçen metodları overload ederek istedigimiz gibi calismalarini saglayabiliriz"
   ]
  },
  {
   "cell_type": "code",
   "execution_count": 6,
   "metadata": {},
   "outputs": [],
   "source": [
    "class Kitap():\n",
    "    def __init__(self,isim,yazar,sayfaSayisi,tur):\n",
    "        print(\"kitap nesnesi oluşturuluyor\")\n",
    "        self.isim=isim\n",
    "        self.yazar=yazar\n",
    "        self.sayfaSayisi=sayfaSayisi\n",
    "        self.tur=tur\n",
    "     \n",
    "    def __str__(self):\n",
    "        #str fonksiyonu geriye deger dondurdugu icin return deyimini kullanmamız gerekir\n",
    "        return \"İsim: {}\\nYazar: {}\\nSayfa Sayısı: {}\\nTür: {}\".format(self.isim,self.yazar,self.sayfaSayisi,self.tur)\n",
    "    \n",
    "    def __len__(self):\n",
    "        return self.sayfaSayisi\n",
    "    \n",
    "    def __del__(self):\n",
    "        print(\"hoşçakal... iyi bak kendine....\")\n",
    "    "
   ]
  },
  {
   "cell_type": "code",
   "execution_count": 7,
   "metadata": {},
   "outputs": [
    {
     "name": "stdout",
     "output_type": "stream",
     "text": [
      "kitap nesnesi oluşturuluyor\n",
      "İsim: cin ali\n",
      "Yazar: ali can\n",
      "Sayfa Sayısı: 15\n",
      "Tür: eğitim\n"
     ]
    }
   ],
   "source": [
    "kitap1=Kitap(\"cin ali\",\"ali can\",15,\"eğitim\")\n",
    "print(kitap1)"
   ]
  },
  {
   "cell_type": "code",
   "execution_count": 8,
   "metadata": {},
   "outputs": [
    {
     "name": "stdout",
     "output_type": "stream",
     "text": [
      "15\n"
     ]
    }
   ],
   "source": [
    "print(len(kitap1))"
   ]
  },
  {
   "cell_type": "code",
   "execution_count": 9,
   "metadata": {},
   "outputs": [
    {
     "name": "stdout",
     "output_type": "stream",
     "text": [
      "hoşçakal... iyi bak kendine....\n"
     ]
    }
   ],
   "source": [
    "del(kitap1)"
   ]
  },
  {
   "cell_type": "markdown",
   "metadata": {},
   "source": [
    "### 13.9. Erişim Belirleyiciler (Public, Private, Protected - semiPrivate)"
   ]
  },
  {
   "cell_type": "code",
   "execution_count": 18,
   "metadata": {},
   "outputs": [],
   "source": [
    "class Calisan():\n",
    "    def __init__(self,isim,maas,departman):\n",
    "        print(\"çalışan sınıfının init fonksiyonu çalıştı\")\n",
    "        self.isim=isim\n",
    "        self.maas=maas\n",
    "        self.departman=departman\n",
    "    \n",
    "    def _bilgiGoster(self): #protected\n",
    "        print(\"çalışan sınıfının bilgileri...\")\n",
    "        print(\"İsim: {} \\nMaaş: {} \\nDepartman: {}\".format(self.isim,self.maas,self.departman))\n",
    "    \n",
    "    def departmanDegistir(self,yeniDepartman): #Public\n",
    "        print(\"calsan departman degisiyor...\")\n",
    "        self.departman=yeniDepartman\n",
    "        \n",
    "    def __zamYap(self,zam): #private\n",
    "        print(\"maasa zam yapiliyor\")\n",
    "        self.maas+=zam\n",
    "        \n",
    "    def zamYaptir(self,zam):\n",
    "        print(\"maaasa zam yaptiriliyor\")\n",
    "        self.__zamYap(zam)"
   ]
  },
  {
   "cell_type": "code",
   "execution_count": 19,
   "metadata": {},
   "outputs": [
    {
     "name": "stdout",
     "output_type": "stream",
     "text": [
      "çalışan sınıfının init fonksiyonu çalıştı\n"
     ]
    }
   ],
   "source": [
    "calisan1=Calisan(\"ali can\",3000,\"it\")"
   ]
  },
  {
   "cell_type": "code",
   "execution_count": 12,
   "metadata": {},
   "outputs": [
    {
     "name": "stdout",
     "output_type": "stream",
     "text": [
      "calsan departman degisiyor...\n",
      "çalışan sınıfının bilgileri...\n",
      "İsim: ali can \n",
      "Maaş: 3000 \n",
      "Departman: ik\n"
     ]
    }
   ],
   "source": [
    "calisan1.departmanDegistir(\"ik\")\n",
    "calisan1._bilgiGoster()"
   ]
  },
  {
   "cell_type": "code",
   "execution_count": 20,
   "metadata": {},
   "outputs": [
    {
     "ename": "AttributeError",
     "evalue": "'Calisan' object has no attribute '__zamYap'",
     "output_type": "error",
     "traceback": [
      "\u001b[1;31m---------------------------------------------------------------------------\u001b[0m",
      "\u001b[1;31mAttributeError\u001b[0m                            Traceback (most recent call last)",
      "\u001b[1;32m<ipython-input-20-d014494335a1>\u001b[0m in \u001b[0;36m<module>\u001b[1;34m\u001b[0m\n\u001b[1;32m----> 1\u001b[1;33m \u001b[0mcalisan1\u001b[0m\u001b[1;33m.\u001b[0m\u001b[0m__zamYap\u001b[0m\u001b[1;33m(\u001b[0m\u001b[1;36m500\u001b[0m\u001b[1;33m)\u001b[0m\u001b[1;33m\u001b[0m\u001b[1;33m\u001b[0m\u001b[0m\n\u001b[0m",
      "\u001b[1;31mAttributeError\u001b[0m: 'Calisan' object has no attribute '__zamYap'"
     ]
    }
   ],
   "source": [
    "calisan1.__zamYap(500)"
   ]
  },
  {
   "cell_type": "code",
   "execution_count": 21,
   "metadata": {},
   "outputs": [
    {
     "name": "stdout",
     "output_type": "stream",
     "text": [
      "maaasa zam yaptiriliyor\n",
      "maasa zam yapiliyor\n",
      "çalışan sınıfının bilgileri...\n",
      "İsim: ali can \n",
      "Maaş: 3500 \n",
      "Departman: it\n"
     ]
    }
   ],
   "source": [
    "calisan1.zamYaptir(500)\n",
    "calisan1._bilgiGoster()"
   ]
  },
  {
   "cell_type": "code",
   "execution_count": 22,
   "metadata": {},
   "outputs": [
    {
     "name": "stdout",
     "output_type": "stream",
     "text": [
      "maasa zam yapiliyor\n",
      "çalışan sınıfının bilgileri...\n",
      "İsim: ali can \n",
      "Maaş: 4000 \n",
      "Departman: it\n"
     ]
    }
   ],
   "source": [
    "calisan1._Calisan__zamYap(500)\n",
    "calisan1._bilgiGoster()"
   ]
  },
  {
   "cell_type": "code",
   "execution_count": null,
   "metadata": {},
   "outputs": [],
   "source": []
  }
 ],
 "metadata": {
  "kernelspec": {
   "display_name": "Python 3",
   "language": "python",
   "name": "python3"
  },
  "language_info": {
   "codemirror_mode": {
    "name": "ipython",
    "version": 3
   },
   "file_extension": ".py",
   "mimetype": "text/x-python",
   "name": "python",
   "nbconvert_exporter": "python",
   "pygments_lexer": "ipython3",
   "version": "3.7.6"
  }
 },
 "nbformat": 4,
 "nbformat_minor": 4
}
