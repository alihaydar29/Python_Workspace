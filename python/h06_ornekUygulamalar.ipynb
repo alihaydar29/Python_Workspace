{
 "cells": [
  {
   "cell_type": "markdown",
   "metadata": {},
   "source": [
    "### 1. Metin içerisinde geçen harf sayısı"
   ]
  },
  {
   "cell_type": "code",
   "execution_count": 4,
   "metadata": {},
   "outputs": [
    {
     "name": "stdout",
     "output_type": "stream",
     "text": [
      "sorgulamak istediğiniz harf:a\n",
      "a harfi metin içerisinde 237 kez geçmekte.\n"
     ]
    }
   ],
   "source": [
    "metin=\"\"\"\n",
    "Lorem ipsum dolor sit amet, consectetur adipiscing elit. Nulla metus sapien, ultricies nec tortor at, viverra consequat nulla. Orci varius natoque penatibus et magnis dis parturient montes, nascetur ridiculus mus. Donec a nunc vel felis pellentesque mollis sed in dolor. Vivamus faucibus, nibh eget egestas iaculis, quam orci ornare tortor, sed consectetur nisl risus in arcu. Aliquam id enim ante. In hac habitasse platea dictumst. Nunc accumsan mauris velit, non eleifend ipsum semper eget. Morbi ullamcorper magna metus, eget feugiat diam efficitur tempor. Suspendisse potenti. Nam luctus in nulla sed interdum. Sed aliquet feugiat nulla, in dictum velit aliquet at. Integer ac neque vitae arcu malesuada bibendum. Pellentesque sit amet varius nulla, in scelerisque odio. Vestibulum vulputate, metus euismod placerat ullamcorper, orci sapien gravida leo, vel tempus leo velit in dui. Duis leo nunc, euismod ac eros et, consequat fringilla enim.\n",
    "\n",
    "Nam non purus ac leo hendrerit tristique in eu risus. Phasellus faucibus velit eget urna mattis ultrices. Nulla vel mi vel sem pretium euismod vel vitae sapien. Sed consectetur mi urna, in sagittis nulla elementum quis. Maecenas viverra ipsum porta condimentum sagittis. Donec nec ligula condimentum, molestie enim in, viverra massa. Nulla quam mi, porttitor ut arcu et, sagittis porta ligula. Vestibulum ante ipsum primis in faucibus orci luctus et ultrices posuere cubilia curae; Duis purus nunc, posuere sit amet semper a, tincidunt sit amet arcu. Phasellus vitae posuere ante. Nunc ullamcorper accumsan elit sit amet scelerisque. Quisque sed tellus at risus dapibus elementum. Curabitur lectus dolor, luctus at tincidunt non, porta et neque. Maecenas ultrices lorem vitae felis elementum venenatis. Nunc vestibulum ipsum vel malesuada sollicitudin.\n",
    "\n",
    "Integer et est pellentesque neque interdum cursus. Lorem ipsum dolor sit amet, consectetur adipiscing elit. Maecenas tincidunt ante ipsum, at suscipit velit malesuada eget. Donec eros quam, pharetra a venenatis id, convallis a mi. Aenean fringilla eros non urna ultricies viverra. Donec sodales eu sem vitae volutpat. Vivamus euismod pulvinar metus, sit amet auctor diam viverra maximus. Quisque at ipsum ac est luctus pellentesque.\n",
    "\n",
    "Nulla luctus diam vitae lorem facilisis laoreet. Fusce eros sem, sodales non pellentesque sit amet, posuere mollis dui. Suspendisse aliquet maximus elit, ut fringilla nulla elementum a. Vivamus quam nulla, iaculis quis finibus vitae, porttitor non enim. Proin pretium, dui a aliquam elementum, erat ex tristique sapien, porttitor maximus mi erat in urna. Morbi tempus turpis vitae tortor facilisis suscipit. Ut in condimentum ante. Morbi auctor erat quis tincidunt congue. Donec aliquet nibh ac est feugiat, vel gravida ipsum faucibus. Maecenas sagittis, purus in tincidunt feugiat, orci eros mattis lectus, ut luctus libero dolor ut leo. Duis imperdiet tortor nec est laoreet gravida. Etiam dapibus egestas augue non dapibus.\n",
    "\n",
    "Orci varius natoque penatibus et magnis dis parturient montes, nascetur ridiculus mus. Sed sapien ligula, gravida a dolor sit amet, consectetur faucibus dolor. Pellentesque sed nunc ipsum. Aenean semper felis quis velit interdum, non facilisis felis blandit. Suspendisse urna felis, venenatis eu hendrerit eget, aliquet vel nulla. Quisque at ligula a libero ultricies pulvinar faucibus id nulla. Cras luctus lacus at nulla commodo porta. Proin facilisis eros in nibh tincidunt ultrices. Aenean non nibh vehicula, ornare urna nec, vestibulum dui. Suspendisse dignissim ac nunc a pulvinar.\n",
    "\"\"\"\n",
    "\n",
    "harf=input(\"sorgulamak istediğiniz harf:\")\n",
    "sayac=0\n",
    "for h in metin:\n",
    "    if(harf==h):\n",
    "        sayac+=1\n",
    "print(\"{} harfi metin içerisinde {} kez geçmekte.\".format(harf,sayac))"
   ]
  },
  {
   "cell_type": "markdown",
   "metadata": {},
   "source": [
    "### 2. Kullanıcı Girişi\n",
    "kullanıcı adı ve şifre doğru girilinceye kadar kullanıcı adı ve şifre soran program"
   ]
  },
  {
   "cell_type": "code",
   "execution_count": null,
   "metadata": {},
   "outputs": [],
   "source": []
  },
  {
   "cell_type": "markdown",
   "metadata": {},
   "source": [
    "### 3. Bankamatik örneği\n",
    "ilk basta bakiye=1000\n",
    "\n",
    "1.bakiye sorma\n",
    "\n",
    "2. para yatırma\n",
    "\n",
    "3. para çekme\n",
    "\n",
    "4. çıkış\n"
   ]
  },
  {
   "cell_type": "code",
   "execution_count": null,
   "metadata": {},
   "outputs": [],
   "source": []
  },
  {
   "cell_type": "markdown",
   "metadata": {},
   "source": [
    "### 4. Faktöriyel Hesabı"
   ]
  },
  {
   "cell_type": "code",
   "execution_count": 6,
   "metadata": {},
   "outputs": [
    {
     "name": "stdout",
     "output_type": "stream",
     "text": [
      "faktoriyel almak istediginiz sayiyi girin. cikmak icin q4\n",
      "24\n",
      "faktoriyel almak istediginiz sayiyi girin. cikmak icin q7\n",
      "5040\n",
      "faktoriyel almak istediginiz sayiyi girin. cikmak icin qq\n"
     ]
    }
   ],
   "source": [
    "while True:\n",
    "    sayi=input(\"faktoriyel almak istediginiz sayiyi girin. cikmak icin q\")\n",
    "    if sayi==\"q\":\n",
    "        break\n",
    "    sayi=int(sayi) \n",
    "    carpim=1\n",
    "    for i in range(2,sayi+1):\n",
    "        carpim*=i #carpim=carpim*i\n",
    "    print(carpim)"
   ]
  },
  {
   "cell_type": "markdown",
   "metadata": {},
   "source": [
    "### 5. Fibonacci Serisi\n",
    "\n",
    "1,1,2,3,5,8,13,21,34,...."
   ]
  },
  {
   "cell_type": "code",
   "execution_count": 7,
   "metadata": {},
   "outputs": [
    {
     "name": "stdout",
     "output_type": "stream",
     "text": [
      "[1, 1, 2, 3, 5, 8, 13, 21, 34, 55, 89, 144]\n"
     ]
    }
   ],
   "source": [
    "a=1\n",
    "b=1\n",
    "fibonacci=[a,b]\n",
    "for i in range(10):\n",
    "    a,b=b,a+b\n",
    "    fibonacci.append(b)\n",
    "print(fibonacci)"
   ]
  },
  {
   "cell_type": "markdown",
   "metadata": {},
   "source": [
    "### 6. Girilen Sayı Asal Mı?\n"
   ]
  },
  {
   "cell_type": "code",
   "execution_count": 12,
   "metadata": {},
   "outputs": [
    {
     "name": "stdout",
     "output_type": "stream",
     "text": [
      "169  sayisi asal degil,  13 'ye bölünüyor'\n"
     ]
    }
   ],
   "source": [
    "sayi=169\n",
    "for i in range(2,sayi):\n",
    "    if(sayi % i ==0):\n",
    "        #asal degil\n",
    "        print(sayi,\" sayisi asal degil, \" , i , \"'ye bölünüyor'\")\n",
    "        break\n",
    "else:\n",
    "    #asal\n",
    "    print(sayi, \" sayisi asal\")\n",
    "        "
   ]
  },
  {
   "cell_type": "markdown",
   "metadata": {},
   "source": [
    "### 7. Kullanıcının Girdiği İki Sayı Arasındaki Asallar?\n"
   ]
  },
  {
   "cell_type": "code",
   "execution_count": 15,
   "metadata": {},
   "outputs": [
    {
     "name": "stdout",
     "output_type": "stream",
     "text": [
      "5\n",
      "7\n",
      "11\n",
      "13\n",
      "17\n",
      "19\n",
      "23\n",
      "29\n",
      "31\n",
      "37\n",
      "41\n",
      "43\n",
      "47\n",
      "53\n",
      "59\n",
      "61\n",
      "67\n",
      "71\n",
      "73\n",
      "79\n",
      "83\n",
      "89\n",
      "97\n"
     ]
    }
   ],
   "source": [
    "for sayi in range(5,100 + 1):\n",
    "    for i in range(2,sayi):\n",
    "        if (sayi % i) == 0:\n",
    "            break\n",
    "    else:\n",
    "        print(sayi)"
   ]
  },
  {
   "cell_type": "code",
   "execution_count": 16,
   "metadata": {},
   "outputs": [
    {
     "name": "stdout",
     "output_type": "stream",
     "text": [
      "Birinci sayı:5\n",
      "İkinci Sayı:100\n",
      "5  sayısı asaldır.\n",
      "7  sayısı asaldır.\n",
      "11  sayısı asaldır.\n",
      "13  sayısı asaldır.\n",
      "17  sayısı asaldır.\n",
      "19  sayısı asaldır.\n",
      "23  sayısı asaldır.\n",
      "29  sayısı asaldır.\n",
      "31  sayısı asaldır.\n",
      "37  sayısı asaldır.\n",
      "41  sayısı asaldır.\n",
      "43  sayısı asaldır.\n",
      "47  sayısı asaldır.\n",
      "53  sayısı asaldır.\n",
      "59  sayısı asaldır.\n",
      "61  sayısı asaldır.\n",
      "67  sayısı asaldır.\n",
      "71  sayısı asaldır.\n",
      "73  sayısı asaldır.\n",
      "79  sayısı asaldır.\n",
      "83  sayısı asaldır.\n",
      "89  sayısı asaldır.\n",
      "97  sayısı asaldır.\n"
     ]
    }
   ],
   "source": [
    "sayi1=int(input(\"Birinci sayı:\"))\n",
    "sayi2=int(input(\"İkinci Sayı:\"))\n",
    "\n",
    "for i in range (sayi1, sayi2):\n",
    "    sayac=0\n",
    "    for j in range(1, i+1):\n",
    "        if (i%j==0):\n",
    "            sayac+=1\n",
    "    if sayac==2:\n",
    "        print(i, \" sayısı asaldır.\")"
   ]
  },
  {
   "cell_type": "code",
   "execution_count": 20,
   "metadata": {},
   "outputs": [
    {
     "name": "stdout",
     "output_type": "stream",
     "text": [
      "Birinci sayı:5\n",
      "İkinci Sayı:100\n",
      "[5, 7, 11, 13, 17, 19, 23, 29, 31, 37, 41, 43, 47, 53, 59, 61, 67, 71, 73, 79, 83, 89, 97]\n"
     ]
    }
   ],
   "source": [
    "sayi1=int(input(\"Birinci sayı:\"))\n",
    "sayi2=int(input(\"İkinci Sayı:\"))\n",
    "liste=[]\n",
    "for sayi in range(sayi1,sayi2+1):\n",
    "    for i in range(2,sayi):\n",
    "        if(sayi % i ==0):\n",
    "            #asal degil\n",
    "           # print(sayi,\" sayisi asal degil, \" , i , \"'ye bölünüyor'\")\n",
    "            break\n",
    "    else:\n",
    "        #asal\n",
    "        #print(sayi, \" sayisi asal\")\n",
    "        liste.append(sayi)\n",
    "print(liste)"
   ]
  },
  {
   "cell_type": "markdown",
   "metadata": {},
   "source": [
    "### 8. kullanıcı bir sayi girer, girdii sayının arkadaş sayısı var mı buluruz."
   ]
  },
  {
   "cell_type": "code",
   "execution_count": null,
   "metadata": {},
   "outputs": [],
   "source": []
  },
  {
   "cell_type": "markdown",
   "metadata": {},
   "source": [
    "### 9. kullanıcının girdiği iki sayı arasındaki arkadaş sayıları bulunuz"
   ]
  },
  {
   "cell_type": "code",
   "execution_count": null,
   "metadata": {},
   "outputs": [],
   "source": []
  },
  {
   "cell_type": "markdown",
   "metadata": {},
   "source": [
    "### 10. kullanıcının girdigi sayı armstrong sayısı mıdır?"
   ]
  },
  {
   "cell_type": "code",
   "execution_count": null,
   "metadata": {},
   "outputs": [],
   "source": []
  },
  {
   "cell_type": "markdown",
   "metadata": {},
   "source": [
    "### 11. kullanıcıdan aldiginiz iki sayının EBOB'u"
   ]
  },
  {
   "cell_type": "code",
   "execution_count": null,
   "metadata": {},
   "outputs": [],
   "source": []
  },
  {
   "cell_type": "markdown",
   "metadata": {},
   "source": [
    "### 12. kullanıcıdan aldiginiz iki sayinin EKOK'u"
   ]
  },
  {
   "cell_type": "code",
   "execution_count": null,
   "metadata": {},
   "outputs": [],
   "source": []
  },
  {
   "cell_type": "code",
   "execution_count": null,
   "metadata": {},
   "outputs": [],
   "source": []
  }
 ],
 "metadata": {
  "kernelspec": {
   "display_name": "Python 3",
   "language": "python",
   "name": "python3"
  },
  "language_info": {
   "codemirror_mode": {
    "name": "ipython",
    "version": 3
   },
   "file_extension": ".py",
   "mimetype": "text/x-python",
   "name": "python",
   "nbconvert_exporter": "python",
   "pygments_lexer": "ipython3",
   "version": "3.7.6"
  }
 },
 "nbformat": 4,
 "nbformat_minor": 4
}
