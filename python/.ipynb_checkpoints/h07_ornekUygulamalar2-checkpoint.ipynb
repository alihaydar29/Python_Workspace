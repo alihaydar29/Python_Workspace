{
 "cells": [
  {
   "cell_type": "markdown",
   "metadata": {},
   "source": [
    "### 13. Yerdeğiştirmeli Sıralama\n",
    "<b>Not:</b> rastgele sayılardan oluşan liste hazırlamak için öncelikle random kütüphanesini çalışmamıza aklememiz gerekiyor.\n",
    "\n",
    "    import random\n",
    "    \n",
    "daha sonra\n",
    "\n",
    "    liste=list(range(10))\n",
    "    liste=random.sample(liste,10)"
   ]
  },
  {
   "cell_type": "code",
   "execution_count": 5,
   "metadata": {},
   "outputs": [
    {
     "name": "stdout",
     "output_type": "stream",
     "text": [
      "[0, 1, 2, 3, 4, 5, 6, 7, 8, 9]\n",
      "[9, 5, 4, 2, 1, 8, 6, 7, 3, 0]\n"
     ]
    }
   ],
   "source": [
    "import random\n",
    "liste=list(range(10))\n",
    "print(liste)\n",
    "liste=random.sample(liste,10)\n",
    "print(liste)\n"
   ]
  },
  {
   "cell_type": "code",
   "execution_count": 10,
   "metadata": {},
   "outputs": [
    {
     "name": "stdout",
     "output_type": "stream",
     "text": [
      "[0, 1, 2, 3, 4, 5, 6, 7, 8, 9]\n"
     ]
    }
   ],
   "source": [
    "for i in range(0,len(liste)-1):\n",
    "    #print(\"i:\",i)\n",
    "    for j in range(i+1,len(liste)):\n",
    "        #print(\"j:\",j)\n",
    "        if(liste[i]>liste[j]):\n",
    "            liste[i],liste[j]=liste[j],liste[i]\n",
    "print(liste)"
   ]
  },
  {
   "cell_type": "markdown",
   "metadata": {},
   "source": [
    "### 14. Seçmeli Sıralama"
   ]
  },
  {
   "cell_type": "code",
   "execution_count": 11,
   "metadata": {},
   "outputs": [
    {
     "name": "stdout",
     "output_type": "stream",
     "text": [
      "[0, 1, 2, 3, 4, 5, 6, 7, 8, 9]\n",
      "[5, 6, 3, 9, 2, 4, 7, 8, 1, 0]\n"
     ]
    }
   ],
   "source": [
    "liste=list(range(10))\n",
    "print(liste)\n",
    "liste=random.sample(liste,10)\n",
    "print(liste)"
   ]
  },
  {
   "cell_type": "code",
   "execution_count": 13,
   "metadata": {},
   "outputs": [
    {
     "name": "stdout",
     "output_type": "stream",
     "text": [
      "[0, 1, 2, 3, 4, 5, 6, 7, 8, 9]\n"
     ]
    }
   ],
   "source": [
    "for i in range(0,len(liste)-1):\n",
    "    enKucuk=i\n",
    "    for j in range(i+1,len(liste)):\n",
    "        if(liste[enKucuk]>liste[j]):\n",
    "            enKucuk=j\n",
    "    liste[i],liste[enKucuk]=liste[enKucuk],liste[i]\n",
    "print(liste)"
   ]
  },
  {
   "cell_type": "code",
   "execution_count": 14,
   "metadata": {},
   "outputs": [
    {
     "name": "stdout",
     "output_type": "stream",
     "text": [
      "0:00:47.351957\n"
     ]
    }
   ],
   "source": [
    "import datetime\n",
    "liste=list(range(10000))\n",
    "liste=random.sample(liste,10000)\n",
    "baslangic=datetime.datetime.now()\n",
    "for i in range(0,len(liste)-1):\n",
    "    #print(\"i:\",i)\n",
    "    for j in range(i+1,len(liste)):\n",
    "        #print(\"j:\",j)\n",
    "        if(liste[i]>liste[j]):\n",
    "            liste[i],liste[j]=liste[j],liste[i]\n",
    "            \n",
    "bitis=datetime.datetime.now()\n",
    "fark=bitis-baslangic\n",
    "print(fark)\n"
   ]
  },
  {
   "cell_type": "code",
   "execution_count": 15,
   "metadata": {},
   "outputs": [
    {
     "name": "stdout",
     "output_type": "stream",
     "text": [
      "0:00:30.766709\n"
     ]
    }
   ],
   "source": [
    "import datetime\n",
    "liste=list(range(10000))\n",
    "liste=random.sample(liste,10000)\n",
    "baslangic=datetime.datetime.now()\n",
    "for i in range(0,len(liste)-1):\n",
    "    enKucuk=i\n",
    "    for j in range(i+1,len(liste)):\n",
    "        if(liste[enKucuk]>liste[j]):\n",
    "            enKucuk=j\n",
    "    liste[i],liste[enKucuk]=liste[enKucuk],liste[i]\n",
    "            \n",
    "bitis=datetime.datetime.now()\n",
    "fark=bitis-baslangic\n",
    "print(fark)"
   ]
  },
  {
   "cell_type": "markdown",
   "metadata": {},
   "source": [
    "### 15. Doğrusal Arama\n"
   ]
  },
  {
   "cell_type": "code",
   "execution_count": 19,
   "metadata": {},
   "outputs": [
    {
     "name": "stdout",
     "output_type": "stream",
     "text": [
      "[1, 3, 5, 7, 9, 11, 13, 15, 17, 19]\n"
     ]
    }
   ],
   "source": [
    "liste=list(range(1,20,2))\n",
    "print(liste)"
   ]
  },
  {
   "cell_type": "code",
   "execution_count": 29,
   "metadata": {},
   "outputs": [
    {
     "name": "stdout",
     "output_type": "stream",
     "text": [
      "aramak istediginiz sayıyı giriniz19\n",
      "aradığınız 19 sayısı listenin 9. elemanında\n",
      "10\n"
     ]
    }
   ],
   "source": [
    "aranan=int(input(\"aramak istediginiz sayıyı giriniz\"))\n",
    "sayac=0\n",
    "for i in range(len(liste)):\n",
    "    sayac+=1\n",
    "    if(aranan==liste[i]):\n",
    "        #buldum\n",
    "        print(\"aradığınız {} sayısı listenin {}. elemanında\".format(aranan,i))\n",
    "        break\n",
    "else:\n",
    "    print(\"{} sayısı listede yok.\".format(aranan))\n",
    "print(sayac)"
   ]
  },
  {
   "cell_type": "markdown",
   "metadata": {},
   "source": [
    "### 16. İkili Arama"
   ]
  },
  {
   "cell_type": "code",
   "execution_count": 30,
   "metadata": {},
   "outputs": [
    {
     "name": "stdout",
     "output_type": "stream",
     "text": [
      "[1, 3, 5, 7, 9, 11, 13, 15, 17, 19]\n"
     ]
    }
   ],
   "source": [
    "liste=list(range(1,20,2))\n",
    "print(liste)"
   ]
  },
  {
   "cell_type": "code",
   "execution_count": 37,
   "metadata": {},
   "outputs": [
    {
     "name": "stdout",
     "output_type": "stream",
     "text": [
      "aramak istediginiz sayıyı giriniz1\n",
      "ek:-1, eb:10, orta:4, sayac:1\n",
      "ek:-1, eb:4, orta:1, sayac:2\n",
      "ek:-1, eb:1, orta:0, sayac:3\n",
      "aradığınız 1 sayısı listenin 0. elemanında\n"
     ]
    }
   ],
   "source": [
    "aranan=int(input(\"aramak istediginiz sayıyı giriniz\"))\n",
    "ek=-1\n",
    "eb=len(liste)\n",
    "orta=0\n",
    "sayac=0\n",
    "while (eb-ek)>1:\n",
    "    orta=(eb+ek)//2\n",
    "    sayac+=1\n",
    "    print(\"ek:{}, eb:{}, orta:{}, sayac:{}\".format(ek,eb,orta,sayac))\n",
    "    if(aranan==liste[orta]):\n",
    "        break\n",
    "    elif(aranan<liste[orta]):\n",
    "        eb=orta\n",
    "    elif(aranan>liste[orta]):\n",
    "        ek=orta\n",
    "\n",
    "if(eb-ek==1):\n",
    "    print(\"bulamadım\")\n",
    "else:\n",
    "    print(\"aradığınız {} sayısı listenin {}. elemanında\".format(aranan,orta))\n"
   ]
  },
  {
   "cell_type": "code",
   "execution_count": 41,
   "metadata": {},
   "outputs": [
    {
     "name": "stdout",
     "output_type": "stream",
     "text": [
      "aramak istediginiz sayıyı giriniz19998\n",
      "ek:-1, eb:10000, orta:4999, sayac:1\n",
      "ek:4999, eb:10000, orta:7499, sayac:2\n",
      "ek:7499, eb:10000, orta:8749, sayac:3\n",
      "ek:8749, eb:10000, orta:9374, sayac:4\n",
      "ek:9374, eb:10000, orta:9687, sayac:5\n",
      "ek:9687, eb:10000, orta:9843, sayac:6\n",
      "ek:9843, eb:10000, orta:9921, sayac:7\n",
      "ek:9921, eb:10000, orta:9960, sayac:8\n",
      "ek:9960, eb:10000, orta:9980, sayac:9\n",
      "ek:9980, eb:10000, orta:9990, sayac:10\n",
      "ek:9990, eb:10000, orta:9995, sayac:11\n",
      "ek:9995, eb:10000, orta:9997, sayac:12\n",
      "ek:9997, eb:10000, orta:9998, sayac:13\n",
      "ek:9998, eb:10000, orta:9999, sayac:14\n",
      "bulamadım\n"
     ]
    }
   ],
   "source": [
    "liste=list(range(1,20000,2))\n",
    "aranan=int(input(\"aramak istediginiz sayıyı giriniz\"))\n",
    "ek=-1\n",
    "eb=len(liste)\n",
    "orta=0\n",
    "sayac=0\n",
    "while (eb-ek)>1:\n",
    "    orta=(eb+ek)//2\n",
    "    sayac+=1\n",
    "    print(\"ek:{}, eb:{}, orta:{}, sayac:{}\".format(ek,eb,orta,sayac))\n",
    "    if(aranan==liste[orta]):\n",
    "        break\n",
    "    elif(aranan<liste[orta]):\n",
    "        eb=orta\n",
    "    elif(aranan>liste[orta]):\n",
    "        ek=orta\n",
    "\n",
    "if(eb-ek==1):\n",
    "    print(\"bulamadım\")\n",
    "else:\n",
    "    print(\"aradığınız {} sayısı listenin {}. elemanında\".format(aranan,orta))\n"
   ]
  },
  {
   "cell_type": "code",
   "execution_count": null,
   "metadata": {},
   "outputs": [],
   "source": []
  }
 ],
 "metadata": {
  "kernelspec": {
   "display_name": "Python 3 (ipykernel)",
   "language": "python",
   "name": "python3"
  },
  "language_info": {
   "codemirror_mode": {
    "name": "ipython",
    "version": 3
   },
   "file_extension": ".py",
   "mimetype": "text/x-python",
   "name": "python",
   "nbconvert_exporter": "python",
   "pygments_lexer": "ipython3",
   "version": "3.9.12"
  }
 },
 "nbformat": 4,
 "nbformat_minor": 4
}
