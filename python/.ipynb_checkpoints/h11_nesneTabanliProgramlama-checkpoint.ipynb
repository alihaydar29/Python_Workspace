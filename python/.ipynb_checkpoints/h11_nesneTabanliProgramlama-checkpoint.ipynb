{
 "cells": [
  {
   "cell_type": "markdown",
   "metadata": {},
   "source": [
    "## 13. Nesne Tabanlı Programlama\n",
    "OOP yani Object Oriented Programming ifadesi Türkçe'de Nesne Tabanlı Programlama, Nesneye Yönelik Programlama gibi vb. karşılıklarda bulunur. OOP, uygulamaları nesneler kullanarak oluşturmak demektir. Geliştirdiğimiz uygulamalardaki yordamları direk uygulama koduna yazmayıp, sınıflar içinde yazıyor ve sınıflardan nesneler türetiyor, bunları nesneler üzerinden çağırıyorsanız OOP yapıyorsunuz demektir. OOP gerçekleşmesi için aşağıdaki 4 özelliğin gerçekleştirilmesi zorunludur, gerçekleştirilmemesi durumunda OOP sayılmaz.\n",
    "\n",
    "    1. Soyutlama (Abstraction)\n",
    "    2. Sarmalama / Paketleme (Encapsulation)\n",
    "    3. Miras Alma (Inheritance)\n",
    "    4. Çok Biçimlilik (Polymorphism)"
   ]
  },
  {
   "cell_type": "markdown",
   "metadata": {},
   "source": [
    "### 13.1. Class (Sınıf)\n",
    "\n",
    "Kendi veritiplerimi oluşturmak ve bu veri tiplerinden nesneler türetmemiz için öncelikle nesneleri üreteceğimiz yapıyı tanımlamamız gerekir. Bunu tasarladığımız yapıya da sınıf veya ingilizce adıyla class diyoruz."
   ]
  },
  {
   "cell_type": "code",
   "execution_count": 1,
   "metadata": {},
   "outputs": [],
   "source": [
    "class Araba():\n",
    "    marka=\"\"\n",
    "    model=\"\"\n",
    "    renk=\"\"\n",
    "    yil=0\n",
    "    \n",
    "    def __init__(self): #burada self anahtar kelimesi sınıfın kendisini işaret etmektedir.\n",
    "        print(\"init cagirildi\")\n",
    "        \n"
   ]
  },
  {
   "cell_type": "code",
   "execution_count": 2,
   "metadata": {},
   "outputs": [
    {
     "name": "stdout",
     "output_type": "stream",
     "text": [
      "init cagirildi\n"
     ]
    }
   ],
   "source": [
    "araba1=Araba()"
   ]
  },
  {
   "cell_type": "code",
   "execution_count": 21,
   "metadata": {},
   "outputs": [],
   "source": [
    "araba1.marka=\"Tofaş\"\n",
    "araba1.model=\"Şahin\"\n"
   ]
  },
  {
   "cell_type": "code",
   "execution_count": 4,
   "metadata": {},
   "outputs": [
    {
     "name": "stdout",
     "output_type": "stream",
     "text": [
      "Tofaş\n"
     ]
    }
   ],
   "source": [
    "print(araba1.marka)"
   ]
  },
  {
   "cell_type": "code",
   "execution_count": 7,
   "metadata": {},
   "outputs": [
    {
     "name": "stdout",
     "output_type": "stream",
     "text": [
      "<class '__main__.Araba'>\n",
      "<__main__.Araba object at 0x000001F210CF0788>\n"
     ]
    }
   ],
   "source": [
    "print(type(araba1))\n",
    "print(araba1)"
   ]
  },
  {
   "cell_type": "markdown",
   "metadata": {},
   "source": [
    "### 13.2. init Fonksiyonu (yapıcı metod)\n",
    "__init__\n",
    "\n",
    "fonksiyonu python'da yapıcı(constructor) fonksiyondur ve sınıftan bir nesne türetildiginde otomatik olarak ilk çağırılan fonksiyondur."
   ]
  },
  {
   "cell_type": "code",
   "execution_count": 15,
   "metadata": {},
   "outputs": [],
   "source": [
    "class Araba():\n",
    "    marka=\"\"\n",
    "    model=\"\"\n",
    "    renk=\"\"\n",
    "    yil=0\n",
    "    \n",
    "    def __init__(self,marka=\"boş\",model=\"boş\",renk=\"boş\",yil=0): #burada self anahtar kelimesi sınıfın kendisini işaret etmektedir.\n",
    "        print(\"init2 cagirildi\")\n",
    "        self.marka=marka\n",
    "        self.model=model\n",
    "        self.renk=renk\n",
    "        self.yil=yil\n",
    "        "
   ]
  },
  {
   "cell_type": "code",
   "execution_count": 16,
   "metadata": {},
   "outputs": [
    {
     "name": "stdout",
     "output_type": "stream",
     "text": [
      "init2 cagirildi\n"
     ]
    }
   ],
   "source": [
    "araba2=Araba()"
   ]
  },
  {
   "cell_type": "code",
   "execution_count": 17,
   "metadata": {},
   "outputs": [
    {
     "name": "stdout",
     "output_type": "stream",
     "text": [
      "boş\n"
     ]
    }
   ],
   "source": [
    "print(araba2.model)"
   ]
  },
  {
   "cell_type": "code",
   "execution_count": 18,
   "metadata": {},
   "outputs": [
    {
     "name": "stdout",
     "output_type": "stream",
     "text": [
      "Help on class Araba in module __main__:\n",
      "\n",
      "class Araba(builtins.object)\n",
      " |  Araba(marka='boş', model='boş', renk='boş', yil=0)\n",
      " |  \n",
      " |  Methods defined here:\n",
      " |  \n",
      " |  __init__(self, marka='boş', model='boş', renk='boş', yil=0)\n",
      " |      Initialize self.  See help(type(self)) for accurate signature.\n",
      " |  \n",
      " |  ----------------------------------------------------------------------\n",
      " |  Data descriptors defined here:\n",
      " |  \n",
      " |  __dict__\n",
      " |      dictionary for instance variables (if defined)\n",
      " |  \n",
      " |  __weakref__\n",
      " |      list of weak references to the object (if defined)\n",
      " |  \n",
      " |  ----------------------------------------------------------------------\n",
      " |  Data and other attributes defined here:\n",
      " |  \n",
      " |  marka = ''\n",
      " |  \n",
      " |  model = ''\n",
      " |  \n",
      " |  renk = ''\n",
      " |  \n",
      " |  yil = 0\n",
      "\n"
     ]
    }
   ],
   "source": [
    "help(Araba)"
   ]
  },
  {
   "cell_type": "code",
   "execution_count": 19,
   "metadata": {},
   "outputs": [
    {
     "name": "stdout",
     "output_type": "stream",
     "text": [
      "init2 cagirildi\n"
     ]
    }
   ],
   "source": [
    "araba3=Araba(\"Tofaş\",\"Şahin\",\"Beyaz\",2000)"
   ]
  },
  {
   "cell_type": "code",
   "execution_count": 20,
   "metadata": {},
   "outputs": [
    {
     "name": "stdout",
     "output_type": "stream",
     "text": [
      "Beyaz\n"
     ]
    }
   ],
   "source": [
    "print(araba3.renk)"
   ]
  },
  {
   "cell_type": "code",
   "execution_count": 23,
   "metadata": {},
   "outputs": [],
   "source": [
    "class Araba():\n",
    "   \n",
    "    def __init__(self,marka=\"boş\",model=\"boş\",renk=\"boş\",yil=0): #burada self anahtar kelimesi sınıfın kendisini işaret etmektedir.\n",
    "        print(\"init3 cagirildi\")\n",
    "        self.marka=marka\n",
    "        self.model=model\n",
    "        self.renk=renk\n",
    "        self.yil=yil"
   ]
  },
  {
   "cell_type": "code",
   "execution_count": 25,
   "metadata": {},
   "outputs": [
    {
     "name": "stdout",
     "output_type": "stream",
     "text": [
      "init3 cagirildi\n",
      "Şahin\n"
     ]
    }
   ],
   "source": [
    "araba4=Araba(\"Tofaş\",\"Şahin\",\"Beyaz\",2000)\n",
    "print(araba4.model)"
   ]
  },
  {
   "cell_type": "markdown",
   "metadata": {},
   "source": [
    "### 13.3. Sınıf içinde metod tanımlama"
   ]
  },
  {
   "cell_type": "code",
   "execution_count": 27,
   "metadata": {},
   "outputs": [],
   "source": [
    "class Araba():\n",
    "    def __init__(self,marka=\"boş\",model=\"boş\",renk=\"boş\",yil=0,km=0): \n",
    "        print(\"init3 cagirildi\")\n",
    "        self.marka=marka\n",
    "        self.model=model\n",
    "        self.renk=renk\n",
    "        self.yil=yil\n",
    "        self.km=km\n",
    "        \n",
    "    def bilgiler(self):\n",
    "        return \"\"\"\n",
    "        Araba Özellikleri\n",
    "        --------------------\n",
    "        Marka: {}\n",
    "        Model: {}\n",
    "        Renk:  {}\n",
    "        Yıl:   {}\n",
    "        Km:    {}\n",
    "        \"\"\".format(self.marka,self.model,self.renk,self.yil,self.km)\n",
    "    \n",
    "    def kmCek(self,sayi):\n",
    "        self.km-=sayi"
   ]
  },
  {
   "cell_type": "code",
   "execution_count": 28,
   "metadata": {},
   "outputs": [
    {
     "name": "stdout",
     "output_type": "stream",
     "text": [
      "init3 cagirildi\n"
     ]
    }
   ],
   "source": [
    "araba5=Araba(\"Tofaş\",\"Şahin\",\"Beyaz\",2000,300000)"
   ]
  },
  {
   "cell_type": "code",
   "execution_count": 29,
   "metadata": {},
   "outputs": [
    {
     "name": "stdout",
     "output_type": "stream",
     "text": [
      "\n",
      "        Araba Özellikleri\n",
      "        --------------------\n",
      "        Marka: Tofaş\n",
      "        Model: Şahin\n",
      "        Renk:  Beyaz\n",
      "        Yıl:   2000\n",
      "        Km:    300000\n",
      "        \n"
     ]
    }
   ],
   "source": [
    "print(araba5.bilgiler())"
   ]
  },
  {
   "cell_type": "code",
   "execution_count": null,
   "metadata": {},
   "outputs": [],
   "source": [
    "araba5.kmCek(50000)\n",
    "print(araba5.bilgiler())"
   ]
  },
  {
   "cell_type": "code",
   "execution_count": 32,
   "metadata": {},
   "outputs": [
    {
     "name": "stdout",
     "output_type": "stream",
     "text": [
      "init3 cagirildi\n",
      "init3 cagirildi\n"
     ]
    }
   ],
   "source": [
    "araba6=Araba(\"Tofaş\",\"Şahin\",\"Beyaz\",2000,300000)\n",
    "araba7=Araba(\"Pejo\",\"106\",\"gri\",2002,220000)"
   ]
  },
  {
   "cell_type": "code",
   "execution_count": 33,
   "metadata": {},
   "outputs": [
    {
     "name": "stdout",
     "output_type": "stream",
     "text": [
      "\n",
      "        Araba Özellikleri\n",
      "        --------------------\n",
      "        Marka: Tofaş\n",
      "        Model: Şahin\n",
      "        Renk:  Beyaz\n",
      "        Yıl:   2000\n",
      "        Km:    300000\n",
      "        \n",
      "\n",
      "        Araba Özellikleri\n",
      "        --------------------\n",
      "        Marka: Pejo\n",
      "        Model: 106\n",
      "        Renk:  gri\n",
      "        Yıl:   2002\n",
      "        Km:    220000\n",
      "        \n"
     ]
    }
   ],
   "source": [
    "print(araba6.bilgiler())\n",
    "print(araba7.bilgiler())"
   ]
  },
  {
   "cell_type": "markdown",
   "metadata": {},
   "source": [
    "### 13.4. Miras Alma - Kalıtım (Inheritance)\n",
    "\n",
    "Inheritance (Miras Alma, Kalıtım), bir nesnenin özelliklerinin farklı nesneler tarafından da kullanılabilmesine olanak saglayan OOP özelliğidir. Yazılan bir sınıf başka bir sınıf tarafından miras alınabilir. Bu işlem yapıldığı zaman temel alınan sınıfın tüm özellikleri yeni sınıfa aktarılır."
   ]
  },
  {
   "cell_type": "code",
   "execution_count": 36,
   "metadata": {},
   "outputs": [],
   "source": [
    "class Calisan():\n",
    "    def __init__(self,isim,maas,departman):\n",
    "        print(\"çalışan sınıfının init fonksiyonu çalıştı\")\n",
    "        self.isim=isim\n",
    "        self.maas=maas\n",
    "        self.departman=departman\n",
    "    \n",
    "    def bilgiGoster(self):\n",
    "        print(\"çalışan sınıfının bilgileri...\")\n",
    "        print(\"İsim: {} \\nMaaş: {} \\nDepartman: {}\".format(self.isim,self.maas,self.departman))\n",
    "    \n",
    "    def departmanDegistir(self,yeniDepartman):\n",
    "        print(\"calsan departman degisiyor...\")\n",
    "        self.departman=yeniDepartman\n",
    "              "
   ]
  },
  {
   "cell_type": "code",
   "execution_count": 37,
   "metadata": {},
   "outputs": [],
   "source": [
    "class Yonetici(Calisan):\n",
    "    pass"
   ]
  },
  {
   "cell_type": "code",
   "execution_count": 38,
   "metadata": {},
   "outputs": [
    {
     "name": "stdout",
     "output_type": "stream",
     "text": [
      "çalışan sınıfının init fonksiyonu çalıştı\n",
      "çalışan sınıfının bilgileri...\n",
      "İsim: ali \n",
      "Maaş: 30000 \n",
      "Departman: it\n"
     ]
    }
   ],
   "source": [
    "calisan1=Calisan(\"ali\",30000,\"it\")\n",
    "calisan1.bilgiGoster()"
   ]
  },
  {
   "cell_type": "code",
   "execution_count": 39,
   "metadata": {},
   "outputs": [
    {
     "name": "stdout",
     "output_type": "stream",
     "text": [
      "Help on class Yonetici in module __main__:\n",
      "\n",
      "class Yonetici(Calisan)\n",
      " |  Yonetici(isim, maas, departman)\n",
      " |  \n",
      " |  Method resolution order:\n",
      " |      Yonetici\n",
      " |      Calisan\n",
      " |      builtins.object\n",
      " |  \n",
      " |  Methods inherited from Calisan:\n",
      " |  \n",
      " |  __init__(self, isim, maas, departman)\n",
      " |      Initialize self.  See help(type(self)) for accurate signature.\n",
      " |  \n",
      " |  bilgiGoster(self)\n",
      " |  \n",
      " |  departmanDegistir(self, yeniDepartman)\n",
      " |  \n",
      " |  ----------------------------------------------------------------------\n",
      " |  Data descriptors inherited from Calisan:\n",
      " |  \n",
      " |  __dict__\n",
      " |      dictionary for instance variables (if defined)\n",
      " |  \n",
      " |  __weakref__\n",
      " |      list of weak references to the object (if defined)\n",
      "\n"
     ]
    }
   ],
   "source": [
    "help(Yonetici)"
   ]
  },
  {
   "cell_type": "code",
   "execution_count": 40,
   "metadata": {},
   "outputs": [
    {
     "name": "stdout",
     "output_type": "stream",
     "text": [
      "çalışan sınıfının init fonksiyonu çalıştı\n",
      "çalışan sınıfının bilgileri...\n",
      "İsim: veli \n",
      "Maaş: 40000 \n",
      "Departman: ik\n"
     ]
    }
   ],
   "source": [
    "yonetici1=Yonetici(\"veli\",40000,\"ik\")\n",
    "yonetici1.bilgiGoster()"
   ]
  },
  {
   "cell_type": "code",
   "execution_count": 41,
   "metadata": {},
   "outputs": [],
   "source": [
    "class Yonetici(Calisan):\n",
    "    def zamYap(self,zam):\n",
    "        print(\"yoneticiye zamn yapılıyor\")\n",
    "        self.maas+=zam"
   ]
  },
  {
   "cell_type": "code",
   "execution_count": 42,
   "metadata": {},
   "outputs": [
    {
     "name": "stdout",
     "output_type": "stream",
     "text": [
      "çalışan sınıfının init fonksiyonu çalıştı\n",
      "çalışan sınıfının bilgileri...\n",
      "İsim: can \n",
      "Maaş: 30000 \n",
      "Departman: it\n",
      "yoneticiye zamn yapılıyor\n",
      "çalışan sınıfının bilgileri...\n",
      "İsim: can \n",
      "Maaş: 35000 \n",
      "Departman: it\n"
     ]
    }
   ],
   "source": [
    "yonetici2=Yonetici(\"can\",30000,\"it\")\n",
    "yonetici2.bilgiGoster()\n",
    "yonetici2.zamYap(5000)\n",
    "yonetici2.bilgiGoster()"
   ]
  },
  {
   "cell_type": "markdown",
   "metadata": {},
   "source": [
    "### 13.5. Geçersiz Kılma (Override)\n",
    "Nesne Tabanlı Programlama'da, ana sınıftaki bazı metodlara, o sınıftan türetilen yeni sınıflarda ihtiyaç duyulmayabilir ya da bu metodlar üzerinde değişiklikler yapılması gerekebilir. Bu durum genellikle yazılan kodun, bir temel sınıf ve bu sınıftan türetilmiş farklı sınıfları etkileyeceği zamanlarda ortaya çıkar ve Overriding (geçersiz kılma) kullanılarak çözülebilir."
   ]
  },
  {
   "cell_type": "code",
   "execution_count": 43,
   "metadata": {},
   "outputs": [],
   "source": [
    "class Calisan():\n",
    "    def __init__(self,isim,maas,departman):\n",
    "        print(\"çalışan sınıfının init fonksiyonu çalıştı\")\n",
    "        self.isim=isim\n",
    "        self.maas=maas\n",
    "        self.departman=departman\n",
    "    \n",
    "    def bilgiGoster(self):\n",
    "        print(\"çalışan sınıfının bilgileri...\")\n",
    "        print(\"İsim: {} \\nMaaş: {} \\nDepartman: {}\".format(self.isim,self.maas,self.departman))\n",
    "    \n",
    "    def departmanDegistir(self,yeniDepartman):\n",
    "        print(\"calsan departman degisiyor...\")\n",
    "        self.departman=yeniDepartman"
   ]
  },
  {
   "cell_type": "code",
   "execution_count": 52,
   "metadata": {},
   "outputs": [],
   "source": [
    "class Yonetici(Calisan):\n",
    "    def __init__(self,isim,maas,departman,kisiSayisi):\n",
    "        print(\"yönetici sınıfının init fonksiyonu çalıştı\")\n",
    "        self.isim=isim\n",
    "        self.maas=maas\n",
    "        self.departman=departman\n",
    "        self.kisiSayisi=kisiSayisi\n",
    "        \n",
    "    def bilgiGoster(self):\n",
    "        print(\"Yönetici sınıfının bilgileri...\")\n",
    "        print(\"İsim: {} \\nMaaş: {} \\nDepartman: {} \\nÇalışan Sayısı {}\".format(self.isim,self.maas,self.departman,self.kisiSayisi))\n",
    "\n",
    "    def zamYap(self,zam):\n",
    "        print(\"yoneticiye zamn yapılıyor\")\n",
    "        self.maas+=zam"
   ]
  },
  {
   "cell_type": "code",
   "execution_count": 45,
   "metadata": {},
   "outputs": [
    {
     "ename": "TypeError",
     "evalue": "__init__() missing 1 required positional argument: 'kisiSayisi'",
     "output_type": "error",
     "traceback": [
      "\u001b[1;31m---------------------------------------------------------------------------\u001b[0m",
      "\u001b[1;31mTypeError\u001b[0m                                 Traceback (most recent call last)",
      "\u001b[1;32m<ipython-input-45-b5c33f0adf04>\u001b[0m in \u001b[0;36m<module>\u001b[1;34m\u001b[0m\n\u001b[1;32m----> 1\u001b[1;33m \u001b[0myonetici3\u001b[0m\u001b[1;33m=\u001b[0m\u001b[0mYonetici\u001b[0m\u001b[1;33m(\u001b[0m\u001b[1;34m\"ali\"\u001b[0m\u001b[1;33m,\u001b[0m\u001b[1;36m10000\u001b[0m\u001b[1;33m,\u001b[0m\u001b[1;34m\"it\"\u001b[0m\u001b[1;33m)\u001b[0m\u001b[1;33m\u001b[0m\u001b[1;33m\u001b[0m\u001b[0m\n\u001b[0m\u001b[0;32m      2\u001b[0m \u001b[0myonetici3\u001b[0m\u001b[1;33m.\u001b[0m\u001b[0mbilgiGoster\u001b[0m\u001b[1;33m(\u001b[0m\u001b[1;33m)\u001b[0m\u001b[1;33m\u001b[0m\u001b[1;33m\u001b[0m\u001b[0m\n",
      "\u001b[1;31mTypeError\u001b[0m: __init__() missing 1 required positional argument: 'kisiSayisi'"
     ]
    }
   ],
   "source": [
    "yonetici3=Yonetici(\"ali\",10000,\"it\")\n",
    "yonetici3.bilgiGoster()"
   ]
  },
  {
   "cell_type": "code",
   "execution_count": 53,
   "metadata": {},
   "outputs": [
    {
     "name": "stdout",
     "output_type": "stream",
     "text": [
      "yönetici sınıfının init fonksiyonu çalıştı\n",
      "Yönetici sınıfının bilgileri...\n",
      "İsim: ali \n",
      "Maaş: 10000 \n",
      "Departman: it \n",
      "Çalışan Sayısı 5\n"
     ]
    }
   ],
   "source": [
    "yonetici3=Yonetici(\"ali\",10000,\"it\",5)\n",
    "yonetici3.bilgiGoster()"
   ]
  },
  {
   "cell_type": "code",
   "execution_count": 54,
   "metadata": {},
   "outputs": [
    {
     "name": "stdout",
     "output_type": "stream",
     "text": [
      "yoneticiye zamn yapılıyor\n",
      "calsan departman degisiyor...\n",
      "Yönetici sınıfının bilgileri...\n",
      "İsim: ali \n",
      "Maaş: 15000 \n",
      "Departman: ik \n",
      "Çalışan Sayısı 5\n"
     ]
    }
   ],
   "source": [
    "yonetici3.zamYap(5000)\n",
    "yonetici3.departmanDegistir(\"ik\")\n",
    "yonetici3.bilgiGoster()"
   ]
  },
  {
   "cell_type": "markdown",
   "metadata": {},
   "source": [
    "### 13.6. Super Anahtar Kelimesi\n",
    "super anahtar kelimesi özellikle override ettiğimiz bir metodun içinde aynı zamanda miras aldığımız bir metodu kullanmak istersek kullanılabilir. Yani super en genel anlamıyla miras aldığımız sınıfın metodlarını alt sınıflarda kullanmamızı sağlar."
   ]
  },
  {
   "cell_type": "code",
   "execution_count": 56,
   "metadata": {},
   "outputs": [],
   "source": [
    "class Calisan():\n",
    "    def __init__(self,isim,maas,departman):\n",
    "        print(\"çalışan sınıfının init fonksiyonu çalıştı\")\n",
    "        self.isim=isim\n",
    "        self.maas=maas\n",
    "        self.departman=departman\n",
    "    \n",
    "    def bilgiGoster(self):\n",
    "        print(\"çalışan sınıfının bilgileri...\")\n",
    "        print(\"İsim: {} \\nMaaş: {} \\nDepartman: {}\".format(self.isim,self.maas,self.departman))\n",
    "    \n",
    "    def departmanDegistir(self,yeniDepartman):\n",
    "        print(\"calsan departman degisiyor...\")\n",
    "        self.departman=yeniDepartman"
   ]
  },
  {
   "cell_type": "code",
   "execution_count": 57,
   "metadata": {},
   "outputs": [],
   "source": [
    "class Yonetici(Calisan):\n",
    "    def __init__(self,isim,maas,departman,kisiSayisi):\n",
    "        print(\"yönetici sınıfının init fonksiyonu çalıştı\")\n",
    "        super().__init__(isim,maas,departman) #miras alinan siniftan bir metod cagirmak için super anahtar kelimesini kullaniyoruz\n",
    "        self.kisiSayisi=kisiSayisi\n",
    "        \n",
    "    def bilgiGoster(self):\n",
    "        print(\"Yönetici sınıfının bilgileri...\")\n",
    "        print(\"İsim: {} \\nMaaş: {} \\nDepartman: {} \\nÇalışan Sayısı {}\".format(self.isim,self.maas,self.departman,self.kisiSayisi))\n",
    "\n",
    "    def zamYap(self,zam):\n",
    "        print(\"yoneticiye zamn yapılıyor\")\n",
    "        self.maas+=zam"
   ]
  },
  {
   "cell_type": "code",
   "execution_count": 58,
   "metadata": {},
   "outputs": [
    {
     "name": "stdout",
     "output_type": "stream",
     "text": [
      "yönetici sınıfının init fonksiyonu çalıştı\n",
      "çalışan sınıfının init fonksiyonu çalıştı\n",
      "Yönetici sınıfının bilgileri...\n",
      "İsim: veli \n",
      "Maaş: 15000 \n",
      "Departman: yönetim \n",
      "Çalışan Sayısı 100\n"
     ]
    }
   ],
   "source": [
    "yonetici5=Yonetici(\"veli\",15000,\"yönetim\",100)\n",
    "yonetici5.bilgiGoster()"
   ]
  },
  {
   "cell_type": "code",
   "execution_count": null,
   "metadata": {},
   "outputs": [],
   "source": []
  }
 ],
 "metadata": {
  "kernelspec": {
   "display_name": "Python 3 (ipykernel)",
   "language": "python",
   "name": "python3"
  },
  "language_info": {
   "codemirror_mode": {
    "name": "ipython",
    "version": 3
   },
   "file_extension": ".py",
   "mimetype": "text/x-python",
   "name": "python",
   "nbconvert_exporter": "python",
   "pygments_lexer": "ipython3",
   "version": "3.9.12"
  }
 },
 "nbformat": 4,
 "nbformat_minor": 4
}
