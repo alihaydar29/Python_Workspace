{
 "cells": [
  {
   "cell_type": "markdown",
   "metadata": {},
   "source": [
    "## 15. Dosya İşlemleri\n",
    "### 15.1. Dosya Açma\n",
    "\n",
    "Dosya açmak için open() fonksiyonu kullanılır. dosya=open(dosyaAdi,dosyaErisimKipi)\n",
    "\n",
    "Buradaki dosyaErisimKipi, dosyayı okumak için mi yazmak için mi açtığımızı belirtmek için kullanılır.\n",
    "\n",
    "Yazmak için açmak istediğimiz bir dosyayı \"w\" dosyaErisimKipi ile açarız.\n",
    "\n",
    "https://python-istihza.yazbel.com/temel_dosya_islemleri.html#dosyaya-erisme-kipleri"
   ]
  },
  {
   "cell_type": "markdown",
   "metadata": {},
   "source": [
    "### 15.2 \"w\" erişim kipi (write)\n",
    "\"w\" erişim kipi ile bir dosya açmak istediğimizde, dosya daha önce oluşturulmamışsa (dosya yoksa) python tarafından oluşturulur. Daha önce var olan bir dosyayı \"w\" erişim kipi ile açmak istersek var olan dosya silinip yeni bir dosya oluşturulur.\n"
   ]
  },
  {
   "cell_type": "code",
   "execution_count": 2,
   "metadata": {},
   "outputs": [],
   "source": [
    "dosya=open(\"h13_bilgiler.txt\",\"w\")"
   ]
  },
  {
   "cell_type": "markdown",
   "metadata": {},
   "source": [
    "<b>Not:</b> İşimiz bittiğinde muhakkak dosyayı kapatmamız gerekir. Aksi taktirde dosya açık kalacağından ileriki işlemlerde sorun yaşamamız muhtemeldir."
   ]
  },
  {
   "cell_type": "code",
   "execution_count": 3,
   "metadata": {},
   "outputs": [],
   "source": [
    "dosya.close()"
   ]
  },
  {
   "cell_type": "code",
   "execution_count": 5,
   "metadata": {},
   "outputs": [
    {
     "data": {
      "text/plain": [
       "14"
      ]
     },
     "execution_count": 5,
     "metadata": {},
     "output_type": "execute_result"
    }
   ],
   "source": [
    "dosya=open(\"h13_bilgiler.txt\",\"w\")\n",
    "dosya.write(\"merhaba Dünya!\") #out'da gorunen 14, 14 karakterlik bir içerik yazıldığını belirtir."
   ]
  },
  {
   "cell_type": "code",
   "execution_count": 6,
   "metadata": {},
   "outputs": [],
   "source": [
    "dosya.close()"
   ]
  },
  {
   "cell_type": "code",
   "execution_count": 7,
   "metadata": {},
   "outputs": [],
   "source": [
    "#dosyada utf-8 hatası aldık\n",
    "dosya=open(\"h13_bilgiler.txt\",\"w\",encoding=\"utf-8\")\n",
    "dosya.write(\"Merhaba Dünya!\")\n",
    "dosya.close()"
   ]
  },
  {
   "cell_type": "code",
   "execution_count": 9,
   "metadata": {},
   "outputs": [],
   "source": [
    "#var olan dosya tekrar açıldığında silip yeniden oluşturduğundan bilgiler silinecektir.\n",
    "dosya=open(\"h13_bilgiler.txt\",\"w\",encoding=\"utf-8\")\n",
    "dosya.close()"
   ]
  },
  {
   "cell_type": "markdown",
   "metadata": {},
   "source": [
    "### 15.3. \"a\" erişim kipi (append)\n",
    "\"a\" eriğim kipi ile bir dosya açmak istediğimizde dosya daha önce oluşturulmamışsa (dosya yoksa) python tarafından oluşturulur. Daha önce var olan bir dosyayı \"a\" erişim kipi ile açmak istersek dosya ekleme moduyla açılır ve yazma kafası dosyanın en sonuna konumlandırılır."
   ]
  },
  {
   "cell_type": "code",
   "execution_count": 10,
   "metadata": {},
   "outputs": [],
   "source": [
    "dosya=open(\"h13_bilgiler.txt\",\"a\",encoding=\"utf-8\")\n",
    "dosya.write(\"Merhaba Dünya!\")\n",
    "dosya.close()"
   ]
  },
  {
   "cell_type": "code",
   "execution_count": 11,
   "metadata": {},
   "outputs": [],
   "source": [
    "dosya=open(\"h13_bilgiler.txt\",\"a\",encoding=\"utf-8\")\n",
    "dosya.write(\"\\nNasılsın?\")\n",
    "dosya.close()"
   ]
  },
  {
   "cell_type": "markdown",
   "metadata": {},
   "source": [
    "### 15.4. \"r\" erişim kipi (read)\n",
    "Var olan bir dosyadan bilgileri okumak için kullanılan kiptir, dosya yoksa fileNotFound hatası döner."
   ]
  },
  {
   "cell_type": "code",
   "execution_count": 12,
   "metadata": {},
   "outputs": [
    {
     "ename": "FileNotFoundError",
     "evalue": "[Errno 2] No such file or directory: 'bilgiler.txt'",
     "output_type": "error",
     "traceback": [
      "\u001b[1;31m---------------------------------------------------------------------------\u001b[0m",
      "\u001b[1;31mFileNotFoundError\u001b[0m                         Traceback (most recent call last)",
      "\u001b[1;32m<ipython-input-12-344508310fda>\u001b[0m in \u001b[0;36m<module>\u001b[1;34m\u001b[0m\n\u001b[1;32m----> 1\u001b[1;33m \u001b[0mdosya\u001b[0m\u001b[1;33m=\u001b[0m\u001b[0mopen\u001b[0m\u001b[1;33m(\u001b[0m\u001b[1;34m\"bilgiler.txt\"\u001b[0m\u001b[1;33m,\u001b[0m\u001b[1;34m\"r\"\u001b[0m\u001b[1;33m)\u001b[0m\u001b[1;33m\u001b[0m\u001b[1;33m\u001b[0m\u001b[0m\n\u001b[0m",
      "\u001b[1;31mFileNotFoundError\u001b[0m: [Errno 2] No such file or directory: 'bilgiler.txt'"
     ]
    }
   ],
   "source": [
    "dosya=open(\"bilgiler.txt\",\"r\")"
   ]
  },
  {
   "cell_type": "code",
   "execution_count": 13,
   "metadata": {},
   "outputs": [
    {
     "name": "stdout",
     "output_type": "stream",
     "text": [
      "Merhaba Dünya!\n",
      "\n",
      "Nasılsın?\n"
     ]
    }
   ],
   "source": [
    "dosya=open(\"h13_bilgiler.txt\",\"r\",encoding=\"utf-8\")\n",
    "for i in dosya:\n",
    "    print(i) # her okumanın ardından python default olarak \\n koyar\n",
    "dosya.close()"
   ]
  },
  {
   "cell_type": "code",
   "execution_count": 14,
   "metadata": {},
   "outputs": [
    {
     "name": "stdout",
     "output_type": "stream",
     "text": [
      "Merhaba Dünya!\n",
      "Nasılsın?"
     ]
    }
   ],
   "source": [
    "dosya=open(\"h13_bilgiler.txt\",\"r\",encoding=\"utf-8\")\n",
    "for i in dosya:\n",
    "    print(i,end=\"\") # her okumanın ardından python default olarak \\n koyar\n",
    "dosya.close()"
   ]
  },
  {
   "cell_type": "code",
   "execution_count": 15,
   "metadata": {},
   "outputs": [
    {
     "name": "stdout",
     "output_type": "stream",
     "text": [
      "Merhaba Dünya!\n",
      "Nasılsın?\n"
     ]
    }
   ],
   "source": [
    "dosya=open(\"h13_bilgiler.txt\",\"r\",encoding=\"utf-8\")\n",
    "icerik=dosya.read()\n",
    "dosya.close()\n",
    "print(icerik)"
   ]
  },
  {
   "cell_type": "markdown",
   "metadata": {},
   "source": [
    "### 15.5. readline() fonksiyonu\n",
    "Her çalıştığında dosyadan bir satır okur"
   ]
  },
  {
   "cell_type": "code",
   "execution_count": 17,
   "metadata": {},
   "outputs": [
    {
     "name": "stdout",
     "output_type": "stream",
     "text": [
      "Merhaba Dünya!\n",
      "\n",
      "Nasılsın?\n"
     ]
    }
   ],
   "source": [
    "dosya=open(\"h13_bilgiler.txt\",\"r\",encoding=\"utf-8\")\n",
    "icerik=dosya.readline()\n",
    "print(icerik)\n",
    "icerik=dosya.readline()\n",
    "print(icerik)\n",
    "dosya.close()"
   ]
  },
  {
   "cell_type": "code",
   "execution_count": 18,
   "metadata": {},
   "outputs": [
    {
     "name": "stdout",
     "output_type": "stream",
     "text": [
      "Merhaba Dünya!\n",
      "\n",
      "Nasılsın?\n",
      "\n",
      "\n",
      "\n",
      "\n"
     ]
    }
   ],
   "source": [
    "dosya=open(\"h13_bilgiler.txt\",\"r\",encoding=\"utf-8\")\n",
    "icerik=dosya.readline()\n",
    "print(icerik)\n",
    "icerik=dosya.readline()\n",
    "print(icerik)\n",
    "icerik=dosya.readline()\n",
    "print(icerik)\n",
    "icerik=dosya.readline()\n",
    "print(icerik)\n",
    "icerik=dosya.readline()\n",
    "print(icerik)\n",
    "icerik=dosya.readline()\n",
    "print(icerik)\n",
    "dosya.close()"
   ]
  },
  {
   "cell_type": "markdown",
   "metadata": {},
   "source": [
    "### 15.6. readlines() fonksiyonu\n",
    "okuduğumuz dökümandaki tüm içeriği satırlar halinde okur ve bir listeye atar."
   ]
  },
  {
   "cell_type": "code",
   "execution_count": 19,
   "metadata": {},
   "outputs": [
    {
     "name": "stdout",
     "output_type": "stream",
     "text": [
      "['Merhaba Dünya!\\n', 'Nasılsın?']\n"
     ]
    }
   ],
   "source": [
    "dosya=open(\"h13_bilgiler.txt\",\"r\",encoding=\"utf-8\")\n",
    "icerik=dosya.readlines()\n",
    "dosya.close()\n",
    "print(icerik)"
   ]
  },
  {
   "cell_type": "markdown",
   "metadata": {},
   "source": [
    "### 15.7. Dosyanın otomatik kapatılması\n",
    "<b>with</b> deyimiyle açılan dosya, işlem bittiğinde otomatik olarak kapatılır."
   ]
  },
  {
   "cell_type": "code",
   "execution_count": 20,
   "metadata": {},
   "outputs": [
    {
     "name": "stdout",
     "output_type": "stream",
     "text": [
      "Merhaba Dünya!\n",
      "Nasılsın?"
     ]
    }
   ],
   "source": [
    "with open(\"h13_bilgiler.txt\",\"r\",encoding=\"utf-8\") as dosya:\n",
    "    for i in dosya:\n",
    "        print(i,end=\"\")"
   ]
  },
  {
   "cell_type": "markdown",
   "metadata": {},
   "source": [
    "### 15.8. Dosya içerisinde gezinme (tell() ve seek() fonksiyonları)\n",
    "okuma kafasının nerede olduğunu öğrenmek için <b>tell()</b> fonksiyonu kullanılır. Okuma kafasının istenilen bir konuma yerleştirilmesi ise <b>seek()</b> fonksiyonu ile gerçekleştirilir.\n"
   ]
  },
  {
   "cell_type": "code",
   "execution_count": 21,
   "metadata": {},
   "outputs": [
    {
     "name": "stdout",
     "output_type": "stream",
     "text": [
      "0\n"
     ]
    }
   ],
   "source": [
    "with open(\"h13_bilgiler.txt\",\"r\",encoding=\"utf-8\") as dosya:\n",
    "    print(dosya.tell())"
   ]
  },
  {
   "cell_type": "code",
   "execution_count": 22,
   "metadata": {},
   "outputs": [
    {
     "name": "stdout",
     "output_type": "stream",
     "text": [
      "0\n",
      "10\n"
     ]
    }
   ],
   "source": [
    "with open(\"h13_bilgiler.txt\",\"r\",encoding=\"utf-8\") as dosya:\n",
    "    print(dosya.tell())\n",
    "    dosya.seek(10)\n",
    "    print(dosya.tell())"
   ]
  },
  {
   "cell_type": "code",
   "execution_count": 23,
   "metadata": {},
   "outputs": [
    {
     "name": "stdout",
     "output_type": "stream",
     "text": [
      "Dünya!\n",
      "15\n",
      "Merhaba Dünya!\n",
      "\n"
     ]
    }
   ],
   "source": [
    "with open(\"h13_bilgiler.txt\",\"r\",encoding=\"utf-8\") as dosya:\n",
    "    dosya.seek(8)\n",
    "    icerik=dosya.read(6)\n",
    "    print(icerik)\n",
    "    print(dosya.tell())\n",
    "    dosya.seek(0)\n",
    "    icerik=dosya.read(15)\n",
    "    print(icerik)"
   ]
  },
  {
   "cell_type": "markdown",
   "metadata": {},
   "source": [
    "### 15.9. \"r+\" erişim kipi (read-write)\n",
    "Dosyayı hem okuma hem de yazma kipinde açar."
   ]
  },
  {
   "cell_type": "code",
   "execution_count": 24,
   "metadata": {},
   "outputs": [
    {
     "name": "stdout",
     "output_type": "stream",
     "text": [
      "Nasılsın?\n"
     ]
    }
   ],
   "source": [
    "with open(\"h13_bilgiler.txt\",\"r+\",encoding=\"utf-8\") as dosya:\n",
    "    dosya.seek(17)\n",
    "    print(dosya.read())"
   ]
  },
  {
   "cell_type": "code",
   "execution_count": 25,
   "metadata": {},
   "outputs": [],
   "source": [
    "with open(\"h13_bilgiler.txt\",\"r+\",encoding=\"utf-8\") as dosya:\n",
    "    dosya.seek(17)\n",
    "    dosya.write(\"Bugün \") #varolan bilginin üzerine yazar, bunun yerine insert gibi bir yapi kullanmamız gerekir. "
   ]
  },
  {
   "cell_type": "code",
   "execution_count": 26,
   "metadata": {},
   "outputs": [
    {
     "name": "stdout",
     "output_type": "stream",
     "text": [
      "Merhaba Dünya!\n",
      "Bugün ın?\n"
     ]
    }
   ],
   "source": [
    "with open(\"h13_bilgiler.txt\",\"r+\",encoding=\"utf-8\") as dosya:\n",
    "    print(dosya.read())"
   ]
  },
  {
   "cell_type": "code",
   "execution_count": 27,
   "metadata": {},
   "outputs": [],
   "source": [
    "with open(\"h13_bilgiler.txt\",\"r+\",encoding=\"utf-8\") as dosya:\n",
    "    icerik=dosya.read()\n",
    "    icerik=\"hoşgeldiniz\\n\" + icerik\n",
    "    dosya.seek(0)\n",
    "    dosya.write(icerik)"
   ]
  },
  {
   "cell_type": "code",
   "execution_count": 28,
   "metadata": {},
   "outputs": [
    {
     "name": "stdout",
     "output_type": "stream",
     "text": [
      "hoşgeldiniz\n",
      "Merhaba Dünya!\n",
      "Bugün ın?\n"
     ]
    }
   ],
   "source": [
    "with open(\"h13_bilgiler.txt\",\"r+\",encoding=\"utf-8\") as dosya:\n",
    "    print(dosya.read())"
   ]
  },
  {
   "cell_type": "code",
   "execution_count": 29,
   "metadata": {},
   "outputs": [],
   "source": [
    "with open(\"h13_bilgiler.txt\",\"r+\",encoding=\"utf-8\") as dosya:\n",
    "    icerik=dosya.readlines()\n",
    "    icerik.insert(2,\"Mars\\n\")\n",
    "    dosya.seek(0)\n",
    "    dosya.writelines(icerik)"
   ]
  },
  {
   "cell_type": "code",
   "execution_count": 30,
   "metadata": {},
   "outputs": [
    {
     "name": "stdout",
     "output_type": "stream",
     "text": [
      "hoşgeldiniz\n",
      "Merhaba Dünya!\n",
      "Mars\n",
      "Bugün ın?\n"
     ]
    }
   ],
   "source": [
    "with open(\"h13_bilgiler.txt\",\"r+\",encoding=\"utf-8\") as dosya:\n",
    "    print(dosya.read())"
   ]
  },
  {
   "cell_type": "markdown",
   "metadata": {},
   "source": [
    "### 15.10 Örnek Uygulama\n"
   ]
  },
  {
   "cell_type": "code",
   "execution_count": 32,
   "metadata": {},
   "outputs": [],
   "source": [
    "#ornek dosyanın oluşturulması\n",
    "dosya=open(\"h13_dosyaIslemOrnek.txt\",\"w\",encoding=\"utf-8\")\n",
    "dosya.write(\"Ali Can,70,90\\n\")\n",
    "dosya.write(\"Veli Cem,90,80\\n\")\n",
    "dosya.write(\"Ahmet Kalem,60,30\\n\")\n",
    "dosya.write(\"Zeynep Masa,80,40\\n\")\n",
    "dosya.write(\"Ayşe Işık,70,20\\n\")\n",
    "dosya.write(\"Hasan Kara,90,90\\n\")\n",
    "dosya.write(\"Merve Ak,40,30\\n\")\n",
    "dosya.write(\"Levent Kırmızı,50,70\\n\")\n",
    "dosya.write(\"Mehmet Sarı,70,60\\n\")\n",
    "dosya.write(\"Lale Sarı,20,80\\n\")\n",
    "dosya.write(\"Hüseyin Mor,40,10\\n\")\n",
    "dosya.write(\"Osman Mavi,10,10\\n\")\n",
    "dosya.close()"
   ]
  },
  {
   "cell_type": "code",
   "execution_count": 36,
   "metadata": {},
   "outputs": [
    {
     "name": "stdout",
     "output_type": "stream",
     "text": [
      "Ali Can:\t\t\tBB\n",
      "\n",
      "Veli Cem:\t\t\tBB\n",
      "\n",
      "Ahmet Kalem:\t\t\tFF\n",
      "\n",
      "Zeynep Masa:\t\t\tDD\n",
      "\n",
      "Ayşe Işık:\t\t\tFF\n",
      "\n",
      "Hasan Kara:\t\t\tAA\n",
      "\n",
      "Merve Ak:\t\t\tFF\n",
      "\n",
      "Levent Kırmızı:\t\t\tDD\n",
      "\n",
      "Mehmet Sarı:\t\t\tDD\n",
      "\n",
      "Lale Sarı:\t\t\tDD\n",
      "\n",
      "Hüseyin Mor:\t\t\tFF\n",
      "\n",
      "Osman Mavi:\t\t\tFF\n",
      "\n"
     ]
    }
   ],
   "source": [
    "def hesapla(satir):\n",
    "    satir=satir[:-1]\n",
    "    liste=satir.split(\",\")\n",
    "    isim=liste[0]\n",
    "    vize=int(liste[1])\n",
    "    final=int(liste[2])\n",
    "    ort=vize*0.4+final*0.6\n",
    "    if(ort>=90):\n",
    "        harf=\"AA\"\n",
    "    elif(ort>=85):\n",
    "        harf=\"BA\"\n",
    "    elif(ort>=80):\n",
    "        harf=\"BB\"\n",
    "    elif(ort>=75):\n",
    "        harf=\"CB\"\n",
    "    elif(ort>=70):\n",
    "        harf=\"CC\"\n",
    "    elif(ort>=65):\n",
    "        harf=\"DC\"\n",
    "    elif(ort>=50):\n",
    "        harf=\"DD\"\n",
    "    else:\n",
    "        harf=\"FF\"\n",
    "        \n",
    "    return isim + \":\\t\\t\\t\" + harf + \"\\n\"\n",
    "\n",
    "\n",
    "with open(\"h13_dosyaIslemOrnek.txt\",\"r\",encoding=\"utf-8\") as dosya: \n",
    "    icerik=[]\n",
    "    for i in dosya:\n",
    "        icerik.append(hesapla(i))\n",
    "        \n",
    "print(*icerik,sep=\"\\n\")"
   ]
  },
  {
   "cell_type": "code",
   "execution_count": null,
   "metadata": {},
   "outputs": [],
   "source": []
  }
 ],
 "metadata": {
  "kernelspec": {
   "display_name": "Python 3",
   "language": "python",
   "name": "python3"
  },
  "language_info": {
   "codemirror_mode": {
    "name": "ipython",
    "version": 3
   },
   "file_extension": ".py",
   "mimetype": "text/x-python",
   "name": "python",
   "nbconvert_exporter": "python",
   "pygments_lexer": "ipython3",
   "version": "3.7.6"
  }
 },
 "nbformat": 4,
 "nbformat_minor": 4
}
