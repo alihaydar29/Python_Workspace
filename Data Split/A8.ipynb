{
 "cells": [
  {
   "cell_type": "code",
   "execution_count": 1,
   "id": "16ab0939",
   "metadata": {},
   "outputs": [
    {
     "name": "stdout",
     "output_type": "stream",
     "text": [
      "Part 1 Toplam: 5078040579 count: 10147\n",
      "Part 2 Toplam: 5068259560 count: 10049\n",
      "Part 3 Toplam: 5065714278 count: 10097\n",
      "Part 4 Toplam: 5037040869 count: 10065\n",
      "Part 5 Toplam: 5002957300 count: 9971\n",
      "Part 6 Toplam: 4996589689 count: 9950\n",
      "Part 7 Toplam: 4964198970 count: 9911\n",
      "Part 8 Toplam: 4960770010 count: 9976\n",
      "Part 9 Toplam: 4952563094 count: 9970\n",
      "Part 10 Toplam: 4939788259 count: 9864\n"
     ]
    }
   ],
   "source": [
    "import pandas as pd\n",
    "import numpy as np\n",
    "\n",
    "np.random.seed(42)\n",
    "\n",
    "num_rows = 100000\n",
    "column1 = np.random.randint(1, 1000001, size=num_rows)\n",
    "column2 = np.random.randint(10000, 30001, size=num_rows)\n",
    "ids = np.random.randint(1, 11, size=num_rows)\n",
    "\n",
    "data = {'Kume': ids, 'Column1': column1, 'Column2': column2}\n",
    "df = pd.DataFrame(data)\n",
    "\n",
    "sorted_totals = df.groupby('Kume').sum().sort_values('Column1', ascending=False)\n",
    "\n",
    "num_parts = 10\n",
    "max_val_per_chunk = sorted_totals['Column1'].sum() / num_parts\n",
    "chunks = []\n",
    "current_chunk = []\n",
    "current_value = 0\n",
    "for index, row in sorted_totals.iterrows():\n",
    "    if current_value + row['Column1'] > max_val_per_chunk and current_chunk:\n",
    "        chunks.append(current_chunk)\n",
    "        current_value = 0\n",
    "        current_chunk = []\n",
    "    current_value += row['Column1']\n",
    "    current_chunk.append(index)\n",
    "if current_chunk:\n",
    "    chunks.append(current_chunk)\n",
    "\n",
    "result_parts = []\n",
    "for chunk in chunks:\n",
    "    part = df[df['Kume'].isin(chunk)]\n",
    "    result_parts.append(part)\n",
    "\n",
    "for i, part in enumerate(result_parts):\n",
    "    part_total = part['Column1'].sum()\n",
    "    print(f\"Part {i+1} Toplam: {part_total} count: {part.shape[0]}\")\n",
    "    part.to_excel(f'Part_{i+1}.xlsx', index=False)\n"
   ]
  },
  {
   "cell_type": "code",
   "execution_count": null,
   "id": "1851e2c3",
   "metadata": {},
   "outputs": [],
   "source": []
  }
 ],
 "metadata": {
  "kernelspec": {
   "display_name": "Python 3 (ipykernel)",
   "language": "python",
   "name": "python3"
  },
  "language_info": {
   "codemirror_mode": {
    "name": "ipython",
    "version": 3
   },
   "file_extension": ".py",
   "mimetype": "text/x-python",
   "name": "python",
   "nbconvert_exporter": "python",
   "pygments_lexer": "ipython3",
   "version": "3.9.7"
  }
 },
 "nbformat": 4,
 "nbformat_minor": 5
}
